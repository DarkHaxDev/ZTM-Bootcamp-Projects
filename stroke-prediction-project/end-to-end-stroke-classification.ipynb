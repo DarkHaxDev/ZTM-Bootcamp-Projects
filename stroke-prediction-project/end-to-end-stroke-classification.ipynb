{
 "cells": [
  {
   "cell_type": "markdown",
   "id": "cbab4652",
   "metadata": {},
   "source": [
    "# Predicting heart disease using machine learning.\n",
    "\n",
    "This notebook is practice for classification projects. In particular, this notebook predicts whether a patient has had a stroke or not.\n",
    "\n",
    "We're going to take the following approach:\n",
    "\n",
    "1. Problem Definition\n",
    "2. Data\n",
    "3. Evaluation\n",
    "4. Features\n",
    "5. Modelling\n",
    "6. Experimentation"
   ]
  },
  {
   "cell_type": "markdown",
   "id": "c5a49bdd",
   "metadata": {},
   "source": [
    "## Problem Definition\n",
    "\n",
    "In a statement,\n",
    "> Given clinical parameters about a patient, can we predict whether or not they've had a stroke?"
   ]
  },
  {
   "cell_type": "markdown",
   "id": "9f9b5d85",
   "metadata": {},
   "source": [
    "## Data\n",
    "\n",
    "From a confidential source. Located on Kaggle: https://www.kaggle.com/datasets/fedesoriano/stroke-prediction-dataset\n"
   ]
  },
  {
   "cell_type": "markdown",
   "id": "624c59fa",
   "metadata": {},
   "source": [
    "## Evaluation\n",
    "\n",
    "> We want to pursue this project if the proof of concept gets an initial accuracy of about 95%."
   ]
  },
  {
   "cell_type": "markdown",
   "id": "3b7478b4",
   "metadata": {},
   "source": [
    "## Features\n",
    "\n",
    "1. id\n",
    "    1. unique identifier\n",
    "2. gender\n",
    "    1. \"Male\", \"Female\" or \"Other\"\n",
    "3. age\n",
    "    1. age of the patient\n",
    "4. hypertension\n",
    "    1. 0 if the patient doesn't have hypertension\n",
    "    2. 1 if the patient has hypertension\n",
    "5. heart_disease\n",
    "    1. 0 if the patient doesn't have any heart diseases\n",
    "    2. 1 if the patient has a heart disease\n",
    "6. ever_married\n",
    "    1. \"No\" or \"Yes\"\n",
    "7. work_type\n",
    "    1. \"children\", \"Govt_jov\", \"Never_worked\", \"Private\" or \"Self-employed\"\n",
    "8. Residence_type\n",
    "    1. \"Rural\" or \"Urban\"\n",
    "9. avg_glucose_level\n",
    "    1. average glucose level in blood\n",
    "10. bmi\n",
    "    1. body mass index\n",
    "11. smoking_status\n",
    "    1. \"formerly smoked\", \"never smoked\", \"smokes\" or \"Unknown\"*\n",
    "12. stroke **(TARGET LABEL)**\n",
    "    1. 1 if the patient had a stroke\n",
    "    2. 0 if not\n",
    "\n",
    "*Note: \"Unknown\" in **smoking_status** means that the information is unavailable for this patient*"
   ]
  },
  {
   "cell_type": "markdown",
   "id": "ad838c62",
   "metadata": {},
   "source": [
    "## Preparing the Tools\n",
    "\n",
    "We're going to use:\n",
    "\n",
    "1. Pandas\n",
    "2. Matplotlib\n",
    "3. NumPy\n",
    "\n",
    "For data analysis and manipulation."
   ]
  },
  {
   "cell_type": "code",
   "execution_count": 1,
   "id": "2a1b96a9",
   "metadata": {},
   "outputs": [],
   "source": [
    "# import tools\n",
    "\n",
    "\n",
    "import pandas as pd\n",
    "import numpy as np\n",
    "import matplotlib.pyplot as plt\n",
    "import seaborn as sns\n",
    "\n",
    "# For non-funky matplotlib plots\n",
    "\n",
    "%matplotlib inline \n",
    "\n",
    "# Import models from Scikit-learn\n",
    "\n",
    "from sklearn.linear_model import LogisticRegression\n",
    "from sklearn.neighbors import KNeighborsClassifier\n",
    "from sklearn.ensemble import RandomForestClassifier\n",
    "\n",
    "# Data Stuff\n",
    "\n",
    "from sklearn.preprocessing import OneHotEncoder, StandardScaler\n",
    "# Using imbalanced learn pipeline for resampling!\n",
    "from imblearn.pipeline import Pipeline\n",
    "from imblearn.over_sampling import SMOTENC\n",
    "from sklearn.compose import ColumnTransformer\n",
    "from sklearn.impute import SimpleImputer\n",
    "\n",
    "# Model evaluation\n",
    "\n",
    "from sklearn.model_selection import train_test_split, cross_val_score\n",
    "from sklearn.model_selection import RandomizedSearchCV, GridSearchCV\n",
    "from sklearn.metrics import confusion_matrix, classification_report, RocCurveDisplay, ConfusionMatrixDisplay\n",
    "from sklearn.metrics import accuracy_score, precision_score, recall_score, f1_score"
   ]
  },
  {
   "cell_type": "markdown",
   "id": "f6eb53e0",
   "metadata": {},
   "source": [
    "## Load Data"
   ]
  },
  {
   "cell_type": "code",
   "execution_count": 2,
   "id": "7d57a857",
   "metadata": {},
   "outputs": [
    {
     "data": {
      "text/html": [
       "<div>\n",
       "<style scoped>\n",
       "    .dataframe tbody tr th:only-of-type {\n",
       "        vertical-align: middle;\n",
       "    }\n",
       "\n",
       "    .dataframe tbody tr th {\n",
       "        vertical-align: top;\n",
       "    }\n",
       "\n",
       "    .dataframe thead th {\n",
       "        text-align: right;\n",
       "    }\n",
       "</style>\n",
       "<table border=\"1\" class=\"dataframe\">\n",
       "  <thead>\n",
       "    <tr style=\"text-align: right;\">\n",
       "      <th></th>\n",
       "      <th>id</th>\n",
       "      <th>gender</th>\n",
       "      <th>age</th>\n",
       "      <th>hypertension</th>\n",
       "      <th>heart_disease</th>\n",
       "      <th>ever_married</th>\n",
       "      <th>work_type</th>\n",
       "      <th>Residence_type</th>\n",
       "      <th>avg_glucose_level</th>\n",
       "      <th>bmi</th>\n",
       "      <th>smoking_status</th>\n",
       "      <th>stroke</th>\n",
       "    </tr>\n",
       "  </thead>\n",
       "  <tbody>\n",
       "    <tr>\n",
       "      <th>0</th>\n",
       "      <td>9046</td>\n",
       "      <td>Male</td>\n",
       "      <td>67.0</td>\n",
       "      <td>0</td>\n",
       "      <td>1</td>\n",
       "      <td>Yes</td>\n",
       "      <td>Private</td>\n",
       "      <td>Urban</td>\n",
       "      <td>228.69</td>\n",
       "      <td>36.6</td>\n",
       "      <td>formerly smoked</td>\n",
       "      <td>1</td>\n",
       "    </tr>\n",
       "    <tr>\n",
       "      <th>1</th>\n",
       "      <td>51676</td>\n",
       "      <td>Female</td>\n",
       "      <td>61.0</td>\n",
       "      <td>0</td>\n",
       "      <td>0</td>\n",
       "      <td>Yes</td>\n",
       "      <td>Self-employed</td>\n",
       "      <td>Rural</td>\n",
       "      <td>202.21</td>\n",
       "      <td>NaN</td>\n",
       "      <td>never smoked</td>\n",
       "      <td>1</td>\n",
       "    </tr>\n",
       "    <tr>\n",
       "      <th>2</th>\n",
       "      <td>31112</td>\n",
       "      <td>Male</td>\n",
       "      <td>80.0</td>\n",
       "      <td>0</td>\n",
       "      <td>1</td>\n",
       "      <td>Yes</td>\n",
       "      <td>Private</td>\n",
       "      <td>Rural</td>\n",
       "      <td>105.92</td>\n",
       "      <td>32.5</td>\n",
       "      <td>never smoked</td>\n",
       "      <td>1</td>\n",
       "    </tr>\n",
       "    <tr>\n",
       "      <th>3</th>\n",
       "      <td>60182</td>\n",
       "      <td>Female</td>\n",
       "      <td>49.0</td>\n",
       "      <td>0</td>\n",
       "      <td>0</td>\n",
       "      <td>Yes</td>\n",
       "      <td>Private</td>\n",
       "      <td>Urban</td>\n",
       "      <td>171.23</td>\n",
       "      <td>34.4</td>\n",
       "      <td>smokes</td>\n",
       "      <td>1</td>\n",
       "    </tr>\n",
       "    <tr>\n",
       "      <th>4</th>\n",
       "      <td>1665</td>\n",
       "      <td>Female</td>\n",
       "      <td>79.0</td>\n",
       "      <td>1</td>\n",
       "      <td>0</td>\n",
       "      <td>Yes</td>\n",
       "      <td>Self-employed</td>\n",
       "      <td>Rural</td>\n",
       "      <td>174.12</td>\n",
       "      <td>24.0</td>\n",
       "      <td>never smoked</td>\n",
       "      <td>1</td>\n",
       "    </tr>\n",
       "    <tr>\n",
       "      <th>...</th>\n",
       "      <td>...</td>\n",
       "      <td>...</td>\n",
       "      <td>...</td>\n",
       "      <td>...</td>\n",
       "      <td>...</td>\n",
       "      <td>...</td>\n",
       "      <td>...</td>\n",
       "      <td>...</td>\n",
       "      <td>...</td>\n",
       "      <td>...</td>\n",
       "      <td>...</td>\n",
       "      <td>...</td>\n",
       "    </tr>\n",
       "    <tr>\n",
       "      <th>5105</th>\n",
       "      <td>18234</td>\n",
       "      <td>Female</td>\n",
       "      <td>80.0</td>\n",
       "      <td>1</td>\n",
       "      <td>0</td>\n",
       "      <td>Yes</td>\n",
       "      <td>Private</td>\n",
       "      <td>Urban</td>\n",
       "      <td>83.75</td>\n",
       "      <td>NaN</td>\n",
       "      <td>never smoked</td>\n",
       "      <td>0</td>\n",
       "    </tr>\n",
       "    <tr>\n",
       "      <th>5106</th>\n",
       "      <td>44873</td>\n",
       "      <td>Female</td>\n",
       "      <td>81.0</td>\n",
       "      <td>0</td>\n",
       "      <td>0</td>\n",
       "      <td>Yes</td>\n",
       "      <td>Self-employed</td>\n",
       "      <td>Urban</td>\n",
       "      <td>125.20</td>\n",
       "      <td>40.0</td>\n",
       "      <td>never smoked</td>\n",
       "      <td>0</td>\n",
       "    </tr>\n",
       "    <tr>\n",
       "      <th>5107</th>\n",
       "      <td>19723</td>\n",
       "      <td>Female</td>\n",
       "      <td>35.0</td>\n",
       "      <td>0</td>\n",
       "      <td>0</td>\n",
       "      <td>Yes</td>\n",
       "      <td>Self-employed</td>\n",
       "      <td>Rural</td>\n",
       "      <td>82.99</td>\n",
       "      <td>30.6</td>\n",
       "      <td>never smoked</td>\n",
       "      <td>0</td>\n",
       "    </tr>\n",
       "    <tr>\n",
       "      <th>5108</th>\n",
       "      <td>37544</td>\n",
       "      <td>Male</td>\n",
       "      <td>51.0</td>\n",
       "      <td>0</td>\n",
       "      <td>0</td>\n",
       "      <td>Yes</td>\n",
       "      <td>Private</td>\n",
       "      <td>Rural</td>\n",
       "      <td>166.29</td>\n",
       "      <td>25.6</td>\n",
       "      <td>formerly smoked</td>\n",
       "      <td>0</td>\n",
       "    </tr>\n",
       "    <tr>\n",
       "      <th>5109</th>\n",
       "      <td>44679</td>\n",
       "      <td>Female</td>\n",
       "      <td>44.0</td>\n",
       "      <td>0</td>\n",
       "      <td>0</td>\n",
       "      <td>Yes</td>\n",
       "      <td>Govt_job</td>\n",
       "      <td>Urban</td>\n",
       "      <td>85.28</td>\n",
       "      <td>26.2</td>\n",
       "      <td>Unknown</td>\n",
       "      <td>0</td>\n",
       "    </tr>\n",
       "  </tbody>\n",
       "</table>\n",
       "<p>5110 rows × 12 columns</p>\n",
       "</div>"
      ],
      "text/plain": [
       "         id  gender   age  hypertension  heart_disease ever_married  \\\n",
       "0      9046    Male  67.0             0              1          Yes   \n",
       "1     51676  Female  61.0             0              0          Yes   \n",
       "2     31112    Male  80.0             0              1          Yes   \n",
       "3     60182  Female  49.0             0              0          Yes   \n",
       "4      1665  Female  79.0             1              0          Yes   \n",
       "...     ...     ...   ...           ...            ...          ...   \n",
       "5105  18234  Female  80.0             1              0          Yes   \n",
       "5106  44873  Female  81.0             0              0          Yes   \n",
       "5107  19723  Female  35.0             0              0          Yes   \n",
       "5108  37544    Male  51.0             0              0          Yes   \n",
       "5109  44679  Female  44.0             0              0          Yes   \n",
       "\n",
       "          work_type Residence_type  avg_glucose_level   bmi   smoking_status  \\\n",
       "0           Private          Urban             228.69  36.6  formerly smoked   \n",
       "1     Self-employed          Rural             202.21   NaN     never smoked   \n",
       "2           Private          Rural             105.92  32.5     never smoked   \n",
       "3           Private          Urban             171.23  34.4           smokes   \n",
       "4     Self-employed          Rural             174.12  24.0     never smoked   \n",
       "...             ...            ...                ...   ...              ...   \n",
       "5105        Private          Urban              83.75   NaN     never smoked   \n",
       "5106  Self-employed          Urban             125.20  40.0     never smoked   \n",
       "5107  Self-employed          Rural              82.99  30.6     never smoked   \n",
       "5108        Private          Rural             166.29  25.6  formerly smoked   \n",
       "5109       Govt_job          Urban              85.28  26.2          Unknown   \n",
       "\n",
       "      stroke  \n",
       "0          1  \n",
       "1          1  \n",
       "2          1  \n",
       "3          1  \n",
       "4          1  \n",
       "...      ...  \n",
       "5105       0  \n",
       "5106       0  \n",
       "5107       0  \n",
       "5108       0  \n",
       "5109       0  \n",
       "\n",
       "[5110 rows x 12 columns]"
      ]
     },
     "execution_count": 2,
     "metadata": {},
     "output_type": "execute_result"
    }
   ],
   "source": [
    "df = pd.read_csv(\"healthcare-dataset-stroke-data.csv\")\n",
    "df"
   ]
  },
  {
   "cell_type": "code",
   "execution_count": 3,
   "id": "3467ad1f",
   "metadata": {},
   "outputs": [
    {
     "data": {
      "text/plain": [
       "id                     0\n",
       "gender                 0\n",
       "age                    0\n",
       "hypertension           0\n",
       "heart_disease          0\n",
       "ever_married           0\n",
       "work_type              0\n",
       "Residence_type         0\n",
       "avg_glucose_level      0\n",
       "bmi                  201\n",
       "smoking_status         0\n",
       "stroke                 0\n",
       "dtype: int64"
      ]
     },
     "execution_count": 3,
     "metadata": {},
     "output_type": "execute_result"
    }
   ],
   "source": [
    "df.isna().sum() # Only bmi is missing. Two options: bmi is changed to the mean, or remove the samples because there's so many samples already."
   ]
  },
  {
   "cell_type": "markdown",
   "id": "c8e72437",
   "metadata": {},
   "source": [
    "### Data Exploration\n",
    "\n",
    "The goal here is to find out more about the data and become subject matter expert (or at least novice) on the dataset we're working with.\n",
    "\n",
    "1. What question(s) are you trying to solve?\n",
    "2. What kind of data do we have and how do we treat different types?\n",
    "3. What's missing from the data and how do you deal with it?\n",
    "4. Where are the outliers and why should you care about them?\n",
    "5. How can you add, change, or remove features to get more out of your data?"
   ]
  },
  {
   "cell_type": "code",
   "execution_count": 4,
   "id": "17a783ec",
   "metadata": {},
   "outputs": [
    {
     "data": {
      "text/html": [
       "<div>\n",
       "<style scoped>\n",
       "    .dataframe tbody tr th:only-of-type {\n",
       "        vertical-align: middle;\n",
       "    }\n",
       "\n",
       "    .dataframe tbody tr th {\n",
       "        vertical-align: top;\n",
       "    }\n",
       "\n",
       "    .dataframe thead th {\n",
       "        text-align: right;\n",
       "    }\n",
       "</style>\n",
       "<table border=\"1\" class=\"dataframe\">\n",
       "  <thead>\n",
       "    <tr style=\"text-align: right;\">\n",
       "      <th></th>\n",
       "      <th>id</th>\n",
       "      <th>gender</th>\n",
       "      <th>age</th>\n",
       "      <th>hypertension</th>\n",
       "      <th>heart_disease</th>\n",
       "      <th>ever_married</th>\n",
       "      <th>work_type</th>\n",
       "      <th>Residence_type</th>\n",
       "      <th>avg_glucose_level</th>\n",
       "      <th>bmi</th>\n",
       "      <th>smoking_status</th>\n",
       "      <th>stroke</th>\n",
       "    </tr>\n",
       "  </thead>\n",
       "  <tbody>\n",
       "    <tr>\n",
       "      <th>0</th>\n",
       "      <td>9046</td>\n",
       "      <td>Male</td>\n",
       "      <td>67.0</td>\n",
       "      <td>0</td>\n",
       "      <td>1</td>\n",
       "      <td>Yes</td>\n",
       "      <td>Private</td>\n",
       "      <td>Urban</td>\n",
       "      <td>228.69</td>\n",
       "      <td>36.6</td>\n",
       "      <td>formerly smoked</td>\n",
       "      <td>1</td>\n",
       "    </tr>\n",
       "    <tr>\n",
       "      <th>1</th>\n",
       "      <td>51676</td>\n",
       "      <td>Female</td>\n",
       "      <td>61.0</td>\n",
       "      <td>0</td>\n",
       "      <td>0</td>\n",
       "      <td>Yes</td>\n",
       "      <td>Self-employed</td>\n",
       "      <td>Rural</td>\n",
       "      <td>202.21</td>\n",
       "      <td>NaN</td>\n",
       "      <td>never smoked</td>\n",
       "      <td>1</td>\n",
       "    </tr>\n",
       "    <tr>\n",
       "      <th>2</th>\n",
       "      <td>31112</td>\n",
       "      <td>Male</td>\n",
       "      <td>80.0</td>\n",
       "      <td>0</td>\n",
       "      <td>1</td>\n",
       "      <td>Yes</td>\n",
       "      <td>Private</td>\n",
       "      <td>Rural</td>\n",
       "      <td>105.92</td>\n",
       "      <td>32.5</td>\n",
       "      <td>never smoked</td>\n",
       "      <td>1</td>\n",
       "    </tr>\n",
       "    <tr>\n",
       "      <th>3</th>\n",
       "      <td>60182</td>\n",
       "      <td>Female</td>\n",
       "      <td>49.0</td>\n",
       "      <td>0</td>\n",
       "      <td>0</td>\n",
       "      <td>Yes</td>\n",
       "      <td>Private</td>\n",
       "      <td>Urban</td>\n",
       "      <td>171.23</td>\n",
       "      <td>34.4</td>\n",
       "      <td>smokes</td>\n",
       "      <td>1</td>\n",
       "    </tr>\n",
       "    <tr>\n",
       "      <th>4</th>\n",
       "      <td>1665</td>\n",
       "      <td>Female</td>\n",
       "      <td>79.0</td>\n",
       "      <td>1</td>\n",
       "      <td>0</td>\n",
       "      <td>Yes</td>\n",
       "      <td>Self-employed</td>\n",
       "      <td>Rural</td>\n",
       "      <td>174.12</td>\n",
       "      <td>24.0</td>\n",
       "      <td>never smoked</td>\n",
       "      <td>1</td>\n",
       "    </tr>\n",
       "  </tbody>\n",
       "</table>\n",
       "</div>"
      ],
      "text/plain": [
       "      id  gender   age  hypertension  heart_disease ever_married  \\\n",
       "0   9046    Male  67.0             0              1          Yes   \n",
       "1  51676  Female  61.0             0              0          Yes   \n",
       "2  31112    Male  80.0             0              1          Yes   \n",
       "3  60182  Female  49.0             0              0          Yes   \n",
       "4   1665  Female  79.0             1              0          Yes   \n",
       "\n",
       "       work_type Residence_type  avg_glucose_level   bmi   smoking_status  \\\n",
       "0        Private          Urban             228.69  36.6  formerly smoked   \n",
       "1  Self-employed          Rural             202.21   NaN     never smoked   \n",
       "2        Private          Rural             105.92  32.5     never smoked   \n",
       "3        Private          Urban             171.23  34.4           smokes   \n",
       "4  Self-employed          Rural             174.12  24.0     never smoked   \n",
       "\n",
       "   stroke  \n",
       "0       1  \n",
       "1       1  \n",
       "2       1  \n",
       "3       1  \n",
       "4       1  "
      ]
     },
     "execution_count": 4,
     "metadata": {},
     "output_type": "execute_result"
    }
   ],
   "source": [
    "df.head()"
   ]
  },
  {
   "cell_type": "code",
   "execution_count": 5,
   "id": "a7bb4834",
   "metadata": {},
   "outputs": [
    {
     "data": {
      "text/html": [
       "<div>\n",
       "<style scoped>\n",
       "    .dataframe tbody tr th:only-of-type {\n",
       "        vertical-align: middle;\n",
       "    }\n",
       "\n",
       "    .dataframe tbody tr th {\n",
       "        vertical-align: top;\n",
       "    }\n",
       "\n",
       "    .dataframe thead th {\n",
       "        text-align: right;\n",
       "    }\n",
       "</style>\n",
       "<table border=\"1\" class=\"dataframe\">\n",
       "  <thead>\n",
       "    <tr style=\"text-align: right;\">\n",
       "      <th></th>\n",
       "      <th>id</th>\n",
       "      <th>gender</th>\n",
       "      <th>age</th>\n",
       "      <th>hypertension</th>\n",
       "      <th>heart_disease</th>\n",
       "      <th>ever_married</th>\n",
       "      <th>work_type</th>\n",
       "      <th>Residence_type</th>\n",
       "      <th>avg_glucose_level</th>\n",
       "      <th>bmi</th>\n",
       "      <th>smoking_status</th>\n",
       "      <th>stroke</th>\n",
       "    </tr>\n",
       "  </thead>\n",
       "  <tbody>\n",
       "    <tr>\n",
       "      <th>5105</th>\n",
       "      <td>18234</td>\n",
       "      <td>Female</td>\n",
       "      <td>80.0</td>\n",
       "      <td>1</td>\n",
       "      <td>0</td>\n",
       "      <td>Yes</td>\n",
       "      <td>Private</td>\n",
       "      <td>Urban</td>\n",
       "      <td>83.75</td>\n",
       "      <td>NaN</td>\n",
       "      <td>never smoked</td>\n",
       "      <td>0</td>\n",
       "    </tr>\n",
       "    <tr>\n",
       "      <th>5106</th>\n",
       "      <td>44873</td>\n",
       "      <td>Female</td>\n",
       "      <td>81.0</td>\n",
       "      <td>0</td>\n",
       "      <td>0</td>\n",
       "      <td>Yes</td>\n",
       "      <td>Self-employed</td>\n",
       "      <td>Urban</td>\n",
       "      <td>125.20</td>\n",
       "      <td>40.0</td>\n",
       "      <td>never smoked</td>\n",
       "      <td>0</td>\n",
       "    </tr>\n",
       "    <tr>\n",
       "      <th>5107</th>\n",
       "      <td>19723</td>\n",
       "      <td>Female</td>\n",
       "      <td>35.0</td>\n",
       "      <td>0</td>\n",
       "      <td>0</td>\n",
       "      <td>Yes</td>\n",
       "      <td>Self-employed</td>\n",
       "      <td>Rural</td>\n",
       "      <td>82.99</td>\n",
       "      <td>30.6</td>\n",
       "      <td>never smoked</td>\n",
       "      <td>0</td>\n",
       "    </tr>\n",
       "    <tr>\n",
       "      <th>5108</th>\n",
       "      <td>37544</td>\n",
       "      <td>Male</td>\n",
       "      <td>51.0</td>\n",
       "      <td>0</td>\n",
       "      <td>0</td>\n",
       "      <td>Yes</td>\n",
       "      <td>Private</td>\n",
       "      <td>Rural</td>\n",
       "      <td>166.29</td>\n",
       "      <td>25.6</td>\n",
       "      <td>formerly smoked</td>\n",
       "      <td>0</td>\n",
       "    </tr>\n",
       "    <tr>\n",
       "      <th>5109</th>\n",
       "      <td>44679</td>\n",
       "      <td>Female</td>\n",
       "      <td>44.0</td>\n",
       "      <td>0</td>\n",
       "      <td>0</td>\n",
       "      <td>Yes</td>\n",
       "      <td>Govt_job</td>\n",
       "      <td>Urban</td>\n",
       "      <td>85.28</td>\n",
       "      <td>26.2</td>\n",
       "      <td>Unknown</td>\n",
       "      <td>0</td>\n",
       "    </tr>\n",
       "  </tbody>\n",
       "</table>\n",
       "</div>"
      ],
      "text/plain": [
       "         id  gender   age  hypertension  heart_disease ever_married  \\\n",
       "5105  18234  Female  80.0             1              0          Yes   \n",
       "5106  44873  Female  81.0             0              0          Yes   \n",
       "5107  19723  Female  35.0             0              0          Yes   \n",
       "5108  37544    Male  51.0             0              0          Yes   \n",
       "5109  44679  Female  44.0             0              0          Yes   \n",
       "\n",
       "          work_type Residence_type  avg_glucose_level   bmi   smoking_status  \\\n",
       "5105        Private          Urban              83.75   NaN     never smoked   \n",
       "5106  Self-employed          Urban             125.20  40.0     never smoked   \n",
       "5107  Self-employed          Rural              82.99  30.6     never smoked   \n",
       "5108        Private          Rural             166.29  25.6  formerly smoked   \n",
       "5109       Govt_job          Urban              85.28  26.2          Unknown   \n",
       "\n",
       "      stroke  \n",
       "5105       0  \n",
       "5106       0  \n",
       "5107       0  \n",
       "5108       0  \n",
       "5109       0  "
      ]
     },
     "execution_count": 5,
     "metadata": {},
     "output_type": "execute_result"
    }
   ],
   "source": [
    "df.tail()"
   ]
  },
  {
   "cell_type": "code",
   "execution_count": 6,
   "id": "7bfdf2e4",
   "metadata": {},
   "outputs": [
    {
     "data": {
      "text/plain": [
       "0    4861\n",
       "1     249\n",
       "Name: stroke, dtype: int64"
      ]
     },
     "execution_count": 6,
     "metadata": {},
     "output_type": "execute_result"
    }
   ],
   "source": [
    "df['stroke'].value_counts()\n",
    "\n",
    "# Heavily biased towards having no stroke.\n",
    "\n",
    "# Try the imbalanced-learn module"
   ]
  },
  {
   "cell_type": "code",
   "execution_count": 7,
   "id": "dda7ed22",
   "metadata": {},
   "outputs": [
    {
     "data": {
      "image/png": "[encoded data removed]",
      "text/plain": [
       "<Figure size 432x288 with 1 Axes>"
      ]
     },
     "metadata": {
      "needs_background": "light"
     },
     "output_type": "display_data"
    }
   ],
   "source": [
    "df['stroke'].value_counts().plot(kind='bar', color=['salmon', 'lightblue']);"
   ]
  },
  {
   "cell_type": "code",
   "execution_count": 8,
   "id": "fb5415cf",
   "metadata": {},
   "outputs": [
    {
     "name": "stdout",
     "output_type": "stream",
     "text": [
      "<class 'pandas.core.frame.DataFrame'>\n",
      "RangeIndex: 5110 entries, 0 to 5109\n",
      "Data columns (total 12 columns):\n",
      " #   Column             Non-Null Count  Dtype  \n",
      "---  ------             --------------  -----  \n",
      " 0   id                 5110 non-null   int64  \n",
      " 1   gender             5110 non-null   object \n",
      " 2   age                5110 non-null   float64\n",
      " 3   hypertension       5110 non-null   int64  \n",
      " 4   heart_disease      5110 non-null   int64  \n",
      " 5   ever_married       5110 non-null   object \n",
      " 6   work_type          5110 non-null   object \n",
      " 7   Residence_type     5110 non-null   object \n",
      " 8   avg_glucose_level  5110 non-null   float64\n",
      " 9   bmi                4909 non-null   float64\n",
      " 10  smoking_status     5110 non-null   object \n",
      " 11  stroke             5110 non-null   int64  \n",
      "dtypes: float64(3), int64(4), object(5)\n",
      "memory usage: 479.2+ KB\n"
     ]
    }
   ],
   "source": [
    "# More info\n",
    "\n",
    "df.info()"
   ]
  },
  {
   "cell_type": "code",
   "execution_count": 9,
   "id": "fa17ea1a",
   "metadata": {},
   "outputs": [
    {
     "data": {
      "text/html": [
       "<div>\n",
       "<style scoped>\n",
       "    .dataframe tbody tr th:only-of-type {\n",
       "        vertical-align: middle;\n",
       "    }\n",
       "\n",
       "    .dataframe tbody tr th {\n",
       "        vertical-align: top;\n",
       "    }\n",
       "\n",
       "    .dataframe thead th {\n",
       "        text-align: right;\n",
       "    }\n",
       "</style>\n",
       "<table border=\"1\" class=\"dataframe\">\n",
       "  <thead>\n",
       "    <tr style=\"text-align: right;\">\n",
       "      <th></th>\n",
       "      <th>id</th>\n",
       "      <th>age</th>\n",
       "      <th>hypertension</th>\n",
       "      <th>heart_disease</th>\n",
       "      <th>avg_glucose_level</th>\n",
       "      <th>bmi</th>\n",
       "      <th>stroke</th>\n",
       "    </tr>\n",
       "  </thead>\n",
       "  <tbody>\n",
       "    <tr>\n",
       "      <th>count</th>\n",
       "      <td>5110.000000</td>\n",
       "      <td>5110.000000</td>\n",
       "      <td>5110.000000</td>\n",
       "      <td>5110.000000</td>\n",
       "      <td>5110.000000</td>\n",
       "      <td>4909.000000</td>\n",
       "      <td>5110.000000</td>\n",
       "    </tr>\n",
       "    <tr>\n",
       "      <th>mean</th>\n",
       "      <td>36517.829354</td>\n",
       "      <td>43.226614</td>\n",
       "      <td>0.097456</td>\n",
       "      <td>0.054012</td>\n",
       "      <td>106.147677</td>\n",
       "      <td>28.893237</td>\n",
       "      <td>0.048728</td>\n",
       "    </tr>\n",
       "    <tr>\n",
       "      <th>std</th>\n",
       "      <td>21161.721625</td>\n",
       "      <td>22.612647</td>\n",
       "      <td>0.296607</td>\n",
       "      <td>0.226063</td>\n",
       "      <td>45.283560</td>\n",
       "      <td>7.854067</td>\n",
       "      <td>0.215320</td>\n",
       "    </tr>\n",
       "    <tr>\n",
       "      <th>min</th>\n",
       "      <td>67.000000</td>\n",
       "      <td>0.080000</td>\n",
       "      <td>0.000000</td>\n",
       "      <td>0.000000</td>\n",
       "      <td>55.120000</td>\n",
       "      <td>10.300000</td>\n",
       "      <td>0.000000</td>\n",
       "    </tr>\n",
       "    <tr>\n",
       "      <th>25%</th>\n",
       "      <td>17741.250000</td>\n",
       "      <td>25.000000</td>\n",
       "      <td>0.000000</td>\n",
       "      <td>0.000000</td>\n",
       "      <td>77.245000</td>\n",
       "      <td>23.500000</td>\n",
       "      <td>0.000000</td>\n",
       "    </tr>\n",
       "    <tr>\n",
       "      <th>50%</th>\n",
       "      <td>36932.000000</td>\n",
       "      <td>45.000000</td>\n",
       "      <td>0.000000</td>\n",
       "      <td>0.000000</td>\n",
       "      <td>91.885000</td>\n",
       "      <td>28.100000</td>\n",
       "      <td>0.000000</td>\n",
       "    </tr>\n",
       "    <tr>\n",
       "      <th>75%</th>\n",
       "      <td>54682.000000</td>\n",
       "      <td>61.000000</td>\n",
       "      <td>0.000000</td>\n",
       "      <td>0.000000</td>\n",
       "      <td>114.090000</td>\n",
       "      <td>33.100000</td>\n",
       "      <td>0.000000</td>\n",
       "    </tr>\n",
       "    <tr>\n",
       "      <th>max</th>\n",
       "      <td>72940.000000</td>\n",
       "      <td>82.000000</td>\n",
       "      <td>1.000000</td>\n",
       "      <td>1.000000</td>\n",
       "      <td>271.740000</td>\n",
       "      <td>97.600000</td>\n",
       "      <td>1.000000</td>\n",
       "    </tr>\n",
       "  </tbody>\n",
       "</table>\n",
       "</div>"
      ],
      "text/plain": [
       "                 id          age  hypertension  heart_disease  \\\n",
       "count   5110.000000  5110.000000   5110.000000    5110.000000   \n",
       "mean   36517.829354    43.226614      0.097456       0.054012   \n",
       "std    21161.721625    22.612647      0.296607       0.226063   \n",
       "min       67.000000     0.080000      0.000000       0.000000   \n",
       "25%    17741.250000    25.000000      0.000000       0.000000   \n",
       "50%    36932.000000    45.000000      0.000000       0.000000   \n",
       "75%    54682.000000    61.000000      0.000000       0.000000   \n",
       "max    72940.000000    82.000000      1.000000       1.000000   \n",
       "\n",
       "       avg_glucose_level          bmi       stroke  \n",
       "count        5110.000000  4909.000000  5110.000000  \n",
       "mean          106.147677    28.893237     0.048728  \n",
       "std            45.283560     7.854067     0.215320  \n",
       "min            55.120000    10.300000     0.000000  \n",
       "25%            77.245000    23.500000     0.000000  \n",
       "50%            91.885000    28.100000     0.000000  \n",
       "75%           114.090000    33.100000     0.000000  \n",
       "max           271.740000    97.600000     1.000000  "
      ]
     },
     "execution_count": 9,
     "metadata": {},
     "output_type": "execute_result"
    }
   ],
   "source": [
    "df.describe()"
   ]
  },
  {
   "cell_type": "markdown",
   "id": "eae5df6e",
   "metadata": {},
   "source": [
    "### Stroke Frequency According to Sex"
   ]
  },
  {
   "cell_type": "code",
   "execution_count": 10,
   "id": "0e7cfd0e",
   "metadata": {},
   "outputs": [
    {
     "data": {
      "text/plain": [
       "Female    2994\n",
       "Male      2115\n",
       "Other        1\n",
       "Name: gender, dtype: int64"
      ]
     },
     "execution_count": 10,
     "metadata": {},
     "output_type": "execute_result"
    }
   ],
   "source": [
    "df['gender'].value_counts() # Potentially remove the single Other? Could skew the 'Other' gender in the no stroke prediction."
   ]
  },
  {
   "cell_type": "code",
   "execution_count": 11,
   "id": "ba821c42",
   "metadata": {},
   "outputs": [
    {
     "data": {
      "text/html": [
       "<div>\n",
       "<style scoped>\n",
       "    .dataframe tbody tr th:only-of-type {\n",
       "        vertical-align: middle;\n",
       "    }\n",
       "\n",
       "    .dataframe tbody tr th {\n",
       "        vertical-align: top;\n",
       "    }\n",
       "\n",
       "    .dataframe thead th {\n",
       "        text-align: right;\n",
       "    }\n",
       "</style>\n",
       "<table border=\"1\" class=\"dataframe\">\n",
       "  <thead>\n",
       "    <tr style=\"text-align: right;\">\n",
       "      <th>gender</th>\n",
       "      <th>Female</th>\n",
       "      <th>Male</th>\n",
       "      <th>Other</th>\n",
       "    </tr>\n",
       "    <tr>\n",
       "      <th>stroke</th>\n",
       "      <th></th>\n",
       "      <th></th>\n",
       "      <th></th>\n",
       "    </tr>\n",
       "  </thead>\n",
       "  <tbody>\n",
       "    <tr>\n",
       "      <th>0</th>\n",
       "      <td>2853</td>\n",
       "      <td>2007</td>\n",
       "      <td>1</td>\n",
       "    </tr>\n",
       "    <tr>\n",
       "      <th>1</th>\n",
       "      <td>141</td>\n",
       "      <td>108</td>\n",
       "      <td>0</td>\n",
       "    </tr>\n",
       "  </tbody>\n",
       "</table>\n",
       "</div>"
      ],
      "text/plain": [
       "gender  Female  Male  Other\n",
       "stroke                     \n",
       "0         2853  2007      1\n",
       "1          141   108      0"
      ]
     },
     "execution_count": 11,
     "metadata": {},
     "output_type": "execute_result"
    }
   ],
   "source": [
    "# Compare target column with gender column\n",
    "\n",
    "pd.crosstab(df['stroke'], df['gender'])"
   ]
  },
  {
   "cell_type": "code",
   "execution_count": 12,
   "id": "7038976b",
   "metadata": {},
   "outputs": [
    {
     "data": {
      "image/png": "[encoded data removed]",
      "text/plain": [
       "<Figure size 432x288 with 1 Axes>"
      ]
     },
     "metadata": {
      "needs_background": "light"
     },
     "output_type": "display_data"
    }
   ],
   "source": [
    "pd.crosstab(df['stroke'], df['gender']).plot(kind='bar', color=['salmon', 'lightblue']);\n",
    "\n",
    "plt.title(\"Stroke Frequency Per Gender\")\n",
    "plt.xlabel(\"0 = No Stroke, 1 = Stroke\")\n",
    "plt.ylabel(\"Amount\")\n",
    "plt.xticks(rotation=0);"
   ]
  },
  {
   "cell_type": "code",
   "execution_count": 13,
   "id": "fa9ab137",
   "metadata": {},
   "outputs": [
    {
     "data": {
      "text/html": [
       "<div>\n",
       "<style scoped>\n",
       "    .dataframe tbody tr th:only-of-type {\n",
       "        vertical-align: middle;\n",
       "    }\n",
       "\n",
       "    .dataframe tbody tr th {\n",
       "        vertical-align: top;\n",
       "    }\n",
       "\n",
       "    .dataframe thead th {\n",
       "        text-align: right;\n",
       "    }\n",
       "</style>\n",
       "<table border=\"1\" class=\"dataframe\">\n",
       "  <thead>\n",
       "    <tr style=\"text-align: right;\">\n",
       "      <th>ever_married</th>\n",
       "      <th>No</th>\n",
       "      <th>Yes</th>\n",
       "    </tr>\n",
       "    <tr>\n",
       "      <th>stroke</th>\n",
       "      <th></th>\n",
       "      <th></th>\n",
       "    </tr>\n",
       "  </thead>\n",
       "  <tbody>\n",
       "    <tr>\n",
       "      <th>0</th>\n",
       "      <td>1728</td>\n",
       "      <td>3133</td>\n",
       "    </tr>\n",
       "    <tr>\n",
       "      <th>1</th>\n",
       "      <td>29</td>\n",
       "      <td>220</td>\n",
       "    </tr>\n",
       "  </tbody>\n",
       "</table>\n",
       "</div>"
      ],
      "text/plain": [
       "ever_married    No   Yes\n",
       "stroke                  \n",
       "0             1728  3133\n",
       "1               29   220"
      ]
     },
     "execution_count": 13,
     "metadata": {},
     "output_type": "execute_result"
    }
   ],
   "source": [
    "# Let's try it with ever_married\n",
    "\n",
    "pd.crosstab(df['stroke'], df['ever_married']) # Seven percent of married people had a stroke, Two percent of the rest had none."
   ]
  },
  {
   "cell_type": "code",
   "execution_count": 14,
   "id": "11c0b803",
   "metadata": {},
   "outputs": [
    {
     "data": {
      "image/png": "[encoded data removed]",
      "text/plain": [
       "<Figure size 432x288 with 1 Axes>"
      ]
     },
     "metadata": {
      "needs_background": "light"
     },
     "output_type": "display_data"
    }
   ],
   "source": [
    "pd.crosstab(df['stroke'], df['ever_married']).plot(kind='bar', color=['salmon', 'lightblue']);"
   ]
  },
  {
   "cell_type": "markdown",
   "id": "4fb7f27b",
   "metadata": {},
   "source": [
    "### Age vs. avg_glucose_level for Strokes"
   ]
  },
  {
   "cell_type": "code",
   "execution_count": 15,
   "id": "dae66138",
   "metadata": {
    "scrolled": false
   },
   "outputs": [
    {
     "data": {
      "image/png": "[encoded data removed]",
      "text/plain": [
       "<Figure size 720x432 with 1 Axes>"
      ]
     },
     "metadata": {
      "needs_background": "light"
     },
     "output_type": "display_data"
    }
   ],
   "source": [
    "# Create another figure\n",
    "\n",
    "plt.figure(figsize=(10,6))\n",
    "\n",
    "# Scatter with Positive Examples\n",
    "\n",
    "plt.scatter(df.age[df.stroke==1],\n",
    "            df.avg_glucose_level[df.stroke==1],\n",
    "            c='salmon');"
   ]
  },
  {
   "cell_type": "markdown",
   "id": "b8f597da",
   "metadata": {},
   "source": [
    "Generally, the patients who had a stroke begin to  have higher and higher glucose the older they get. Additionally most people begin to have strokes around 40+ age range."
   ]
  },
  {
   "cell_type": "code",
   "execution_count": 16,
   "id": "d845cf84",
   "metadata": {},
   "outputs": [
    {
     "data": {
      "image/png": "[encoded data removed]",
      "text/plain": [
       "<Figure size 720x432 with 1 Axes>"
      ]
     },
     "metadata": {
      "needs_background": "light"
     },
     "output_type": "display_data"
    }
   ],
   "source": [
    "# Create another figure\n",
    "\n",
    "plt.figure(figsize=(10,6))\n",
    "\n",
    "# Scatter with Negative Examples\n",
    "\n",
    "plt.scatter(df.age[df.stroke==0],\n",
    "            df.avg_glucose_level[df.stroke==0],\n",
    "            c='lightblue');"
   ]
  },
  {
   "cell_type": "markdown",
   "id": "7405e8f3",
   "metadata": {},
   "source": [
    "Again, there's a trend. But it's difficult to see the difference."
   ]
  },
  {
   "cell_type": "code",
   "execution_count": 17,
   "id": "88926ffe",
   "metadata": {},
   "outputs": [
    {
     "data": {
      "image/png": "[encoded data removed]",
      "text/plain": [
       "<Figure size 720x432 with 1 Axes>"
      ]
     },
     "metadata": {
      "needs_background": "light"
     },
     "output_type": "display_data"
    }
   ],
   "source": [
    "# Combined graphs\n",
    "\n",
    "plt.figure(figsize=(10,6))\n",
    "\n",
    "# Scatter with Positive Examples\n",
    "\n",
    "plt.scatter(df.age[df.stroke==1],\n",
    "            df.avg_glucose_level[df.stroke==1],\n",
    "            c='salmon');\n",
    "\n",
    "plt.scatter(df.age[df.stroke==0],\n",
    "            df.avg_glucose_level[df.stroke==0],\n",
    "            c='lightblue');\n",
    "\n",
    "# Add some helpful info.\n",
    "\n",
    "plt.title(\"Strokes with respect to age and avg_glucose_level\")\n",
    "plt.xlabel('Age')\n",
    "plt.ylabel('avg_glucose_level')\n",
    "plt.legend(['Stroke', 'No Stroke']);"
   ]
  },
  {
   "cell_type": "code",
   "execution_count": 18,
   "id": "00cd1524",
   "metadata": {},
   "outputs": [
    {
     "data": {
      "image/png": "[encoded data removed]",
      "text/plain": [
       "<Figure size 432x288 with 1 Axes>"
      ]
     },
     "metadata": {
      "needs_background": "light"
     },
     "output_type": "display_data"
    }
   ],
   "source": [
    "# Check the distribution of the age column with a histogram\n",
    "\n",
    "df.age.plot.hist(); # Most samples are between 40 and 60."
   ]
  },
  {
   "cell_type": "code",
   "execution_count": 19,
   "id": "ef1fb134",
   "metadata": {},
   "outputs": [
    {
     "data": {
      "image/png": "[encoded data removed]",
      "text/plain": [
       "<Figure size 432x288 with 1 Axes>"
      ]
     },
     "metadata": {
      "needs_background": "light"
     },
     "output_type": "display_data"
    }
   ],
   "source": [
    "# How about if strokes are positive?\n",
    "\n",
    "df.age[df.stroke==1].plot.hist(); # Heavy distribution to the right. More risk the older you are."
   ]
  },
  {
   "cell_type": "markdown",
   "id": "90b474b4",
   "metadata": {},
   "source": [
    "### Stroke Frequency per work_type"
   ]
  },
  {
   "cell_type": "code",
   "execution_count": 20,
   "id": "c94a0218",
   "metadata": {},
   "outputs": [
    {
     "data": {
      "text/html": [
       "<div>\n",
       "<style scoped>\n",
       "    .dataframe tbody tr th:only-of-type {\n",
       "        vertical-align: middle;\n",
       "    }\n",
       "\n",
       "    .dataframe tbody tr th {\n",
       "        vertical-align: top;\n",
       "    }\n",
       "\n",
       "    .dataframe thead th {\n",
       "        text-align: right;\n",
       "    }\n",
       "</style>\n",
       "<table border=\"1\" class=\"dataframe\">\n",
       "  <thead>\n",
       "    <tr style=\"text-align: right;\">\n",
       "      <th>stroke</th>\n",
       "      <th>0</th>\n",
       "      <th>1</th>\n",
       "    </tr>\n",
       "    <tr>\n",
       "      <th>work_type</th>\n",
       "      <th></th>\n",
       "      <th></th>\n",
       "    </tr>\n",
       "  </thead>\n",
       "  <tbody>\n",
       "    <tr>\n",
       "      <th>Govt_job</th>\n",
       "      <td>624</td>\n",
       "      <td>33</td>\n",
       "    </tr>\n",
       "    <tr>\n",
       "      <th>Never_worked</th>\n",
       "      <td>22</td>\n",
       "      <td>0</td>\n",
       "    </tr>\n",
       "    <tr>\n",
       "      <th>Private</th>\n",
       "      <td>2776</td>\n",
       "      <td>149</td>\n",
       "    </tr>\n",
       "    <tr>\n",
       "      <th>Self-employed</th>\n",
       "      <td>754</td>\n",
       "      <td>65</td>\n",
       "    </tr>\n",
       "    <tr>\n",
       "      <th>children</th>\n",
       "      <td>685</td>\n",
       "      <td>2</td>\n",
       "    </tr>\n",
       "  </tbody>\n",
       "</table>\n",
       "</div>"
      ],
      "text/plain": [
       "stroke            0    1\n",
       "work_type               \n",
       "Govt_job        624   33\n",
       "Never_worked     22    0\n",
       "Private        2776  149\n",
       "Self-employed   754   65\n",
       "children        685    2"
      ]
     },
     "execution_count": 20,
     "metadata": {},
     "output_type": "execute_result"
    }
   ],
   "source": [
    "pd.crosstab(df.work_type, df.stroke) # Low children, never_worked has none. Private has the most, but percentage-wise is similar to govt_job. Self-employed has less percentage-wise."
   ]
  },
  {
   "cell_type": "code",
   "execution_count": 21,
   "id": "5822f01b",
   "metadata": {},
   "outputs": [
    {
     "data": {
      "image/png": "[encoded data removed]",
      "text/plain": [
       "<Figure size 720x432 with 1 Axes>"
      ]
     },
     "metadata": {
      "needs_background": "light"
     },
     "output_type": "display_data"
    }
   ],
   "source": [
    "pd.crosstab(df.work_type, df.stroke).plot(kind='bar', figsize=(10, 6), color=['lightblue', 'salmon'])\n",
    "\n",
    "\n",
    "# More info\n",
    "\n",
    "plt.title('Stroke Frequency per work_type')\n",
    "plt.xlabel('Work Type')\n",
    "plt.ylabel('Amount')\n",
    "plt.legend(['No Stroke', 'Stroke'])\n",
    "plt.xticks(rotation=0);"
   ]
  },
  {
   "cell_type": "markdown",
   "id": "333c863a",
   "metadata": {},
   "source": [
    "### Let's see Age vs Self-Employed"
   ]
  },
  {
   "cell_type": "code",
   "execution_count": 22,
   "id": "333f7b83",
   "metadata": {},
   "outputs": [
    {
     "data": {
      "image/png": "[encoded data removed]",
      "text/plain": [
       "<Figure size 720x432 with 1 Axes>"
      ]
     },
     "metadata": {
      "needs_background": "light"
     },
     "output_type": "display_data"
    }
   ],
   "source": [
    "# Create another figure\n",
    "\n",
    "plt.figure(figsize=(10,6))\n",
    "\n",
    "# Scatter with Negative Examples\n",
    "\n",
    "plt.hist(df.age[df.work_type=='Self-employed']); # More people who are older are self-employed. Strange."
   ]
  },
  {
   "cell_type": "markdown",
   "id": "e9bed3a0",
   "metadata": {},
   "source": [
    "### Correlation Matrix Time"
   ]
  },
  {
   "cell_type": "code",
   "execution_count": 23,
   "id": "093c3249",
   "metadata": {},
   "outputs": [
    {
     "data": {
      "text/html": [
       "<div>\n",
       "<style scoped>\n",
       "    .dataframe tbody tr th:only-of-type {\n",
       "        vertical-align: middle;\n",
       "    }\n",
       "\n",
       "    .dataframe tbody tr th {\n",
       "        vertical-align: top;\n",
       "    }\n",
       "\n",
       "    .dataframe thead th {\n",
       "        text-align: right;\n",
       "    }\n",
       "</style>\n",
       "<table border=\"1\" class=\"dataframe\">\n",
       "  <thead>\n",
       "    <tr style=\"text-align: right;\">\n",
       "      <th></th>\n",
       "      <th>id</th>\n",
       "      <th>age</th>\n",
       "      <th>hypertension</th>\n",
       "      <th>heart_disease</th>\n",
       "      <th>avg_glucose_level</th>\n",
       "      <th>bmi</th>\n",
       "      <th>stroke</th>\n",
       "    </tr>\n",
       "  </thead>\n",
       "  <tbody>\n",
       "    <tr>\n",
       "      <th>id</th>\n",
       "      <td>1.000000</td>\n",
       "      <td>0.003538</td>\n",
       "      <td>0.003550</td>\n",
       "      <td>-0.001296</td>\n",
       "      <td>0.001092</td>\n",
       "      <td>0.003084</td>\n",
       "      <td>0.006388</td>\n",
       "    </tr>\n",
       "    <tr>\n",
       "      <th>age</th>\n",
       "      <td>0.003538</td>\n",
       "      <td>1.000000</td>\n",
       "      <td>0.276398</td>\n",
       "      <td>0.263796</td>\n",
       "      <td>0.238171</td>\n",
       "      <td>0.333398</td>\n",
       "      <td>0.245257</td>\n",
       "    </tr>\n",
       "    <tr>\n",
       "      <th>hypertension</th>\n",
       "      <td>0.003550</td>\n",
       "      <td>0.276398</td>\n",
       "      <td>1.000000</td>\n",
       "      <td>0.108306</td>\n",
       "      <td>0.174474</td>\n",
       "      <td>0.167811</td>\n",
       "      <td>0.127904</td>\n",
       "    </tr>\n",
       "    <tr>\n",
       "      <th>heart_disease</th>\n",
       "      <td>-0.001296</td>\n",
       "      <td>0.263796</td>\n",
       "      <td>0.108306</td>\n",
       "      <td>1.000000</td>\n",
       "      <td>0.161857</td>\n",
       "      <td>0.041357</td>\n",
       "      <td>0.134914</td>\n",
       "    </tr>\n",
       "    <tr>\n",
       "      <th>avg_glucose_level</th>\n",
       "      <td>0.001092</td>\n",
       "      <td>0.238171</td>\n",
       "      <td>0.174474</td>\n",
       "      <td>0.161857</td>\n",
       "      <td>1.000000</td>\n",
       "      <td>0.175502</td>\n",
       "      <td>0.131945</td>\n",
       "    </tr>\n",
       "    <tr>\n",
       "      <th>bmi</th>\n",
       "      <td>0.003084</td>\n",
       "      <td>0.333398</td>\n",
       "      <td>0.167811</td>\n",
       "      <td>0.041357</td>\n",
       "      <td>0.175502</td>\n",
       "      <td>1.000000</td>\n",
       "      <td>0.042374</td>\n",
       "    </tr>\n",
       "    <tr>\n",
       "      <th>stroke</th>\n",
       "      <td>0.006388</td>\n",
       "      <td>0.245257</td>\n",
       "      <td>0.127904</td>\n",
       "      <td>0.134914</td>\n",
       "      <td>0.131945</td>\n",
       "      <td>0.042374</td>\n",
       "      <td>1.000000</td>\n",
       "    </tr>\n",
       "  </tbody>\n",
       "</table>\n",
       "</div>"
      ],
      "text/plain": [
       "                         id       age  hypertension  heart_disease  \\\n",
       "id                 1.000000  0.003538      0.003550      -0.001296   \n",
       "age                0.003538  1.000000      0.276398       0.263796   \n",
       "hypertension       0.003550  0.276398      1.000000       0.108306   \n",
       "heart_disease     -0.001296  0.263796      0.108306       1.000000   \n",
       "avg_glucose_level  0.001092  0.238171      0.174474       0.161857   \n",
       "bmi                0.003084  0.333398      0.167811       0.041357   \n",
       "stroke             0.006388  0.245257      0.127904       0.134914   \n",
       "\n",
       "                   avg_glucose_level       bmi    stroke  \n",
       "id                          0.001092  0.003084  0.006388  \n",
       "age                         0.238171  0.333398  0.245257  \n",
       "hypertension                0.174474  0.167811  0.127904  \n",
       "heart_disease               0.161857  0.041357  0.134914  \n",
       "avg_glucose_level           1.000000  0.175502  0.131945  \n",
       "bmi                         0.175502  1.000000  0.042374  \n",
       "stroke                      0.131945  0.042374  1.000000  "
      ]
     },
     "execution_count": 23,
     "metadata": {},
     "output_type": "execute_result"
    }
   ],
   "source": [
    "# Make a correlation matrix\n",
    "\n",
    "df.corr()"
   ]
  },
  {
   "cell_type": "code",
   "execution_count": 24,
   "id": "18659b12",
   "metadata": {},
   "outputs": [
    {
     "data": {
      "image/png": "[encoded data removed]",
      "text/plain": [
       "<Figure size 1080x720 with 2 Axes>"
      ]
     },
     "metadata": {
      "needs_background": "light"
     },
     "output_type": "display_data"
    }
   ],
   "source": [
    "# Let's make our correlation matrix prettier\n",
    "\n",
    "corr_matrix = df.corr()\n",
    "\n",
    "fig, ax = plt.subplots(figsize=(15, 10))\n",
    "\n",
    "ax = sns.heatmap(corr_matrix,\n",
    "                 annot=True,\n",
    "                linewidths=0.5,\n",
    "                fmt='.2f',\n",
    "                cmap = 'YlGnBu')"
   ]
  },
  {
   "cell_type": "markdown",
   "id": "01fc187b",
   "metadata": {},
   "source": [
    "Age seems to be biggest correlating factor here. BMI is especially correlated with Age (minor positive correlation)."
   ]
  },
  {
   "cell_type": "code",
   "execution_count": 25,
   "id": "f5743c8d",
   "metadata": {},
   "outputs": [
    {
     "name": "stdout",
     "output_type": "stream",
     "text": [
      "(2170, 12)\n",
      "Samples with an age above forty:  2940\n"
     ]
    }
   ],
   "source": [
    "# Let me check just how many people are 40 and up.\n",
    "\n",
    "age_under = df[df.age<40]\n",
    "print(age_under.shape)\n",
    "print(\"Samples with an age above forty: \", df.shape[0] - age_under.shape[0])"
   ]
  },
  {
   "cell_type": "markdown",
   "id": "b91c744a",
   "metadata": {},
   "source": [
    "Only a slight difference between the number of above 40s and below 40s, meaning age shouldn't skew that much."
   ]
  },
  {
   "cell_type": "markdown",
   "id": "2a75daf3",
   "metadata": {},
   "source": [
    "## Modelling"
   ]
  },
  {
   "cell_type": "code",
   "execution_count": 26,
   "id": "803b3fe7",
   "metadata": {},
   "outputs": [
    {
     "data": {
      "text/html": [
       "<div>\n",
       "<style scoped>\n",
       "    .dataframe tbody tr th:only-of-type {\n",
       "        vertical-align: middle;\n",
       "    }\n",
       "\n",
       "    .dataframe tbody tr th {\n",
       "        vertical-align: top;\n",
       "    }\n",
       "\n",
       "    .dataframe thead th {\n",
       "        text-align: right;\n",
       "    }\n",
       "</style>\n",
       "<table border=\"1\" class=\"dataframe\">\n",
       "  <thead>\n",
       "    <tr style=\"text-align: right;\">\n",
       "      <th></th>\n",
       "      <th>id</th>\n",
       "      <th>gender</th>\n",
       "      <th>age</th>\n",
       "      <th>hypertension</th>\n",
       "      <th>heart_disease</th>\n",
       "      <th>ever_married</th>\n",
       "      <th>work_type</th>\n",
       "      <th>Residence_type</th>\n",
       "      <th>avg_glucose_level</th>\n",
       "      <th>bmi</th>\n",
       "      <th>smoking_status</th>\n",
       "      <th>stroke</th>\n",
       "    </tr>\n",
       "  </thead>\n",
       "  <tbody>\n",
       "    <tr>\n",
       "      <th>0</th>\n",
       "      <td>9046</td>\n",
       "      <td>Male</td>\n",
       "      <td>67.0</td>\n",
       "      <td>0</td>\n",
       "      <td>1</td>\n",
       "      <td>Yes</td>\n",
       "      <td>Private</td>\n",
       "      <td>Urban</td>\n",
       "      <td>228.69</td>\n",
       "      <td>36.6</td>\n",
       "      <td>formerly smoked</td>\n",
       "      <td>1</td>\n",
       "    </tr>\n",
       "    <tr>\n",
       "      <th>1</th>\n",
       "      <td>51676</td>\n",
       "      <td>Female</td>\n",
       "      <td>61.0</td>\n",
       "      <td>0</td>\n",
       "      <td>0</td>\n",
       "      <td>Yes</td>\n",
       "      <td>Self-employed</td>\n",
       "      <td>Rural</td>\n",
       "      <td>202.21</td>\n",
       "      <td>NaN</td>\n",
       "      <td>never smoked</td>\n",
       "      <td>1</td>\n",
       "    </tr>\n",
       "    <tr>\n",
       "      <th>2</th>\n",
       "      <td>31112</td>\n",
       "      <td>Male</td>\n",
       "      <td>80.0</td>\n",
       "      <td>0</td>\n",
       "      <td>1</td>\n",
       "      <td>Yes</td>\n",
       "      <td>Private</td>\n",
       "      <td>Rural</td>\n",
       "      <td>105.92</td>\n",
       "      <td>32.5</td>\n",
       "      <td>never smoked</td>\n",
       "      <td>1</td>\n",
       "    </tr>\n",
       "    <tr>\n",
       "      <th>3</th>\n",
       "      <td>60182</td>\n",
       "      <td>Female</td>\n",
       "      <td>49.0</td>\n",
       "      <td>0</td>\n",
       "      <td>0</td>\n",
       "      <td>Yes</td>\n",
       "      <td>Private</td>\n",
       "      <td>Urban</td>\n",
       "      <td>171.23</td>\n",
       "      <td>34.4</td>\n",
       "      <td>smokes</td>\n",
       "      <td>1</td>\n",
       "    </tr>\n",
       "    <tr>\n",
       "      <th>4</th>\n",
       "      <td>1665</td>\n",
       "      <td>Female</td>\n",
       "      <td>79.0</td>\n",
       "      <td>1</td>\n",
       "      <td>0</td>\n",
       "      <td>Yes</td>\n",
       "      <td>Self-employed</td>\n",
       "      <td>Rural</td>\n",
       "      <td>174.12</td>\n",
       "      <td>24.0</td>\n",
       "      <td>never smoked</td>\n",
       "      <td>1</td>\n",
       "    </tr>\n",
       "  </tbody>\n",
       "</table>\n",
       "</div>"
      ],
      "text/plain": [
       "      id  gender   age  hypertension  heart_disease ever_married  \\\n",
       "0   9046    Male  67.0             0              1          Yes   \n",
       "1  51676  Female  61.0             0              0          Yes   \n",
       "2  31112    Male  80.0             0              1          Yes   \n",
       "3  60182  Female  49.0             0              0          Yes   \n",
       "4   1665  Female  79.0             1              0          Yes   \n",
       "\n",
       "       work_type Residence_type  avg_glucose_level   bmi   smoking_status  \\\n",
       "0        Private          Urban             228.69  36.6  formerly smoked   \n",
       "1  Self-employed          Rural             202.21   NaN     never smoked   \n",
       "2        Private          Rural             105.92  32.5     never smoked   \n",
       "3        Private          Urban             171.23  34.4           smokes   \n",
       "4  Self-employed          Rural             174.12  24.0     never smoked   \n",
       "\n",
       "   stroke  \n",
       "0       1  \n",
       "1       1  \n",
       "2       1  \n",
       "3       1  \n",
       "4       1  "
      ]
     },
     "execution_count": 26,
     "metadata": {},
     "output_type": "execute_result"
    }
   ],
   "source": [
    "df.head()"
   ]
  },
  {
   "cell_type": "code",
   "execution_count": 27,
   "id": "21111c77",
   "metadata": {},
   "outputs": [],
   "source": [
    "# Split into X & Y\n",
    "\n",
    "np.random.seed(42)\n",
    "\n",
    "y = df['stroke']\n",
    "\n",
    "# Let's drop id from X, because it's honestly irrelevant and harmful to our dataset. Nothing to do with the patient.\n",
    "\n",
    "X = df.drop(labels=['stroke', 'id'], axis=1)\n",
    "\n",
    "X = X.reset_index(drop=True)\n",
    "\n",
    "# Let's solve the imputation right here :)\n",
    "\n",
    "def toB(element):\n",
    "            if element == 1:\n",
    "                return 'True'\n",
    "            elif element == 0:\n",
    "                return 'False'\n",
    "            \n",
    "X['hypertension'] = X['hypertension'].apply(toB)\n",
    "\n",
    "X['heart_disease'] = X['heart_disease'].apply(toB)\n",
    "\n",
    "# Split into training & test sets\n",
    "\n",
    "X_train, X_test, y_train, y_test = train_test_split(X, y, stratify=y, test_size=0.2)\n",
    "\n",
    "\n",
    "X_train.reset_index(drop=True, inplace=True)\n",
    "y_train.reset_index(drop=True, inplace=True)\n",
    "X_test.reset_index(drop=True, inplace=True)\n",
    "y_test.reset_index(drop=True, inplace=True)"
   ]
  },
  {
   "cell_type": "code",
   "execution_count": 28,
   "id": "ded0159c",
   "metadata": {},
   "outputs": [
    {
     "data": {
      "text/plain": [
       "(199, 50)"
      ]
     },
     "execution_count": 28,
     "metadata": {},
     "output_type": "execute_result"
    }
   ],
   "source": [
    "len(y_train[y_train==1]), len(y_test[y_test==1]) # Testing stratification of stroke class. Basic, with imbalance learn."
   ]
  },
  {
   "cell_type": "markdown",
   "id": "64bae2db",
   "metadata": {},
   "source": [
    "It's time to build a machine learning model (plus preprocess the data).\n",
    "\n",
    "We'll try 3 different machine_learning models:\n",
    "\n",
    "1. Logistic Regression\n",
    "2. K-Nearest Neighbours Classifier\n",
    "3. Random Forest Classifier"
   ]
  },
  {
   "cell_type": "code",
   "execution_count": 29,
   "id": "8b191acf",
   "metadata": {},
   "outputs": [],
   "source": [
    "# Create quick pipeline to deal with this stuff.\n",
    "\n",
    "categorical_features = ['gender', 'hypertension', 'heart_disease', 'ever_married', 'work_type', 'Residence_type', 'smoking_status']\n",
    "\n",
    "numerical_features = ['age', 'avg_glucose_level', 'bmi']"
   ]
  },
  {
   "cell_type": "code",
   "execution_count": 30,
   "id": "e6875382",
   "metadata": {
    "scrolled": true
   },
   "outputs": [
    {
     "data": {
      "text/plain": [
       "[gender                True\n",
       " age                  False\n",
       " hypertension          True\n",
       " heart_disease         True\n",
       " ever_married          True\n",
       " work_type             True\n",
       " Residence_type        True\n",
       " avg_glucose_level    False\n",
       " bmi                  False\n",
       " smoking_status        True\n",
       " dtype: bool]"
      ]
     },
     "execution_count": 30,
     "metadata": {},
     "output_type": "execute_result"
    }
   ],
   "source": [
    "[X_train.dtypes==object]"
   ]
  },
  {
   "cell_type": "code",
   "execution_count": 31,
   "id": "155e555c",
   "metadata": {},
   "outputs": [
    {
     "data": {
      "text/html": [
       "<div>\n",
       "<style scoped>\n",
       "    .dataframe tbody tr th:only-of-type {\n",
       "        vertical-align: middle;\n",
       "    }\n",
       "\n",
       "    .dataframe tbody tr th {\n",
       "        vertical-align: top;\n",
       "    }\n",
       "\n",
       "    .dataframe thead th {\n",
       "        text-align: right;\n",
       "    }\n",
       "</style>\n",
       "<table border=\"1\" class=\"dataframe\">\n",
       "  <thead>\n",
       "    <tr style=\"text-align: right;\">\n",
       "      <th></th>\n",
       "      <th>gender</th>\n",
       "      <th>age</th>\n",
       "      <th>hypertension</th>\n",
       "      <th>heart_disease</th>\n",
       "      <th>ever_married</th>\n",
       "      <th>work_type</th>\n",
       "      <th>Residence_type</th>\n",
       "      <th>avg_glucose_level</th>\n",
       "      <th>bmi</th>\n",
       "      <th>smoking_status</th>\n",
       "    </tr>\n",
       "  </thead>\n",
       "  <tbody>\n",
       "    <tr>\n",
       "      <th>0</th>\n",
       "      <td>Female</td>\n",
       "      <td>48.0</td>\n",
       "      <td>False</td>\n",
       "      <td>False</td>\n",
       "      <td>Yes</td>\n",
       "      <td>Private</td>\n",
       "      <td>Urban</td>\n",
       "      <td>69.21</td>\n",
       "      <td>33.1</td>\n",
       "      <td>never smoked</td>\n",
       "    </tr>\n",
       "    <tr>\n",
       "      <th>1</th>\n",
       "      <td>Male</td>\n",
       "      <td>15.0</td>\n",
       "      <td>False</td>\n",
       "      <td>False</td>\n",
       "      <td>No</td>\n",
       "      <td>Private</td>\n",
       "      <td>Rural</td>\n",
       "      <td>122.25</td>\n",
       "      <td>21.0</td>\n",
       "      <td>never smoked</td>\n",
       "    </tr>\n",
       "    <tr>\n",
       "      <th>2</th>\n",
       "      <td>Female</td>\n",
       "      <td>67.0</td>\n",
       "      <td>False</td>\n",
       "      <td>False</td>\n",
       "      <td>Yes</td>\n",
       "      <td>Self-employed</td>\n",
       "      <td>Rural</td>\n",
       "      <td>110.42</td>\n",
       "      <td>24.9</td>\n",
       "      <td>never smoked</td>\n",
       "    </tr>\n",
       "    <tr>\n",
       "      <th>3</th>\n",
       "      <td>Male</td>\n",
       "      <td>44.0</td>\n",
       "      <td>False</td>\n",
       "      <td>False</td>\n",
       "      <td>Yes</td>\n",
       "      <td>Private</td>\n",
       "      <td>Urban</td>\n",
       "      <td>65.41</td>\n",
       "      <td>24.8</td>\n",
       "      <td>smokes</td>\n",
       "    </tr>\n",
       "    <tr>\n",
       "      <th>4</th>\n",
       "      <td>Male</td>\n",
       "      <td>14.0</td>\n",
       "      <td>False</td>\n",
       "      <td>False</td>\n",
       "      <td>No</td>\n",
       "      <td>Govt_job</td>\n",
       "      <td>Urban</td>\n",
       "      <td>82.34</td>\n",
       "      <td>31.6</td>\n",
       "      <td>Unknown</td>\n",
       "    </tr>\n",
       "  </tbody>\n",
       "</table>\n",
       "</div>"
      ],
      "text/plain": [
       "   gender   age hypertension heart_disease ever_married      work_type  \\\n",
       "0  Female  48.0        False         False          Yes        Private   \n",
       "1    Male  15.0        False         False           No        Private   \n",
       "2  Female  67.0        False         False          Yes  Self-employed   \n",
       "3    Male  44.0        False         False          Yes        Private   \n",
       "4    Male  14.0        False         False           No       Govt_job   \n",
       "\n",
       "  Residence_type  avg_glucose_level   bmi smoking_status  \n",
       "0          Urban              69.21  33.1   never smoked  \n",
       "1          Rural             122.25  21.0   never smoked  \n",
       "2          Rural             110.42  24.9   never smoked  \n",
       "3          Urban              65.41  24.8         smokes  \n",
       "4          Urban              82.34  31.6        Unknown  "
      ]
     },
     "execution_count": 31,
     "metadata": {},
     "output_type": "execute_result"
    }
   ],
   "source": [
    "X_train.head()"
   ]
  },
  {
   "cell_type": "code",
   "execution_count": 32,
   "id": "8bc8ca9c",
   "metadata": {},
   "outputs": [
    {
     "data": {
      "text/plain": [
       "gender                object\n",
       "age                  float64\n",
       "hypertension          object\n",
       "heart_disease         object\n",
       "ever_married          object\n",
       "work_type             object\n",
       "Residence_type        object\n",
       "avg_glucose_level    float64\n",
       "bmi                  float64\n",
       "smoking_status        object\n",
       "dtype: object"
      ]
     },
     "execution_count": 32,
     "metadata": {},
     "output_type": "execute_result"
    }
   ],
   "source": [
    "X_train.dtypes"
   ]
  },
  {
   "cell_type": "code",
   "execution_count": 33,
   "id": "c1badbf9",
   "metadata": {},
   "outputs": [
    {
     "data": {
      "text/plain": [
       "Female    599\n",
       "Male      423\n",
       "Name: gender, dtype: int64"
      ]
     },
     "execution_count": 33,
     "metadata": {},
     "output_type": "execute_result"
    }
   ],
   "source": [
    "X_test['gender'].value_counts()"
   ]
  },
  {
   "cell_type": "code",
   "execution_count": 34,
   "id": "d52b56dc",
   "metadata": {},
   "outputs": [
    {
     "data": {
      "text/plain": [
       "\"\\nclass BinaryToBool(BaseEstimator, TransformerMixin):\\n    \\n    def fit(self, X, y=None):\\n        return self\\n    \\n    def transform(self, X, y=None):\\n        def toB(element):\\n            if element == 1:\\n                return 'True'\\n            elif element == 0:\\n                return 'False'\\n        for row in X:\\n            #print(row.shape)\\n            row[2] = toB(row[2])\\n            row[3] = toB(row[3])\\n        print(X[0])\\n        return X\\n\""
      ]
     },
     "execution_count": 34,
     "metadata": {},
     "output_type": "execute_result"
    }
   ],
   "source": [
    "# First, let's deal with the categorical features. I'm going to use a OneHotEncoder to encode them, because the categories don't follow any logical progression.\n",
    "\n",
    "encoder = OneHotEncoder()\n",
    "\n",
    "# See: https://stackoverflow.com/questions/62191643/is-there-a-way-to-force-simpleimputer-to-return-a-pandas-dataframe\n",
    "\n",
    "# Next, let's address the numerical features. There's still some NANs for the bmi, so I'll just be using a imputer to get the mean bmi.\n",
    "\n",
    "imputer = SimpleImputer()\n",
    "\n",
    "# Finally, I'm gonna throw it all into a column transformer. Two, so it'll work with the imbalanced learn sampling stuff.\n",
    "\n",
    "transformer_imp = ColumnTransformer([\n",
    "    ('num_imputer', imputer,  numerical_features)\n",
    "    ],\n",
    "    remainder='passthrough')\n",
    "\n",
    "transformer_enc =  ColumnTransformer([\n",
    "    ('cat_encoder', encoder, [3, 4, 5, 6, 7, 8, 9])\n",
    "    ],\n",
    "    remainder='passthrough')\n",
    "# Finally, I'm going to scale all these different features down so it's usuable for the algorithms. Also, I'll be implementing the Pipeline.\n",
    "\n",
    "#scaler = StandardScaler()\n",
    "\n",
    "# Also, Imbalanced learn's smotenc\n",
    "\n",
    "smote_nc = SMOTENC(categorical_features=[3, 4, 5, 6, 7, 8, 9], random_state=42)\n",
    "\n",
    "# For imblearn, I'm gonna need to convert the 'heart_disease' and 'hypertension' features back into categoricals I will implement this via the followin\n",
    "\n",
    "from sklearn.base import BaseEstimator, TransformerMixin\n",
    "'''\n",
    "class BinaryToBool(BaseEstimator, TransformerMixin):\n",
    "    \n",
    "    def fit(self, X, y=None):\n",
    "        return self\n",
    "    \n",
    "    def transform(self, X, y=None):\n",
    "        def toB(element):\n",
    "            if element == 1:\n",
    "                return 'True'\n",
    "            elif element == 0:\n",
    "                return 'False'\n",
    "        for row in X:\n",
    "            #print(row.shape)\n",
    "            row[2] = toB(row[2])\n",
    "            row[3] = toB(row[3])\n",
    "        print(X[0])\n",
    "        return X\n",
    "'''"
   ]
  },
  {
   "cell_type": "code",
   "execution_count": 35,
   "id": "5ea7333f",
   "metadata": {},
   "outputs": [],
   "source": [
    "# Put models in a dictionary\n",
    "\n",
    "models = {'Logistic Regression' : LogisticRegression(),\n",
    "          'KNN' : KNeighborsClassifier(),\n",
    "          'Random Forest' : RandomForestClassifier()}\n",
    "\n",
    "# Create a function to fit and score models:\n",
    "\n",
    "def fit_and_score(models, X_train, X_test, y_train, y_test):\n",
    "    \"\"\"\n",
    "    Fits and evaluates given machine learning models.\n",
    "    \n",
    "    models : a dict of different Scikit-Learn Machine Learning Models\n",
    "    X_train : Training Data (no labels)\n",
    "    X_test : Test data (no labels)\n",
    "    y_train : training labels\n",
    "    y_test : y_labels\n",
    "    \"\"\"\n",
    "    \n",
    "    # Set seed\n",
    "    \n",
    "    np.random.seed(42)\n",
    "    \n",
    "    # Make a dictionary to keep model scores:\n",
    "    \n",
    "    model_scores = {}\n",
    "    \n",
    "    for name, mod in models.items():\n",
    "        \n",
    "        model = Pipeline([\n",
    "                        ('imputer', transformer_imp),\n",
    "                        ('sampler', smote_nc),\n",
    "                        ('encoder', transformer_enc),\n",
    "                        ('scaler', StandardScaler(with_mean=False)),\n",
    "                        ('model', mod)\n",
    "                    ])\n",
    "        \n",
    "        # Fit model\n",
    "        model.fit(X_train, y_train)\n",
    "        # Evaluate and append to model_scores\n",
    "        preds = model.predict(X_test)\n",
    "        model_scores[name] = [accuracy_score(y_test, preds),\n",
    "            recall_score(y_test, preds),\n",
    "            precision_score(y_test, preds),\n",
    "            f1_score(y_test, preds)\n",
    "        ]\n",
    "    return model_scores"
   ]
  },
  {
   "cell_type": "code",
   "execution_count": 36,
   "id": "92858448",
   "metadata": {},
   "outputs": [
    {
     "data": {
      "text/plain": [
       "pandas.core.frame.DataFrame"
      ]
     },
     "execution_count": 36,
     "metadata": {},
     "output_type": "execute_result"
    }
   ],
   "source": [
    "type(X_train)"
   ]
  },
  {
   "cell_type": "code",
   "execution_count": 37,
   "id": "0f76363a",
   "metadata": {
    "scrolled": true
   },
   "outputs": [
    {
     "name": "stderr",
     "output_type": "stream",
     "text": [
      "C:\\Users\\DarkH\\OneDrive\\Desktop\\Learning Programming OuO\\Machine Learning Course\\env\\lib\\site-packages\\sklearn\\linear_model\\_logistic.py:814: ConvergenceWarning: lbfgs failed to converge (status=1):\n",
      "STOP: TOTAL NO. of ITERATIONS REACHED LIMIT.\n",
      "\n",
      "Increase the number of iterations (max_iter) or scale the data as shown in:\n",
      "    https://scikit-learn.org/stable/modules/preprocessing.html\n",
      "Please also refer to the documentation for alternative solver options:\n",
      "    https://scikit-learn.org/stable/modules/linear_model.html#logistic-regression\n",
      "  n_iter_i = _check_optimize_result(\n"
     ]
    },
    {
     "name": "stdout",
     "output_type": "stream",
     "text": [
      "{'Logistic Regression': [0.7583170254403131, 0.68, 0.12830188679245283, 0.21587301587301588], 'KNN': [0.8062622309197651, 0.3, 0.08426966292134831, 0.13157894736842105], 'Random Forest': [0.8855185909980431, 0.24, 0.13186813186813187, 0.17021276595744683]}\n"
     ]
    }
   ],
   "source": [
    "scores = fit_and_score(models, X_train, X_test, y_train, y_test)\n",
    "print(scores) # Accuracy is good, but the actual ability to classify strokes (recall -> No false negatives) is absolutely horrendous."
   ]
  },
  {
   "cell_type": "code",
   "execution_count": 38,
   "id": "da356460",
   "metadata": {},
   "outputs": [],
   "source": [
    "# Debugging\n",
    "\n",
    "#transformer_imp_X = transformer_imp.fit_transform(X_train)\n",
    "#transformer_imp_X[0]"
   ]
  },
  {
   "cell_type": "markdown",
   "id": "9cef552f",
   "metadata": {},
   "source": [
    "### Model Comparison"
   ]
  },
  {
   "cell_type": "code",
   "execution_count": 39,
   "id": "82acac16",
   "metadata": {},
   "outputs": [
    {
     "data": {
      "image/png": "[encoded data removed]",
      "text/plain": [
       "<Figure size 432x288 with 1 Axes>"
      ]
     },
     "metadata": {
      "needs_background": "light"
     },
     "output_type": "display_data"
    }
   ],
   "source": [
    "model_compare = pd.DataFrame(scores, index=['accuracy', 'recall', 'precision', 'f1'])\n",
    "model_compare.T.plot.bar();"
   ]
  },
  {
   "cell_type": "markdown",
   "id": "ae534e22",
   "metadata": {},
   "source": [
    "So precision's in the garbage for all of them, but it's better to predict a stroke, rather than not and be wrong about the risk of stroke. Accuracy is best on Random Forest, but it's actually not so great because of the low precision and recall scores. Many false negatives might kill people!\n",
    "\n",
    "So Logistic Regression is actually the best model for the job."
   ]
  },
  {
   "cell_type": "markdown",
   "id": "dd2724a5",
   "metadata": {},
   "source": [
    "Let's look at the following:\n",
    "* Hyperparameter Tuning\n",
    "* Feature Importance\n",
    "* Confusion Matrix\n",
    "* Cross-validation\n",
    "* Precision\n",
    "* Recall\n",
    "* F1 Score\n",
    "* Classification Report\n",
    "* ROC Curve\n",
    "* Area under the Curve (AUC)"
   ]
  },
  {
   "cell_type": "markdown",
   "id": "f2ebfc95",
   "metadata": {},
   "source": [
    "#### Hyperparameter Tuning By Hand"
   ]
  },
  {
   "cell_type": "code",
   "execution_count": 40,
   "id": "3d601255",
   "metadata": {},
   "outputs": [],
   "source": [
    "# Let's tune KNN\n",
    "\n",
    "train_scores = []\n",
    "test_scores = []\n",
    "\n",
    "# Create a list of different values for n_neighbours\n",
    "\n",
    "neighbours = range(1, 21)\n",
    "\n",
    "knn = KNeighborsClassifier()\n",
    "\n",
    "for i in neighbours:\n",
    "    knn.set_params(n_neighbors=i)\n",
    "\n",
    "    model = Pipeline([\n",
    "                        ('imputer', transformer_imp),\n",
    "                        ('sampler', smote_nc),\n",
    "                        ('encoder', transformer_enc),\n",
    "                        ('scaler', StandardScaler(with_mean=False)),\n",
    "                        ('model', knn)\n",
    "                    ])\n",
    "    \n",
    "    model.fit(X_train, y_train)\n",
    "    \n",
    "    train_preds = model.predict(X_train)\n",
    "    train_scores.append([accuracy_score(y_train, train_preds),\n",
    "            recall_score(y_train, train_preds),\n",
    "            precision_score(y_train, train_preds),\n",
    "            f1_score(y_train, train_preds)\n",
    "        ])\n",
    "    \n",
    "    test_preds = model.predict(X_test)\n",
    "    test_scores.append([accuracy_score(y_test, test_preds),\n",
    "            recall_score(y_test, test_preds),\n",
    "            precision_score(y_test, test_preds),\n",
    "            f1_score(y_test, test_preds)\n",
    "        ])\n",
    "    \n"
   ]
  },
  {
   "cell_type": "code",
   "execution_count": 41,
   "id": "9a016448",
   "metadata": {},
   "outputs": [
    {
     "data": {
      "text/plain": [
       "[[1.0, 1.0, 1.0, 1.0],\n",
       " [0.9779843444227005, 0.5477386934673367, 1.0, 0.7077922077922079],\n",
       " [0.9072896281800391,\n",
       "  0.6180904522613065,\n",
       "  0.2887323943661972,\n",
       "  0.39360000000000006],\n",
       " [0.9148727984344422,\n",
       "  0.5477386934673367,\n",
       "  0.2970027247956403,\n",
       "  0.3851590106007067],\n",
       " [0.8688845401174168,\n",
       "  0.6180904522613065,\n",
       "  0.2109777015437393,\n",
       "  0.31457800511508954],\n",
       " [0.87720156555773,\n",
       "  0.5879396984924623,\n",
       "  0.21787709497206703,\n",
       "  0.3179347826086957],\n",
       " [0.8441780821917808,\n",
       "  0.6130653266331658,\n",
       "  0.17888563049853373,\n",
       "  0.27695800227014755],\n",
       " [0.8537181996086106,\n",
       "  0.6080402010050251,\n",
       "  0.18876755070202808,\n",
       "  0.28809523809523807],\n",
       " [0.824119373776908,\n",
       "  0.6231155778894473,\n",
       "  0.16145833333333334,\n",
       "  0.2564632885211996],\n",
       " [0.8317025440313112,\n",
       "  0.6030150753768844,\n",
       "  0.1646090534979424,\n",
       "  0.2586206896551724],\n",
       " [0.8104207436399217,\n",
       "  0.628140703517588,\n",
       "  0.1513317191283293,\n",
       "  0.24390243902439024],\n",
       " [0.8184931506849316,\n",
       "  0.6130653266331658,\n",
       "  0.15501905972045743,\n",
       "  0.24746450304259632],\n",
       " [0.7947651663405088,\n",
       "  0.6432160804020101,\n",
       "  0.14285714285714285,\n",
       "  0.2337899543378995],\n",
       " [0.8038160469667319,\n",
       "  0.6180904522613065,\n",
       "  0.14487632508833923,\n",
       "  0.23473282442748092],\n",
       " [0.7847358121330724,\n",
       "  0.6532663316582915,\n",
       "  0.1381509032943677,\n",
       "  0.2280701754385965],\n",
       " [0.791095890410959,\n",
       "  0.6432160804020101,\n",
       "  0.14050493962678376,\n",
       "  0.2306306306306306],\n",
       " [0.7773972602739726,\n",
       "  0.6683417085427136,\n",
       "  0.13613101330603888,\n",
       "  0.22619047619047622],\n",
       " [0.7854696673189824,\n",
       "  0.6683417085427136,\n",
       "  0.1408898305084746,\n",
       "  0.23272090988626423],\n",
       " [0.7698140900195695,\n",
       "  0.6934673366834171,\n",
       "  0.13555992141453832,\n",
       "  0.22678718159408384],\n",
       " [0.7749510763209393,\n",
       "  0.6733668341708543,\n",
       "  0.13549039433771487,\n",
       "  0.22558922558922562]]"
      ]
     },
     "execution_count": 41,
     "metadata": {},
     "output_type": "execute_result"
    }
   ],
   "source": [
    "train_scores"
   ]
  },
  {
   "cell_type": "code",
   "execution_count": 42,
   "id": "947ab424",
   "metadata": {},
   "outputs": [
    {
     "data": {
      "text/plain": [
       "[[0.8395303326810176, 0.2, 0.07462686567164178, 0.10869565217391304],\n",
       " [0.8747553816046967, 0.18, 0.09375, 0.12328767123287672],\n",
       " [0.8326810176125244, 0.28, 0.09395973154362416, 0.14070351758793972],\n",
       " [0.8483365949119374, 0.26, 0.09923664122137404, 0.143646408839779],\n",
       " [0.8062622309197651, 0.3, 0.08426966292134831, 0.13157894736842105],\n",
       " [0.8228962818003914, 0.28, 0.0880503144654088, 0.1339712918660287],\n",
       " [0.7915851272015656, 0.36, 0.09045226130653267, 0.14457831325301207],\n",
       " [0.8052837573385518, 0.34, 0.09289617486338798, 0.14592274678111591],\n",
       " [0.7788649706457925, 0.36, 0.08490566037735849, 0.13740458015267173],\n",
       " [0.7876712328767124, 0.34, 0.0845771144278607, 0.1354581673306773],\n",
       " [0.7690802348336595, 0.4, 0.08849557522123894, 0.14492753623188404],\n",
       " [0.7808219178082192, 0.38, 0.08962264150943396, 0.1450381679389313],\n",
       " [0.7651663405088063, 0.42, 0.09051724137931035, 0.14893617021276595],\n",
       " [0.7759295499021527, 0.38, 0.08755760368663594, 0.14232209737827714],\n",
       " [0.7622309197651663, 0.44, 0.09282700421940929, 0.15331010452961671],\n",
       " [0.7671232876712328, 0.42, 0.09130434782608696, 0.15],\n",
       " [0.7573385518590998, 0.46, 0.0942622950819672, 0.15646258503401358],\n",
       " [0.7632093933463796, 0.44, 0.09322033898305085, 0.15384615384615383],\n",
       " [0.7426614481409002, 0.44, 0.08560311284046693, 0.14332247557003258],\n",
       " [0.7485322896281801, 0.44, 0.08764940239043825, 0.1461794019933555]]"
      ]
     },
     "execution_count": 42,
     "metadata": {},
     "output_type": "execute_result"
    }
   ],
   "source": [
    "test_scores"
   ]
  },
  {
   "cell_type": "code",
   "execution_count": 43,
   "id": "8dc1e4ec",
   "metadata": {},
   "outputs": [
    {
     "data": {
      "image/png": "[encoded data removed]",
      "text/plain": [
       "<Figure size 432x288 with 1 Axes>"
      ]
     },
     "metadata": {
      "needs_background": "light"
     },
     "output_type": "display_data"
    }
   ],
   "source": [
    "plt.plot(neighbours, train_scores, label=\"Train Score\")\n",
    "plt.legend(['Accuracy', 'Recall', 'Precision', 'F1 Score'])\n",
    "plt.xticks(np.arange(1, 21, 1))\n",
    "plt.xlabel(\"Number of Neighbours\");"
   ]
  },
  {
   "cell_type": "code",
   "execution_count": 44,
   "id": "3c83fb33",
   "metadata": {},
   "outputs": [
    {
     "data": {
      "image/png": "[encoded data removed]",
      "text/plain": [
       "<Figure size 432x288 with 1 Axes>"
      ]
     },
     "metadata": {
      "needs_background": "light"
     },
     "output_type": "display_data"
    }
   ],
   "source": [
    "plt.plot(neighbours, test_scores, label=\"Test Score\")\n",
    "plt.legend(['Accuracy', 'Recall', 'Precision', 'F1 Score'])\n",
    "plt.xticks(np.arange(1, 21, 1))\n",
    "plt.xlabel(\"Number of Neighbours\");"
   ]
  },
  {
   "cell_type": "markdown",
   "id": "14612392",
   "metadata": {},
   "source": [
    "From the above, in terms of test scores, we can surmise that `n_neighbors=17` produces the best f1_score and the best result overall.\n",
    "\n",
    "However, it still isn't as good as Logistic Regression, so we'll discard KNN for now."
   ]
  },
  {
   "cell_type": "markdown",
   "id": "9075a116",
   "metadata": {},
   "source": [
    "### Tuning Hyperparameters with `RandomizedSearchCV`\n",
    "\n",
    "We're going to tune:\n",
    "\n",
    "* `LogisticRegression()`\n",
    "* `RandomForestClassifier()`"
   ]
  },
  {
   "cell_type": "code",
   "execution_count": 45,
   "id": "463b16c6",
   "metadata": {},
   "outputs": [],
   "source": [
    "# Create a hyperparameter grid for LogisticRegression\n",
    "\n",
    "log_reg_grid = {'model__C' : [0.1, 1, 10, 100],\n",
    "                'model__solver' : ['liblinear', 'lbfgs'],\n",
    "                'model__penalty' : ['l1', 'l2']}\n",
    "\n",
    "# Now for RandomForestClassifier\n",
    "\n",
    "rf_grid = {'model__n_estimators' : np.arange(10, 500, 50),\n",
    "           'model__max_depth' : [None, 3, 5, 10],\n",
    "           'model__min_samples_split' : np.arange(2, 20, 2),\n",
    "           'model__min_samples_leaf': np.arange(1, 20, 2)}"
   ]
  },
  {
   "cell_type": "code",
   "execution_count": 46,
   "id": "0bc356fa",
   "metadata": {},
   "outputs": [],
   "source": [
    "# Time to use RandomizedSearchCV\n",
    "\n",
    "# # Tune LogisticRegression\n",
    "\n",
    "np.random.seed(42)\n",
    "\n",
    "# Setup\n",
    "\n",
    "\n",
    "\n",
    "\n",
    "\n",
    "model = Pipeline([\n",
    "                        ('imputer', transformer_imp),\n",
    "                        ('sampler', smote_nc),\n",
    "                        ('encoder', transformer_enc),\n",
    "                        ('scaler', StandardScaler(with_mean=False)),\n",
    "                        ('model', LogisticRegression())\n",
    "                    ])\n",
    "\n",
    "rs_log_reg = RandomizedSearchCV(model,\n",
    "                                log_reg_grid,\n",
    "                                cv=5,\n",
    "                                n_iter=20,\n",
    "                                verbose=True)\n",
    "\n",
    "#rs_log_reg.fit(X_train, y_train)"
   ]
  },
  {
   "cell_type": "code",
   "execution_count": 47,
   "id": "0634fae7",
   "metadata": {},
   "outputs": [],
   "source": [
    "#rs_log_reg.best_params_"
   ]
  },
  {
   "cell_type": "code",
   "execution_count": 48,
   "id": "dd8208b9",
   "metadata": {},
   "outputs": [],
   "source": [
    "#preds = rs_log_reg.predict(X_test)\n",
    "#accuracy_score(y_test, preds), recall_score(y_test, preds), precision_score(y_test, preds), f1_score(y_test, preds)"
   ]
  },
  {
   "cell_type": "markdown",
   "id": "ceab0db8",
   "metadata": {},
   "source": [
    "It's actually not better than the normal parameters."
   ]
  },
  {
   "cell_type": "code",
   "execution_count": 49,
   "id": "997227f8",
   "metadata": {},
   "outputs": [],
   "source": [
    "# Now the RandomForestClassifier\n",
    "\n",
    "np.random.seed(42)\n",
    "\n",
    "# Setup\n",
    "\n",
    "\n",
    "\n",
    "\n",
    "\n",
    "model = Pipeline([\n",
    "                        ('imputer', transformer_imp),\n",
    "                        ('sampler', smote_nc),\n",
    "                        ('encoder', transformer_enc),\n",
    "                        ('scaler', StandardScaler(with_mean=False)),\n",
    "                        ('model', RandomForestClassifier())\n",
    "                    ])\n",
    "\n",
    "rs_log_reg = RandomizedSearchCV(model,\n",
    "                                rf_grid,\n",
    "                                cv=5,\n",
    "                                n_iter=20,\n",
    "                                verbose=True)\n",
    "\n",
    "#rs_log_reg.fit(X_train, y_train)"
   ]
  },
  {
   "cell_type": "code",
   "execution_count": 50,
   "id": "3fd8a188",
   "metadata": {},
   "outputs": [],
   "source": [
    "#rs_log_reg.best_params_"
   ]
  },
  {
   "cell_type": "code",
   "execution_count": 51,
   "id": "957d9dd3",
   "metadata": {},
   "outputs": [],
   "source": [
    "#preds = rs_log_reg.predict(X_test)\n",
    "#accuracy_score(y_test, preds), recall_score(y_test, preds), precision_score(y_test, preds), f1_score(y_test, preds)"
   ]
  },
  {
   "cell_type": "markdown",
   "id": "7943a38d",
   "metadata": {},
   "source": [
    "Decent accuracy and recall. Terrible precision. Inferior f1_score.\n",
    "\n",
    "Best to use default `LogisticRegression`, to be honest."
   ]
  },
  {
   "cell_type": "markdown",
   "id": "ae32c0ae",
   "metadata": {},
   "source": [
    "### Hyperparameter Tuning with `GridSearchCV`\n",
    "\n",
    "Since our `LogisticRegression` model provides the best scores so far, we'll try and improve them again using `GridSearchCV`."
   ]
  },
  {
   "cell_type": "code",
   "execution_count": 52,
   "id": "2e07e4d2",
   "metadata": {},
   "outputs": [],
   "source": [
    "# Hyperparamter Grid\n",
    "\n",
    "log_reg_grid = {\n",
    "    'model__C' : np.logspace(-4, 4, 20),\n",
    "    'model__solver' : ['liblinear', 'lbfgs'],\n",
    "    'model__penalty' : ['l1', 'l2', 'none']\n",
    "}\n",
    "\n",
    "# Setup\n",
    "\n",
    "model = Pipeline([\n",
    "                        ('imputer', transformer_imp),\n",
    "                        ('sampler', smote_nc),\n",
    "                        ('encoder', transformer_enc),\n",
    "                        ('scaler', StandardScaler(with_mean=False)),\n",
    "                        ('model', LogisticRegression())\n",
    "                    ])\n",
    "\n",
    "gs_log_reg = GridSearchCV(model,\n",
    "                                log_reg_grid,\n",
    "                                cv=5,\n",
    "                                verbose=True)\n",
    "\n",
    "#gs_log_reg.fit(X_train, y_train)"
   ]
  },
  {
   "cell_type": "code",
   "execution_count": 53,
   "id": "b860e27e",
   "metadata": {},
   "outputs": [],
   "source": [
    "#gs_log_reg.best_params_"
   ]
  },
  {
   "cell_type": "code",
   "execution_count": 54,
   "id": "7711b600",
   "metadata": {},
   "outputs": [],
   "source": [
    "#preds = gs_log_reg.predict(X_test)\n",
    "#accuracy_score(y_test, preds), recall_score(y_test, preds), precision_score(y_test, preds), f1_score(y_test, preds)"
   ]
  },
  {
   "cell_type": "code",
   "execution_count": 55,
   "id": "0cdaef58",
   "metadata": {},
   "outputs": [],
   "source": [
    "#preds"
   ]
  },
  {
   "cell_type": "markdown",
   "id": "e770eadb",
   "metadata": {},
   "source": [
    "We got a horrendous result because the grid search was selecting for accuracy instead of f1_score or recall. Think we should keep `LogisticRegression` as normal."
   ]
  },
  {
   "cell_type": "markdown",
   "id": "ab40505f",
   "metadata": {},
   "source": [
    "## Evaluate our Machine Learning Classifier\n",
    "\n",
    "* ROC curve and AUC SCore\n",
    "* Confusion Matrix\n",
    "* Classification Report\n",
    "* Precision\n",
    "* Recall\n",
    "* F1-Score\n",
    "\n",
    "Also, cross-validation should be used where possible.\n",
    "\n",
    "To make comparisons and evaluate, we first need to make predictions."
   ]
  },
  {
   "cell_type": "code",
   "execution_count": 56,
   "id": "f017b1cf",
   "metadata": {},
   "outputs": [
    {
     "name": "stderr",
     "output_type": "stream",
     "text": [
      "C:\\Users\\DarkH\\OneDrive\\Desktop\\Learning Programming OuO\\Machine Learning Course\\env\\lib\\site-packages\\sklearn\\linear_model\\_logistic.py:814: ConvergenceWarning: lbfgs failed to converge (status=1):\n",
      "STOP: TOTAL NO. of ITERATIONS REACHED LIMIT.\n",
      "\n",
      "Increase the number of iterations (max_iter) or scale the data as shown in:\n",
      "    https://scikit-learn.org/stable/modules/preprocessing.html\n",
      "Please also refer to the documentation for alternative solver options:\n",
      "    https://scikit-learn.org/stable/modules/linear_model.html#logistic-regression\n",
      "  n_iter_i = _check_optimize_result(\n"
     ]
    }
   ],
   "source": [
    "# Model\n",
    "\n",
    "np.random.seed(22)\n",
    "\n",
    "model = Pipeline([\n",
    "                        ('imputer', transformer_imp),\n",
    "                        ('sampler', smote_nc),\n",
    "                        ('encoder', transformer_enc),\n",
    "                        ('scaler', StandardScaler(with_mean=False)),\n",
    "                        ('model', LogisticRegression())\n",
    "                    ])\n",
    "\n",
    "model.fit(X_train, y_train)\n",
    "\n",
    "# Make predictions\n",
    "\n",
    "y_preds = model.predict(X_test)"
   ]
  },
  {
   "cell_type": "code",
   "execution_count": 57,
   "id": "4b5808cf",
   "metadata": {},
   "outputs": [
    {
     "data": {
      "text/plain": [
       "array([1, 0, 0, ..., 0, 0, 0], dtype=int64)"
      ]
     },
     "execution_count": 57,
     "metadata": {},
     "output_type": "execute_result"
    }
   ],
   "source": [
    "y_preds"
   ]
  },
  {
   "cell_type": "code",
   "execution_count": 58,
   "id": "ee17ad05",
   "metadata": {},
   "outputs": [
    {
     "data": {
      "text/plain": [
       "<sklearn.metrics._plot.roc_curve.RocCurveDisplay at 0x1fc90f81d90>"
      ]
     },
     "execution_count": 58,
     "metadata": {},
     "output_type": "execute_result"
    },
    {
     "data": {
      "image/png": "[encoded data removed]",
      "text/plain": [
       "<Figure size 432x288 with 1 Axes>"
      ]
     },
     "metadata": {
      "needs_background": "light"
     },
     "output_type": "display_data"
    }
   ],
   "source": [
    "# First, a ROC curve.\n",
    "\n",
    "RocCurveDisplay.from_predictions(y_test, y_preds)"
   ]
  },
  {
   "cell_type": "markdown",
   "id": "f94b0927",
   "metadata": {},
   "source": [
    "As you can see, the AUC score is (used to be) 0.72."
   ]
  },
  {
   "cell_type": "code",
   "execution_count": 59,
   "id": "95814bfe",
   "metadata": {},
   "outputs": [
    {
     "name": "stdout",
     "output_type": "stream",
     "text": [
      "[[741 231]\n",
      " [ 16  34]]\n"
     ]
    }
   ],
   "source": [
    "# Confusion Matrix\n",
    "\n",
    "print(confusion_matrix(y_test, y_preds))"
   ]
  },
  {
   "cell_type": "code",
   "execution_count": 60,
   "id": "8af6cef5",
   "metadata": {},
   "outputs": [
    {
     "data": {
      "text/plain": [
       "<sklearn.metrics._plot.confusion_matrix.ConfusionMatrixDisplay at 0x1fc8fce8e80>"
      ]
     },
     "execution_count": 60,
     "metadata": {},
     "output_type": "execute_result"
    },
    {
     "data": {
      "image/png": "[encoded data removed]",
      "text/plain": [
       "<Figure size 432x288 with 2 Axes>"
      ]
     },
     "metadata": {
      "needs_background": "light"
     },
     "output_type": "display_data"
    }
   ],
   "source": [
    "# Using ConfusionMatrixDisplay\n",
    "\n",
    "ConfusionMatrixDisplay.from_predictions(y_test, y_preds)"
   ]
  },
  {
   "cell_type": "code",
   "execution_count": 61,
   "id": "e20f10a1",
   "metadata": {},
   "outputs": [
    {
     "data": {
      "image/png": "[encoded data removed]",
      "text/plain": [
       "<Figure size 360x360 with 1 Axes>"
      ]
     },
     "metadata": {},
     "output_type": "display_data"
    }
   ],
   "source": [
    "# There's actually a ConfusionMatrixDisplay that does this easier, but I'll do it the manual way below just for posterity.\n",
    "\n",
    "sns.set(font_scale=1.5)\n",
    "\n",
    "def plot_conf_mat(y_test, y_preds):\n",
    "    \"\"\"\n",
    "    Plot a confusion matrix using Seaborn's heatmap()\n",
    "    \"\"\"\n",
    "    \n",
    "    fig, ax = plt.subplots(figsize=(5, 5))\n",
    "    ax = sns.heatmap(confusion_matrix(y_test, y_preds),\n",
    "                     annot=True,\n",
    "                     cbar=False)\n",
    "    \n",
    "    plt.xlabel(\"Predicted Label\")\n",
    "    plt.ylabel(\"True Label\")\n",
    "    \n",
    "    #bottom, top = ax.get_ylim()\n",
    "    #ax.set_ylim(bottom + 0.5, top - 0.5)\n",
    "    \n",
    "plot_conf_mat(y_test, y_preds)"
   ]
  },
  {
   "cell_type": "markdown",
   "id": "c2cb573f",
   "metadata": {},
   "source": [
    "Many false positives. However, the false negative rate is much lower than it'd ought to be without resampling, which is important when you're trying to make a prediction on if a person has or will have a stroke. Better to be worried than dead."
   ]
  },
  {
   "cell_type": "markdown",
   "id": "b6330d9d",
   "metadata": {},
   "source": [
    "Let's get a classification report, as well as cross-validated precision, recall, and f1_score."
   ]
  },
  {
   "cell_type": "code",
   "execution_count": 62,
   "id": "e86d8e20",
   "metadata": {},
   "outputs": [
    {
     "name": "stdout",
     "output_type": "stream",
     "text": [
      "              precision    recall  f1-score   support\n",
      "\n",
      "           0       0.98      0.76      0.86       972\n",
      "           1       0.13      0.68      0.22        50\n",
      "\n",
      "    accuracy                           0.76      1022\n",
      "   macro avg       0.55      0.72      0.54      1022\n",
      "weighted avg       0.94      0.76      0.83      1022\n",
      "\n"
     ]
    }
   ],
   "source": [
    "print(classification_report(y_test, y_preds))"
   ]
  },
  {
   "cell_type": "markdown",
   "id": "78b47e18",
   "metadata": {},
   "source": [
    "### Calculate Metrics using Cross-Validation\n",
    "\n",
    "Calculate accuracy, precision, recall, and f1-score of our model via cross-validation. Will use `cross_val_score`."
   ]
  },
  {
   "cell_type": "code",
   "execution_count": 79,
   "id": "f506d51f",
   "metadata": {},
   "outputs": [],
   "source": [
    "\n",
    " \n",
    "model = Pipeline([\n",
    "                        ('imputer', transformer_imp),\n",
    "                        ('sampler', smote_nc),\n",
    "                        ('encoder', transformer_enc),\n",
    "                        ('scaler', StandardScaler(with_mean=False)),\n",
    "                        ('model', LogisticRegression())\n",
    "                    ])"
   ]
  },
  {
   "cell_type": "code",
   "execution_count": 80,
   "id": "e62e162c",
   "metadata": {},
   "outputs": [
    {
     "name": "stderr",
     "output_type": "stream",
     "text": [
      "C:\\Users\\DarkH\\OneDrive\\Desktop\\Learning Programming OuO\\Machine Learning Course\\env\\lib\\site-packages\\sklearn\\linear_model\\_logistic.py:814: ConvergenceWarning: lbfgs failed to converge (status=1):\n",
      "STOP: TOTAL NO. of ITERATIONS REACHED LIMIT.\n",
      "\n",
      "Increase the number of iterations (max_iter) or scale the data as shown in:\n",
      "    https://scikit-learn.org/stable/modules/preprocessing.html\n",
      "Please also refer to the documentation for alternative solver options:\n",
      "    https://scikit-learn.org/stable/modules/linear_model.html#logistic-regression\n",
      "  n_iter_i = _check_optimize_result(\n",
      "C:\\Users\\DarkH\\OneDrive\\Desktop\\Learning Programming OuO\\Machine Learning Course\\env\\lib\\site-packages\\sklearn\\linear_model\\_logistic.py:814: ConvergenceWarning: lbfgs failed to converge (status=1):\n",
      "STOP: TOTAL NO. of ITERATIONS REACHED LIMIT.\n",
      "\n",
      "Increase the number of iterations (max_iter) or scale the data as shown in:\n",
      "    https://scikit-learn.org/stable/modules/preprocessing.html\n",
      "Please also refer to the documentation for alternative solver options:\n",
      "    https://scikit-learn.org/stable/modules/linear_model.html#logistic-regression\n",
      "  n_iter_i = _check_optimize_result(\n",
      "C:\\Users\\DarkH\\OneDrive\\Desktop\\Learning Programming OuO\\Machine Learning Course\\env\\lib\\site-packages\\sklearn\\linear_model\\_logistic.py:814: ConvergenceWarning: lbfgs failed to converge (status=1):\n",
      "STOP: TOTAL NO. of ITERATIONS REACHED LIMIT.\n",
      "\n",
      "Increase the number of iterations (max_iter) or scale the data as shown in:\n",
      "    https://scikit-learn.org/stable/modules/preprocessing.html\n",
      "Please also refer to the documentation for alternative solver options:\n",
      "    https://scikit-learn.org/stable/modules/linear_model.html#logistic-regression\n",
      "  n_iter_i = _check_optimize_result(\n",
      "C:\\Users\\DarkH\\OneDrive\\Desktop\\Learning Programming OuO\\Machine Learning Course\\env\\lib\\site-packages\\sklearn\\model_selection\\_validation.py:770: UserWarning: Scoring failed. The score on this train-test partition for these parameters will be set to nan. Details: \n",
      "Traceback (most recent call last):\n",
      "  File \"C:\\Users\\DarkH\\OneDrive\\Desktop\\Learning Programming OuO\\Machine Learning Course\\env\\lib\\site-packages\\sklearn\\model_selection\\_validation.py\", line 761, in _score\n",
      "    scores = scorer(estimator, X_test, y_test)\n",
      "  File \"C:\\Users\\DarkH\\OneDrive\\Desktop\\Learning Programming OuO\\Machine Learning Course\\env\\lib\\site-packages\\sklearn\\metrics\\_scorer.py\", line 103, in __call__\n",
      "    score = scorer._score(cached_call, estimator, *args, **kwargs)\n",
      "  File \"C:\\Users\\DarkH\\OneDrive\\Desktop\\Learning Programming OuO\\Machine Learning Course\\env\\lib\\site-packages\\sklearn\\metrics\\_scorer.py\", line 258, in _score\n",
      "    y_pred = method_caller(estimator, \"predict\", X)\n",
      "  File \"C:\\Users\\DarkH\\OneDrive\\Desktop\\Learning Programming OuO\\Machine Learning Course\\env\\lib\\site-packages\\sklearn\\metrics\\_scorer.py\", line 68, in _cached_call\n",
      "    return getattr(estimator, method)(*args, **kwargs)\n",
      "  File \"C:\\Users\\DarkH\\OneDrive\\Desktop\\Learning Programming OuO\\Machine Learning Course\\env\\lib\\site-packages\\sklearn\\utils\\metaestimators.py\", line 113, in <lambda>\n",
      "    out = lambda *args, **kwargs: self.fn(obj, *args, **kwargs)  # noqa\n",
      "  File \"C:\\Users\\DarkH\\OneDrive\\Desktop\\Learning Programming OuO\\Machine Learning Course\\env\\lib\\site-packages\\sklearn\\pipeline.py\", line 469, in predict\n",
      "    Xt = transform.transform(Xt)\n",
      "  File \"C:\\Users\\DarkH\\OneDrive\\Desktop\\Learning Programming OuO\\Machine Learning Course\\env\\lib\\site-packages\\sklearn\\compose\\_column_transformer.py\", line 748, in transform\n",
      "    Xs = self._fit_transform(\n",
      "  File \"C:\\Users\\DarkH\\OneDrive\\Desktop\\Learning Programming OuO\\Machine Learning Course\\env\\lib\\site-packages\\sklearn\\compose\\_column_transformer.py\", line 606, in _fit_transform\n",
      "    return Parallel(n_jobs=self.n_jobs)(\n",
      "  File \"C:\\Users\\DarkH\\OneDrive\\Desktop\\Learning Programming OuO\\Machine Learning Course\\env\\lib\\site-packages\\joblib\\parallel.py\", line 1043, in __call__\n",
      "    if self.dispatch_one_batch(iterator):\n",
      "  File \"C:\\Users\\DarkH\\OneDrive\\Desktop\\Learning Programming OuO\\Machine Learning Course\\env\\lib\\site-packages\\joblib\\parallel.py\", line 861, in dispatch_one_batch\n",
      "    self._dispatch(tasks)\n",
      "  File \"C:\\Users\\DarkH\\OneDrive\\Desktop\\Learning Programming OuO\\Machine Learning Course\\env\\lib\\site-packages\\joblib\\parallel.py\", line 779, in _dispatch\n",
      "    job = self._backend.apply_async(batch, callback=cb)\n",
      "  File \"C:\\Users\\DarkH\\OneDrive\\Desktop\\Learning Programming OuO\\Machine Learning Course\\env\\lib\\site-packages\\joblib\\_parallel_backends.py\", line 208, in apply_async\n",
      "    result = ImmediateResult(func)\n",
      "  File \"C:\\Users\\DarkH\\OneDrive\\Desktop\\Learning Programming OuO\\Machine Learning Course\\env\\lib\\site-packages\\joblib\\_parallel_backends.py\", line 572, in __init__\n",
      "    self.results = batch()\n",
      "  File \"C:\\Users\\DarkH\\OneDrive\\Desktop\\Learning Programming OuO\\Machine Learning Course\\env\\lib\\site-packages\\joblib\\parallel.py\", line 262, in __call__\n",
      "    return [func(*args, **kwargs)\n",
      "  File \"C:\\Users\\DarkH\\OneDrive\\Desktop\\Learning Programming OuO\\Machine Learning Course\\env\\lib\\site-packages\\joblib\\parallel.py\", line 262, in <listcomp>\n",
      "    return [func(*args, **kwargs)\n",
      "  File \"C:\\Users\\DarkH\\OneDrive\\Desktop\\Learning Programming OuO\\Machine Learning Course\\env\\lib\\site-packages\\sklearn\\utils\\fixes.py\", line 216, in __call__\n",
      "    return self.function(*args, **kwargs)\n",
      "  File \"C:\\Users\\DarkH\\OneDrive\\Desktop\\Learning Programming OuO\\Machine Learning Course\\env\\lib\\site-packages\\sklearn\\pipeline.py\", line 876, in _transform_one\n",
      "    res = transformer.transform(X)\n",
      "  File \"C:\\Users\\DarkH\\OneDrive\\Desktop\\Learning Programming OuO\\Machine Learning Course\\env\\lib\\site-packages\\sklearn\\preprocessing\\_encoders.py\", line 509, in transform\n",
      "    X_int, X_mask = self._transform(\n",
      "  File \"C:\\Users\\DarkH\\OneDrive\\Desktop\\Learning Programming OuO\\Machine Learning Course\\env\\lib\\site-packages\\sklearn\\preprocessing\\_encoders.py\", line 142, in _transform\n",
      "    raise ValueError(msg)\n",
      "ValueError: Found unknown categories ['Other'] in column 0 during transform\n",
      "\n",
      "  warnings.warn(\n",
      "C:\\Users\\DarkH\\OneDrive\\Desktop\\Learning Programming OuO\\Machine Learning Course\\env\\lib\\site-packages\\sklearn\\linear_model\\_logistic.py:814: ConvergenceWarning: lbfgs failed to converge (status=1):\n",
      "STOP: TOTAL NO. of ITERATIONS REACHED LIMIT.\n",
      "\n",
      "Increase the number of iterations (max_iter) or scale the data as shown in:\n",
      "    https://scikit-learn.org/stable/modules/preprocessing.html\n",
      "Please also refer to the documentation for alternative solver options:\n",
      "    https://scikit-learn.org/stable/modules/linear_model.html#logistic-regression\n",
      "  n_iter_i = _check_optimize_result(\n",
      "C:\\Users\\DarkH\\OneDrive\\Desktop\\Learning Programming OuO\\Machine Learning Course\\env\\lib\\site-packages\\sklearn\\linear_model\\_logistic.py:814: ConvergenceWarning: lbfgs failed to converge (status=1):\n",
      "STOP: TOTAL NO. of ITERATIONS REACHED LIMIT.\n",
      "\n",
      "Increase the number of iterations (max_iter) or scale the data as shown in:\n",
      "    https://scikit-learn.org/stable/modules/preprocessing.html\n",
      "Please also refer to the documentation for alternative solver options:\n",
      "    https://scikit-learn.org/stable/modules/linear_model.html#logistic-regression\n",
      "  n_iter_i = _check_optimize_result(\n"
     ]
    },
    {
     "data": {
      "text/plain": [
       "0.7517123287671234"
      ]
     },
     "execution_count": 80,
     "metadata": {},
     "output_type": "execute_result"
    }
   ],
   "source": [
    "# Cross-Validated Accuracy\n",
    "\n",
    "cv_acc = cross_val_score(model, X, y, cv=5, scoring=\"accuracy\")\n",
    "\n",
    "np.mean(cv_acc, where=~np.isnan(cv_acc))"
   ]
  },
  {
   "cell_type": "code",
   "execution_count": 81,
   "id": "304b386c",
   "metadata": {},
   "outputs": [
    {
     "name": "stderr",
     "output_type": "stream",
     "text": [
      "C:\\Users\\DarkH\\OneDrive\\Desktop\\Learning Programming OuO\\Machine Learning Course\\env\\lib\\site-packages\\sklearn\\linear_model\\_logistic.py:814: ConvergenceWarning: lbfgs failed to converge (status=1):\n",
      "STOP: TOTAL NO. of ITERATIONS REACHED LIMIT.\n",
      "\n",
      "Increase the number of iterations (max_iter) or scale the data as shown in:\n",
      "    https://scikit-learn.org/stable/modules/preprocessing.html\n",
      "Please also refer to the documentation for alternative solver options:\n",
      "    https://scikit-learn.org/stable/modules/linear_model.html#logistic-regression\n",
      "  n_iter_i = _check_optimize_result(\n",
      "C:\\Users\\DarkH\\OneDrive\\Desktop\\Learning Programming OuO\\Machine Learning Course\\env\\lib\\site-packages\\sklearn\\linear_model\\_logistic.py:814: ConvergenceWarning: lbfgs failed to converge (status=1):\n",
      "STOP: TOTAL NO. of ITERATIONS REACHED LIMIT.\n",
      "\n",
      "Increase the number of iterations (max_iter) or scale the data as shown in:\n",
      "    https://scikit-learn.org/stable/modules/preprocessing.html\n",
      "Please also refer to the documentation for alternative solver options:\n",
      "    https://scikit-learn.org/stable/modules/linear_model.html#logistic-regression\n",
      "  n_iter_i = _check_optimize_result(\n",
      "C:\\Users\\DarkH\\OneDrive\\Desktop\\Learning Programming OuO\\Machine Learning Course\\env\\lib\\site-packages\\sklearn\\linear_model\\_logistic.py:814: ConvergenceWarning: lbfgs failed to converge (status=1):\n",
      "STOP: TOTAL NO. of ITERATIONS REACHED LIMIT.\n",
      "\n",
      "Increase the number of iterations (max_iter) or scale the data as shown in:\n",
      "    https://scikit-learn.org/stable/modules/preprocessing.html\n",
      "Please also refer to the documentation for alternative solver options:\n",
      "    https://scikit-learn.org/stable/modules/linear_model.html#logistic-regression\n",
      "  n_iter_i = _check_optimize_result(\n",
      "C:\\Users\\DarkH\\OneDrive\\Desktop\\Learning Programming OuO\\Machine Learning Course\\env\\lib\\site-packages\\sklearn\\model_selection\\_validation.py:770: UserWarning: Scoring failed. The score on this train-test partition for these parameters will be set to nan. Details: \n",
      "Traceback (most recent call last):\n",
      "  File \"C:\\Users\\DarkH\\OneDrive\\Desktop\\Learning Programming OuO\\Machine Learning Course\\env\\lib\\site-packages\\sklearn\\model_selection\\_validation.py\", line 761, in _score\n",
      "    scores = scorer(estimator, X_test, y_test)\n",
      "  File \"C:\\Users\\DarkH\\OneDrive\\Desktop\\Learning Programming OuO\\Machine Learning Course\\env\\lib\\site-packages\\sklearn\\metrics\\_scorer.py\", line 103, in __call__\n",
      "    score = scorer._score(cached_call, estimator, *args, **kwargs)\n",
      "  File \"C:\\Users\\DarkH\\OneDrive\\Desktop\\Learning Programming OuO\\Machine Learning Course\\env\\lib\\site-packages\\sklearn\\metrics\\_scorer.py\", line 258, in _score\n",
      "    y_pred = method_caller(estimator, \"predict\", X)\n",
      "  File \"C:\\Users\\DarkH\\OneDrive\\Desktop\\Learning Programming OuO\\Machine Learning Course\\env\\lib\\site-packages\\sklearn\\metrics\\_scorer.py\", line 68, in _cached_call\n",
      "    return getattr(estimator, method)(*args, **kwargs)\n",
      "  File \"C:\\Users\\DarkH\\OneDrive\\Desktop\\Learning Programming OuO\\Machine Learning Course\\env\\lib\\site-packages\\sklearn\\utils\\metaestimators.py\", line 113, in <lambda>\n",
      "    out = lambda *args, **kwargs: self.fn(obj, *args, **kwargs)  # noqa\n",
      "  File \"C:\\Users\\DarkH\\OneDrive\\Desktop\\Learning Programming OuO\\Machine Learning Course\\env\\lib\\site-packages\\sklearn\\pipeline.py\", line 469, in predict\n",
      "    Xt = transform.transform(Xt)\n",
      "  File \"C:\\Users\\DarkH\\OneDrive\\Desktop\\Learning Programming OuO\\Machine Learning Course\\env\\lib\\site-packages\\sklearn\\compose\\_column_transformer.py\", line 748, in transform\n",
      "    Xs = self._fit_transform(\n",
      "  File \"C:\\Users\\DarkH\\OneDrive\\Desktop\\Learning Programming OuO\\Machine Learning Course\\env\\lib\\site-packages\\sklearn\\compose\\_column_transformer.py\", line 606, in _fit_transform\n",
      "    return Parallel(n_jobs=self.n_jobs)(\n",
      "  File \"C:\\Users\\DarkH\\OneDrive\\Desktop\\Learning Programming OuO\\Machine Learning Course\\env\\lib\\site-packages\\joblib\\parallel.py\", line 1043, in __call__\n",
      "    if self.dispatch_one_batch(iterator):\n",
      "  File \"C:\\Users\\DarkH\\OneDrive\\Desktop\\Learning Programming OuO\\Machine Learning Course\\env\\lib\\site-packages\\joblib\\parallel.py\", line 861, in dispatch_one_batch\n",
      "    self._dispatch(tasks)\n",
      "  File \"C:\\Users\\DarkH\\OneDrive\\Desktop\\Learning Programming OuO\\Machine Learning Course\\env\\lib\\site-packages\\joblib\\parallel.py\", line 779, in _dispatch\n",
      "    job = self._backend.apply_async(batch, callback=cb)\n",
      "  File \"C:\\Users\\DarkH\\OneDrive\\Desktop\\Learning Programming OuO\\Machine Learning Course\\env\\lib\\site-packages\\joblib\\_parallel_backends.py\", line 208, in apply_async\n",
      "    result = ImmediateResult(func)\n",
      "  File \"C:\\Users\\DarkH\\OneDrive\\Desktop\\Learning Programming OuO\\Machine Learning Course\\env\\lib\\site-packages\\joblib\\_parallel_backends.py\", line 572, in __init__\n",
      "    self.results = batch()\n",
      "  File \"C:\\Users\\DarkH\\OneDrive\\Desktop\\Learning Programming OuO\\Machine Learning Course\\env\\lib\\site-packages\\joblib\\parallel.py\", line 262, in __call__\n",
      "    return [func(*args, **kwargs)\n",
      "  File \"C:\\Users\\DarkH\\OneDrive\\Desktop\\Learning Programming OuO\\Machine Learning Course\\env\\lib\\site-packages\\joblib\\parallel.py\", line 262, in <listcomp>\n",
      "    return [func(*args, **kwargs)\n",
      "  File \"C:\\Users\\DarkH\\OneDrive\\Desktop\\Learning Programming OuO\\Machine Learning Course\\env\\lib\\site-packages\\sklearn\\utils\\fixes.py\", line 216, in __call__\n",
      "    return self.function(*args, **kwargs)\n",
      "  File \"C:\\Users\\DarkH\\OneDrive\\Desktop\\Learning Programming OuO\\Machine Learning Course\\env\\lib\\site-packages\\sklearn\\pipeline.py\", line 876, in _transform_one\n",
      "    res = transformer.transform(X)\n",
      "  File \"C:\\Users\\DarkH\\OneDrive\\Desktop\\Learning Programming OuO\\Machine Learning Course\\env\\lib\\site-packages\\sklearn\\preprocessing\\_encoders.py\", line 509, in transform\n",
      "    X_int, X_mask = self._transform(\n",
      "  File \"C:\\Users\\DarkH\\OneDrive\\Desktop\\Learning Programming OuO\\Machine Learning Course\\env\\lib\\site-packages\\sklearn\\preprocessing\\_encoders.py\", line 142, in _transform\n",
      "    raise ValueError(msg)\n",
      "ValueError: Found unknown categories ['Other'] in column 0 during transform\n",
      "\n",
      "  warnings.warn(\n",
      "C:\\Users\\DarkH\\OneDrive\\Desktop\\Learning Programming OuO\\Machine Learning Course\\env\\lib\\site-packages\\sklearn\\linear_model\\_logistic.py:814: ConvergenceWarning: lbfgs failed to converge (status=1):\n",
      "STOP: TOTAL NO. of ITERATIONS REACHED LIMIT.\n",
      "\n",
      "Increase the number of iterations (max_iter) or scale the data as shown in:\n",
      "    https://scikit-learn.org/stable/modules/preprocessing.html\n",
      "Please also refer to the documentation for alternative solver options:\n",
      "    https://scikit-learn.org/stable/modules/linear_model.html#logistic-regression\n",
      "  n_iter_i = _check_optimize_result(\n",
      "C:\\Users\\DarkH\\OneDrive\\Desktop\\Learning Programming OuO\\Machine Learning Course\\env\\lib\\site-packages\\sklearn\\linear_model\\_logistic.py:814: ConvergenceWarning: lbfgs failed to converge (status=1):\n",
      "STOP: TOTAL NO. of ITERATIONS REACHED LIMIT.\n",
      "\n",
      "Increase the number of iterations (max_iter) or scale the data as shown in:\n",
      "    https://scikit-learn.org/stable/modules/preprocessing.html\n",
      "Please also refer to the documentation for alternative solver options:\n",
      "    https://scikit-learn.org/stable/modules/linear_model.html#logistic-regression\n",
      "  n_iter_i = _check_optimize_result(\n"
     ]
    },
    {
     "data": {
      "text/plain": [
       "0.1191074746108489"
      ]
     },
     "execution_count": 81,
     "metadata": {},
     "output_type": "execute_result"
    }
   ],
   "source": [
    "# Cross-Validated Precision\n",
    "\n",
    "cv_precision = cross_val_score(model, X, y, cv=5, scoring=\"precision\")\n",
    "\n",
    "np.mean(cv_precision, where=~np.isnan(cv_precision))"
   ]
  },
  {
   "cell_type": "code",
   "execution_count": 82,
   "id": "ec6b8649",
   "metadata": {},
   "outputs": [
    {
     "name": "stderr",
     "output_type": "stream",
     "text": [
      "C:\\Users\\DarkH\\OneDrive\\Desktop\\Learning Programming OuO\\Machine Learning Course\\env\\lib\\site-packages\\sklearn\\linear_model\\_logistic.py:814: ConvergenceWarning: lbfgs failed to converge (status=1):\n",
      "STOP: TOTAL NO. of ITERATIONS REACHED LIMIT.\n",
      "\n",
      "Increase the number of iterations (max_iter) or scale the data as shown in:\n",
      "    https://scikit-learn.org/stable/modules/preprocessing.html\n",
      "Please also refer to the documentation for alternative solver options:\n",
      "    https://scikit-learn.org/stable/modules/linear_model.html#logistic-regression\n",
      "  n_iter_i = _check_optimize_result(\n",
      "C:\\Users\\DarkH\\OneDrive\\Desktop\\Learning Programming OuO\\Machine Learning Course\\env\\lib\\site-packages\\sklearn\\linear_model\\_logistic.py:814: ConvergenceWarning: lbfgs failed to converge (status=1):\n",
      "STOP: TOTAL NO. of ITERATIONS REACHED LIMIT.\n",
      "\n",
      "Increase the number of iterations (max_iter) or scale the data as shown in:\n",
      "    https://scikit-learn.org/stable/modules/preprocessing.html\n",
      "Please also refer to the documentation for alternative solver options:\n",
      "    https://scikit-learn.org/stable/modules/linear_model.html#logistic-regression\n",
      "  n_iter_i = _check_optimize_result(\n",
      "C:\\Users\\DarkH\\OneDrive\\Desktop\\Learning Programming OuO\\Machine Learning Course\\env\\lib\\site-packages\\sklearn\\linear_model\\_logistic.py:814: ConvergenceWarning: lbfgs failed to converge (status=1):\n",
      "STOP: TOTAL NO. of ITERATIONS REACHED LIMIT.\n",
      "\n",
      "Increase the number of iterations (max_iter) or scale the data as shown in:\n",
      "    https://scikit-learn.org/stable/modules/preprocessing.html\n",
      "Please also refer to the documentation for alternative solver options:\n",
      "    https://scikit-learn.org/stable/modules/linear_model.html#logistic-regression\n",
      "  n_iter_i = _check_optimize_result(\n",
      "C:\\Users\\DarkH\\OneDrive\\Desktop\\Learning Programming OuO\\Machine Learning Course\\env\\lib\\site-packages\\sklearn\\model_selection\\_validation.py:770: UserWarning: Scoring failed. The score on this train-test partition for these parameters will be set to nan. Details: \n",
      "Traceback (most recent call last):\n",
      "  File \"C:\\Users\\DarkH\\OneDrive\\Desktop\\Learning Programming OuO\\Machine Learning Course\\env\\lib\\site-packages\\sklearn\\model_selection\\_validation.py\", line 761, in _score\n",
      "    scores = scorer(estimator, X_test, y_test)\n",
      "  File \"C:\\Users\\DarkH\\OneDrive\\Desktop\\Learning Programming OuO\\Machine Learning Course\\env\\lib\\site-packages\\sklearn\\metrics\\_scorer.py\", line 103, in __call__\n",
      "    score = scorer._score(cached_call, estimator, *args, **kwargs)\n",
      "  File \"C:\\Users\\DarkH\\OneDrive\\Desktop\\Learning Programming OuO\\Machine Learning Course\\env\\lib\\site-packages\\sklearn\\metrics\\_scorer.py\", line 258, in _score\n",
      "    y_pred = method_caller(estimator, \"predict\", X)\n",
      "  File \"C:\\Users\\DarkH\\OneDrive\\Desktop\\Learning Programming OuO\\Machine Learning Course\\env\\lib\\site-packages\\sklearn\\metrics\\_scorer.py\", line 68, in _cached_call\n",
      "    return getattr(estimator, method)(*args, **kwargs)\n",
      "  File \"C:\\Users\\DarkH\\OneDrive\\Desktop\\Learning Programming OuO\\Machine Learning Course\\env\\lib\\site-packages\\sklearn\\utils\\metaestimators.py\", line 113, in <lambda>\n",
      "    out = lambda *args, **kwargs: self.fn(obj, *args, **kwargs)  # noqa\n",
      "  File \"C:\\Users\\DarkH\\OneDrive\\Desktop\\Learning Programming OuO\\Machine Learning Course\\env\\lib\\site-packages\\sklearn\\pipeline.py\", line 469, in predict\n",
      "    Xt = transform.transform(Xt)\n",
      "  File \"C:\\Users\\DarkH\\OneDrive\\Desktop\\Learning Programming OuO\\Machine Learning Course\\env\\lib\\site-packages\\sklearn\\compose\\_column_transformer.py\", line 748, in transform\n",
      "    Xs = self._fit_transform(\n",
      "  File \"C:\\Users\\DarkH\\OneDrive\\Desktop\\Learning Programming OuO\\Machine Learning Course\\env\\lib\\site-packages\\sklearn\\compose\\_column_transformer.py\", line 606, in _fit_transform\n",
      "    return Parallel(n_jobs=self.n_jobs)(\n",
      "  File \"C:\\Users\\DarkH\\OneDrive\\Desktop\\Learning Programming OuO\\Machine Learning Course\\env\\lib\\site-packages\\joblib\\parallel.py\", line 1043, in __call__\n",
      "    if self.dispatch_one_batch(iterator):\n",
      "  File \"C:\\Users\\DarkH\\OneDrive\\Desktop\\Learning Programming OuO\\Machine Learning Course\\env\\lib\\site-packages\\joblib\\parallel.py\", line 861, in dispatch_one_batch\n",
      "    self._dispatch(tasks)\n",
      "  File \"C:\\Users\\DarkH\\OneDrive\\Desktop\\Learning Programming OuO\\Machine Learning Course\\env\\lib\\site-packages\\joblib\\parallel.py\", line 779, in _dispatch\n",
      "    job = self._backend.apply_async(batch, callback=cb)\n",
      "  File \"C:\\Users\\DarkH\\OneDrive\\Desktop\\Learning Programming OuO\\Machine Learning Course\\env\\lib\\site-packages\\joblib\\_parallel_backends.py\", line 208, in apply_async\n",
      "    result = ImmediateResult(func)\n",
      "  File \"C:\\Users\\DarkH\\OneDrive\\Desktop\\Learning Programming OuO\\Machine Learning Course\\env\\lib\\site-packages\\joblib\\_parallel_backends.py\", line 572, in __init__\n",
      "    self.results = batch()\n",
      "  File \"C:\\Users\\DarkH\\OneDrive\\Desktop\\Learning Programming OuO\\Machine Learning Course\\env\\lib\\site-packages\\joblib\\parallel.py\", line 262, in __call__\n",
      "    return [func(*args, **kwargs)\n",
      "  File \"C:\\Users\\DarkH\\OneDrive\\Desktop\\Learning Programming OuO\\Machine Learning Course\\env\\lib\\site-packages\\joblib\\parallel.py\", line 262, in <listcomp>\n",
      "    return [func(*args, **kwargs)\n",
      "  File \"C:\\Users\\DarkH\\OneDrive\\Desktop\\Learning Programming OuO\\Machine Learning Course\\env\\lib\\site-packages\\sklearn\\utils\\fixes.py\", line 216, in __call__\n",
      "    return self.function(*args, **kwargs)\n",
      "  File \"C:\\Users\\DarkH\\OneDrive\\Desktop\\Learning Programming OuO\\Machine Learning Course\\env\\lib\\site-packages\\sklearn\\pipeline.py\", line 876, in _transform_one\n",
      "    res = transformer.transform(X)\n",
      "  File \"C:\\Users\\DarkH\\OneDrive\\Desktop\\Learning Programming OuO\\Machine Learning Course\\env\\lib\\site-packages\\sklearn\\preprocessing\\_encoders.py\", line 509, in transform\n",
      "    X_int, X_mask = self._transform(\n",
      "  File \"C:\\Users\\DarkH\\OneDrive\\Desktop\\Learning Programming OuO\\Machine Learning Course\\env\\lib\\site-packages\\sklearn\\preprocessing\\_encoders.py\", line 142, in _transform\n",
      "    raise ValueError(msg)\n",
      "ValueError: Found unknown categories ['Other'] in column 0 during transform\n",
      "\n",
      "  warnings.warn(\n",
      "C:\\Users\\DarkH\\OneDrive\\Desktop\\Learning Programming OuO\\Machine Learning Course\\env\\lib\\site-packages\\sklearn\\linear_model\\_logistic.py:814: ConvergenceWarning: lbfgs failed to converge (status=1):\n",
      "STOP: TOTAL NO. of ITERATIONS REACHED LIMIT.\n",
      "\n",
      "Increase the number of iterations (max_iter) or scale the data as shown in:\n",
      "    https://scikit-learn.org/stable/modules/preprocessing.html\n",
      "Please also refer to the documentation for alternative solver options:\n",
      "    https://scikit-learn.org/stable/modules/linear_model.html#logistic-regression\n",
      "  n_iter_i = _check_optimize_result(\n",
      "C:\\Users\\DarkH\\OneDrive\\Desktop\\Learning Programming OuO\\Machine Learning Course\\env\\lib\\site-packages\\sklearn\\linear_model\\_logistic.py:814: ConvergenceWarning: lbfgs failed to converge (status=1):\n",
      "STOP: TOTAL NO. of ITERATIONS REACHED LIMIT.\n",
      "\n",
      "Increase the number of iterations (max_iter) or scale the data as shown in:\n",
      "    https://scikit-learn.org/stable/modules/preprocessing.html\n",
      "Please also refer to the documentation for alternative solver options:\n",
      "    https://scikit-learn.org/stable/modules/linear_model.html#logistic-regression\n",
      "  n_iter_i = _check_optimize_result(\n"
     ]
    },
    {
     "data": {
      "text/plain": [
       "0.6379591836734695"
      ]
     },
     "execution_count": 82,
     "metadata": {},
     "output_type": "execute_result"
    }
   ],
   "source": [
    "# Cross-Validated Recall\n",
    "\n",
    "cv_recall = cross_val_score(model, X, y, cv=5, scoring=\"recall\")\n",
    "\n",
    "np.mean(cv_recall, where=~np.isnan(cv_recall))"
   ]
  },
  {
   "cell_type": "code",
   "execution_count": 83,
   "id": "882ae713",
   "metadata": {},
   "outputs": [
    {
     "name": "stderr",
     "output_type": "stream",
     "text": [
      "C:\\Users\\DarkH\\OneDrive\\Desktop\\Learning Programming OuO\\Machine Learning Course\\env\\lib\\site-packages\\sklearn\\linear_model\\_logistic.py:814: ConvergenceWarning: lbfgs failed to converge (status=1):\n",
      "STOP: TOTAL NO. of ITERATIONS REACHED LIMIT.\n",
      "\n",
      "Increase the number of iterations (max_iter) or scale the data as shown in:\n",
      "    https://scikit-learn.org/stable/modules/preprocessing.html\n",
      "Please also refer to the documentation for alternative solver options:\n",
      "    https://scikit-learn.org/stable/modules/linear_model.html#logistic-regression\n",
      "  n_iter_i = _check_optimize_result(\n",
      "C:\\Users\\DarkH\\OneDrive\\Desktop\\Learning Programming OuO\\Machine Learning Course\\env\\lib\\site-packages\\sklearn\\linear_model\\_logistic.py:814: ConvergenceWarning: lbfgs failed to converge (status=1):\n",
      "STOP: TOTAL NO. of ITERATIONS REACHED LIMIT.\n",
      "\n",
      "Increase the number of iterations (max_iter) or scale the data as shown in:\n",
      "    https://scikit-learn.org/stable/modules/preprocessing.html\n",
      "Please also refer to the documentation for alternative solver options:\n",
      "    https://scikit-learn.org/stable/modules/linear_model.html#logistic-regression\n",
      "  n_iter_i = _check_optimize_result(\n",
      "C:\\Users\\DarkH\\OneDrive\\Desktop\\Learning Programming OuO\\Machine Learning Course\\env\\lib\\site-packages\\sklearn\\linear_model\\_logistic.py:814: ConvergenceWarning: lbfgs failed to converge (status=1):\n",
      "STOP: TOTAL NO. of ITERATIONS REACHED LIMIT.\n",
      "\n",
      "Increase the number of iterations (max_iter) or scale the data as shown in:\n",
      "    https://scikit-learn.org/stable/modules/preprocessing.html\n",
      "Please also refer to the documentation for alternative solver options:\n",
      "    https://scikit-learn.org/stable/modules/linear_model.html#logistic-regression\n",
      "  n_iter_i = _check_optimize_result(\n",
      "C:\\Users\\DarkH\\OneDrive\\Desktop\\Learning Programming OuO\\Machine Learning Course\\env\\lib\\site-packages\\sklearn\\model_selection\\_validation.py:770: UserWarning: Scoring failed. The score on this train-test partition for these parameters will be set to nan. Details: \n",
      "Traceback (most recent call last):\n",
      "  File \"C:\\Users\\DarkH\\OneDrive\\Desktop\\Learning Programming OuO\\Machine Learning Course\\env\\lib\\site-packages\\sklearn\\model_selection\\_validation.py\", line 761, in _score\n",
      "    scores = scorer(estimator, X_test, y_test)\n",
      "  File \"C:\\Users\\DarkH\\OneDrive\\Desktop\\Learning Programming OuO\\Machine Learning Course\\env\\lib\\site-packages\\sklearn\\metrics\\_scorer.py\", line 103, in __call__\n",
      "    score = scorer._score(cached_call, estimator, *args, **kwargs)\n",
      "  File \"C:\\Users\\DarkH\\OneDrive\\Desktop\\Learning Programming OuO\\Machine Learning Course\\env\\lib\\site-packages\\sklearn\\metrics\\_scorer.py\", line 258, in _score\n",
      "    y_pred = method_caller(estimator, \"predict\", X)\n",
      "  File \"C:\\Users\\DarkH\\OneDrive\\Desktop\\Learning Programming OuO\\Machine Learning Course\\env\\lib\\site-packages\\sklearn\\metrics\\_scorer.py\", line 68, in _cached_call\n",
      "    return getattr(estimator, method)(*args, **kwargs)\n",
      "  File \"C:\\Users\\DarkH\\OneDrive\\Desktop\\Learning Programming OuO\\Machine Learning Course\\env\\lib\\site-packages\\sklearn\\utils\\metaestimators.py\", line 113, in <lambda>\n",
      "    out = lambda *args, **kwargs: self.fn(obj, *args, **kwargs)  # noqa\n",
      "  File \"C:\\Users\\DarkH\\OneDrive\\Desktop\\Learning Programming OuO\\Machine Learning Course\\env\\lib\\site-packages\\sklearn\\pipeline.py\", line 469, in predict\n",
      "    Xt = transform.transform(Xt)\n",
      "  File \"C:\\Users\\DarkH\\OneDrive\\Desktop\\Learning Programming OuO\\Machine Learning Course\\env\\lib\\site-packages\\sklearn\\compose\\_column_transformer.py\", line 748, in transform\n",
      "    Xs = self._fit_transform(\n",
      "  File \"C:\\Users\\DarkH\\OneDrive\\Desktop\\Learning Programming OuO\\Machine Learning Course\\env\\lib\\site-packages\\sklearn\\compose\\_column_transformer.py\", line 606, in _fit_transform\n",
      "    return Parallel(n_jobs=self.n_jobs)(\n",
      "  File \"C:\\Users\\DarkH\\OneDrive\\Desktop\\Learning Programming OuO\\Machine Learning Course\\env\\lib\\site-packages\\joblib\\parallel.py\", line 1043, in __call__\n",
      "    if self.dispatch_one_batch(iterator):\n",
      "  File \"C:\\Users\\DarkH\\OneDrive\\Desktop\\Learning Programming OuO\\Machine Learning Course\\env\\lib\\site-packages\\joblib\\parallel.py\", line 861, in dispatch_one_batch\n",
      "    self._dispatch(tasks)\n",
      "  File \"C:\\Users\\DarkH\\OneDrive\\Desktop\\Learning Programming OuO\\Machine Learning Course\\env\\lib\\site-packages\\joblib\\parallel.py\", line 779, in _dispatch\n",
      "    job = self._backend.apply_async(batch, callback=cb)\n",
      "  File \"C:\\Users\\DarkH\\OneDrive\\Desktop\\Learning Programming OuO\\Machine Learning Course\\env\\lib\\site-packages\\joblib\\_parallel_backends.py\", line 208, in apply_async\n",
      "    result = ImmediateResult(func)\n",
      "  File \"C:\\Users\\DarkH\\OneDrive\\Desktop\\Learning Programming OuO\\Machine Learning Course\\env\\lib\\site-packages\\joblib\\_parallel_backends.py\", line 572, in __init__\n",
      "    self.results = batch()\n",
      "  File \"C:\\Users\\DarkH\\OneDrive\\Desktop\\Learning Programming OuO\\Machine Learning Course\\env\\lib\\site-packages\\joblib\\parallel.py\", line 262, in __call__\n",
      "    return [func(*args, **kwargs)\n",
      "  File \"C:\\Users\\DarkH\\OneDrive\\Desktop\\Learning Programming OuO\\Machine Learning Course\\env\\lib\\site-packages\\joblib\\parallel.py\", line 262, in <listcomp>\n",
      "    return [func(*args, **kwargs)\n",
      "  File \"C:\\Users\\DarkH\\OneDrive\\Desktop\\Learning Programming OuO\\Machine Learning Course\\env\\lib\\site-packages\\sklearn\\utils\\fixes.py\", line 216, in __call__\n",
      "    return self.function(*args, **kwargs)\n",
      "  File \"C:\\Users\\DarkH\\OneDrive\\Desktop\\Learning Programming OuO\\Machine Learning Course\\env\\lib\\site-packages\\sklearn\\pipeline.py\", line 876, in _transform_one\n",
      "    res = transformer.transform(X)\n",
      "  File \"C:\\Users\\DarkH\\OneDrive\\Desktop\\Learning Programming OuO\\Machine Learning Course\\env\\lib\\site-packages\\sklearn\\preprocessing\\_encoders.py\", line 509, in transform\n",
      "    X_int, X_mask = self._transform(\n",
      "  File \"C:\\Users\\DarkH\\OneDrive\\Desktop\\Learning Programming OuO\\Machine Learning Course\\env\\lib\\site-packages\\sklearn\\preprocessing\\_encoders.py\", line 142, in _transform\n",
      "    raise ValueError(msg)\n",
      "ValueError: Found unknown categories ['Other'] in column 0 during transform\n",
      "\n",
      "  warnings.warn(\n",
      "C:\\Users\\DarkH\\OneDrive\\Desktop\\Learning Programming OuO\\Machine Learning Course\\env\\lib\\site-packages\\sklearn\\linear_model\\_logistic.py:814: ConvergenceWarning: lbfgs failed to converge (status=1):\n",
      "STOP: TOTAL NO. of ITERATIONS REACHED LIMIT.\n",
      "\n",
      "Increase the number of iterations (max_iter) or scale the data as shown in:\n",
      "    https://scikit-learn.org/stable/modules/preprocessing.html\n",
      "Please also refer to the documentation for alternative solver options:\n",
      "    https://scikit-learn.org/stable/modules/linear_model.html#logistic-regression\n",
      "  n_iter_i = _check_optimize_result(\n",
      "C:\\Users\\DarkH\\OneDrive\\Desktop\\Learning Programming OuO\\Machine Learning Course\\env\\lib\\site-packages\\sklearn\\linear_model\\_logistic.py:814: ConvergenceWarning: lbfgs failed to converge (status=1):\n",
      "STOP: TOTAL NO. of ITERATIONS REACHED LIMIT.\n",
      "\n",
      "Increase the number of iterations (max_iter) or scale the data as shown in:\n",
      "    https://scikit-learn.org/stable/modules/preprocessing.html\n",
      "Please also refer to the documentation for alternative solver options:\n",
      "    https://scikit-learn.org/stable/modules/linear_model.html#logistic-regression\n",
      "  n_iter_i = _check_optimize_result(\n"
     ]
    },
    {
     "data": {
      "text/plain": [
       "0.2005649626163798"
      ]
     },
     "execution_count": 83,
     "metadata": {},
     "output_type": "execute_result"
    }
   ],
   "source": [
    "# Cross-Validated F1-Score\n",
    "\n",
    "cv_f1_score = cross_val_score(model, X, y, cv=5, scoring='f1')\n",
    "\n",
    "np.mean(cv_f1_score, where=~np.isnan(cv_f1_score))"
   ]
  },
  {
   "cell_type": "code",
   "execution_count": 84,
   "id": "59b2fdd2",
   "metadata": {},
   "outputs": [
    {
     "data": {
      "image/png": "[encoded data removed]",
      "text/plain": [
       "<Figure size 432x288 with 1 Axes>"
      ]
     },
     "metadata": {},
     "output_type": "display_data"
    }
   ],
   "source": [
    "# Visaulize cross-validated metrics\n",
    "\n",
    "cv_metrics = pd.DataFrame({\n",
    "    'Accuracy' : np.mean(cv_acc, where=~np.isnan(cv_acc)),\n",
    "    'Precision' : np.mean(cv_precision, where=~np.isnan(cv_precision)),\n",
    "    'Recall' : np.mean(cv_recall, where=~np.isnan(cv_recall)),\n",
    "    'F1' : np.mean(cv_f1_score, where=~np.isnan(cv_f1_score))\n",
    "},\n",
    "    index=[0])\n",
    "\n",
    "cv_metrics.T.plot.bar(title='Cross-Validated Classification Metrics', legend=False);"
   ]
  },
  {
   "cell_type": "markdown",
   "id": "fb67b7c1",
   "metadata": {},
   "source": [
    "## Feature Importance\n",
    "\n",
    "Feature Importance is asking: \"Which feature contributed most to the outcome of the model?\"\n",
    "\n",
    "Also: \"How did they contribute?\"\n",
    "\n",
    "Finding Feature Importance is different for each ML model."
   ]
  },
  {
   "cell_type": "code",
   "execution_count": 85,
   "id": "17564d01",
   "metadata": {},
   "outputs": [
    {
     "data": {
      "text/html": [
       "<div>\n",
       "<style scoped>\n",
       "    .dataframe tbody tr th:only-of-type {\n",
       "        vertical-align: middle;\n",
       "    }\n",
       "\n",
       "    .dataframe tbody tr th {\n",
       "        vertical-align: top;\n",
       "    }\n",
       "\n",
       "    .dataframe thead th {\n",
       "        text-align: right;\n",
       "    }\n",
       "</style>\n",
       "<table border=\"1\" class=\"dataframe\">\n",
       "  <thead>\n",
       "    <tr style=\"text-align: right;\">\n",
       "      <th></th>\n",
       "      <th>id</th>\n",
       "      <th>gender</th>\n",
       "      <th>age</th>\n",
       "      <th>hypertension</th>\n",
       "      <th>heart_disease</th>\n",
       "      <th>ever_married</th>\n",
       "      <th>work_type</th>\n",
       "      <th>Residence_type</th>\n",
       "      <th>avg_glucose_level</th>\n",
       "      <th>bmi</th>\n",
       "      <th>smoking_status</th>\n",
       "      <th>stroke</th>\n",
       "    </tr>\n",
       "  </thead>\n",
       "  <tbody>\n",
       "    <tr>\n",
       "      <th>0</th>\n",
       "      <td>9046</td>\n",
       "      <td>Male</td>\n",
       "      <td>67.0</td>\n",
       "      <td>0</td>\n",
       "      <td>1</td>\n",
       "      <td>Yes</td>\n",
       "      <td>Private</td>\n",
       "      <td>Urban</td>\n",
       "      <td>228.69</td>\n",
       "      <td>36.6</td>\n",
       "      <td>formerly smoked</td>\n",
       "      <td>1</td>\n",
       "    </tr>\n",
       "    <tr>\n",
       "      <th>1</th>\n",
       "      <td>51676</td>\n",
       "      <td>Female</td>\n",
       "      <td>61.0</td>\n",
       "      <td>0</td>\n",
       "      <td>0</td>\n",
       "      <td>Yes</td>\n",
       "      <td>Self-employed</td>\n",
       "      <td>Rural</td>\n",
       "      <td>202.21</td>\n",
       "      <td>NaN</td>\n",
       "      <td>never smoked</td>\n",
       "      <td>1</td>\n",
       "    </tr>\n",
       "    <tr>\n",
       "      <th>2</th>\n",
       "      <td>31112</td>\n",
       "      <td>Male</td>\n",
       "      <td>80.0</td>\n",
       "      <td>0</td>\n",
       "      <td>1</td>\n",
       "      <td>Yes</td>\n",
       "      <td>Private</td>\n",
       "      <td>Rural</td>\n",
       "      <td>105.92</td>\n",
       "      <td>32.5</td>\n",
       "      <td>never smoked</td>\n",
       "      <td>1</td>\n",
       "    </tr>\n",
       "    <tr>\n",
       "      <th>3</th>\n",
       "      <td>60182</td>\n",
       "      <td>Female</td>\n",
       "      <td>49.0</td>\n",
       "      <td>0</td>\n",
       "      <td>0</td>\n",
       "      <td>Yes</td>\n",
       "      <td>Private</td>\n",
       "      <td>Urban</td>\n",
       "      <td>171.23</td>\n",
       "      <td>34.4</td>\n",
       "      <td>smokes</td>\n",
       "      <td>1</td>\n",
       "    </tr>\n",
       "    <tr>\n",
       "      <th>4</th>\n",
       "      <td>1665</td>\n",
       "      <td>Female</td>\n",
       "      <td>79.0</td>\n",
       "      <td>1</td>\n",
       "      <td>0</td>\n",
       "      <td>Yes</td>\n",
       "      <td>Self-employed</td>\n",
       "      <td>Rural</td>\n",
       "      <td>174.12</td>\n",
       "      <td>24.0</td>\n",
       "      <td>never smoked</td>\n",
       "      <td>1</td>\n",
       "    </tr>\n",
       "  </tbody>\n",
       "</table>\n",
       "</div>"
      ],
      "text/plain": [
       "      id  gender   age  hypertension  heart_disease ever_married  \\\n",
       "0   9046    Male  67.0             0              1          Yes   \n",
       "1  51676  Female  61.0             0              0          Yes   \n",
       "2  31112    Male  80.0             0              1          Yes   \n",
       "3  60182  Female  49.0             0              0          Yes   \n",
       "4   1665  Female  79.0             1              0          Yes   \n",
       "\n",
       "       work_type Residence_type  avg_glucose_level   bmi   smoking_status  \\\n",
       "0        Private          Urban             228.69  36.6  formerly smoked   \n",
       "1  Self-employed          Rural             202.21   NaN     never smoked   \n",
       "2        Private          Rural             105.92  32.5     never smoked   \n",
       "3        Private          Urban             171.23  34.4           smokes   \n",
       "4  Self-employed          Rural             174.12  24.0     never smoked   \n",
       "\n",
       "   stroke  \n",
       "0       1  \n",
       "1       1  \n",
       "2       1  \n",
       "3       1  \n",
       "4       1  "
      ]
     },
     "execution_count": 85,
     "metadata": {},
     "output_type": "execute_result"
    }
   ],
   "source": [
    "df.head()"
   ]
  },
  {
   "cell_type": "code",
   "execution_count": 86,
   "id": "33025a0c",
   "metadata": {},
   "outputs": [
    {
     "name": "stderr",
     "output_type": "stream",
     "text": [
      "C:\\Users\\DarkH\\OneDrive\\Desktop\\Learning Programming OuO\\Machine Learning Course\\env\\lib\\site-packages\\sklearn\\linear_model\\_logistic.py:814: ConvergenceWarning: lbfgs failed to converge (status=1):\n",
      "STOP: TOTAL NO. of ITERATIONS REACHED LIMIT.\n",
      "\n",
      "Increase the number of iterations (max_iter) or scale the data as shown in:\n",
      "    https://scikit-learn.org/stable/modules/preprocessing.html\n",
      "Please also refer to the documentation for alternative solver options:\n",
      "    https://scikit-learn.org/stable/modules/linear_model.html#logistic-regression\n",
      "  n_iter_i = _check_optimize_result(\n"
     ]
    },
    {
     "data": {
      "text/plain": [
       "Pipeline(steps=[('imputer',\n",
       "                 ColumnTransformer(remainder='passthrough',\n",
       "                                   transformers=[('num_imputer',\n",
       "                                                  SimpleImputer(),\n",
       "                                                  ['age', 'avg_glucose_level',\n",
       "                                                   'bmi'])])),\n",
       "                ('sampler',\n",
       "                 SMOTENC(categorical_features=[3, 4, 5, 6, 7, 8, 9],\n",
       "                         random_state=42)),\n",
       "                ('encoder',\n",
       "                 ColumnTransformer(remainder='passthrough',\n",
       "                                   transformers=[('cat_encoder',\n",
       "                                                  OneHotEncoder(),\n",
       "                                                  [3, 4, 5, 6, 7, 8, 9])])),\n",
       "                ('scaler', StandardScaler(with_mean=False)),\n",
       "                ('model', LogisticRegression())])"
      ]
     },
     "execution_count": 86,
     "metadata": {},
     "output_type": "execute_result"
    }
   ],
   "source": [
    "# For LogisticRegression, there's the coef_ attribute. For the pipeline overall, it's model.steps[4][1].coef_\n",
    "\n",
    "model.fit(X_train, y_train)"
   ]
  },
  {
   "cell_type": "code",
   "execution_count": 87,
   "id": "317e3d2b",
   "metadata": {},
   "outputs": [
    {
     "data": {
      "text/plain": [
       "array([[ 0.02194191, -0.05300324, -0.35717502,  0.07394458, -0.13856494,\n",
       "         0.07932246, -0.16265795, -0.25982175,  0.20998238, -0.30060409,\n",
       "        -0.11912446,  0.26517404, -0.18408594,  0.05306193, -0.12308339,\n",
       "         0.08395841, -0.18654791,  0.02363155,  0.01170654,  0.12156478,\n",
       "         2.11801458,  0.36471346, -0.00438399]])"
      ]
     },
     "execution_count": 87,
     "metadata": {},
     "output_type": "execute_result"
    }
   ],
   "source": [
    "model.named_steps['model'].coef_"
   ]
  },
  {
   "cell_type": "markdown",
   "id": "7e36a50c",
   "metadata": {},
   "source": [
    "Since this has gone through multiple layers of Preprocessing, it's hard to tell which feature is which.\n",
    "\n",
    "Let's try the manual, guestimation way. Kind of sloppy, but it's massive headache to work it out."
   ]
  },
  {
   "cell_type": "code",
   "execution_count": 92,
   "id": "cc215f28",
   "metadata": {},
   "outputs": [
    {
     "data": {
      "text/plain": [
       "[array(['Female', 'Male', 'Other'], dtype=object),\n",
       " array(['False', 'True'], dtype=object),\n",
       " array(['False', 'True'], dtype=object),\n",
       " array(['No', 'Yes'], dtype=object),\n",
       " array(['Govt_job', 'Never_worked', 'Private', 'Self-employed', 'children'],\n",
       "       dtype=object),\n",
       " array(['Rural', 'Urban'], dtype=object),\n",
       " array(['Unknown', 'formerly smoked', 'never smoked', 'smokes'],\n",
       "       dtype=object)]"
      ]
     },
     "execution_count": 92,
     "metadata": {},
     "output_type": "execute_result"
    }
   ],
   "source": [
    "model.named_steps['encoder'].transformers_[0][1].categories_"
   ]
  },
  {
   "cell_type": "code",
   "execution_count": 97,
   "id": "93b612bf",
   "metadata": {},
   "outputs": [],
   "source": [
    "columns = [\n",
    "    'female', 'male', 'other', 'hypertension -> no', 'hypertension -> yes',\n",
    "    'heart-disease -> no', 'heart-disease -> yes', 'married -> no', 'married -> yes',\n",
    "    'govt_job', 'never_worked', 'private', 'self-employed', 'children', 'rural', 'urban', 'unknown', 'formerly smoked', 'never smoked', 'smokes',\n",
    "    'age', 'avg_glucose', 'bmi'\n",
    "]"
   ]
  },
  {
   "cell_type": "code",
   "execution_count": 98,
   "id": "01b9ef9f",
   "metadata": {},
   "outputs": [
    {
     "data": {
      "text/plain": [
       "{'female': 0.02194190561175717,\n",
       " 'male': -0.053003236338497677,\n",
       " 'other': -0.35717502134736795,\n",
       " 'hypertension -> no': 0.07394458378055783,\n",
       " 'hypertension -> yes': -0.1385649435353509,\n",
       " 'heart-disease -> no': 0.07932245677709986,\n",
       " 'heart-disease -> yes': -0.16265794566047775,\n",
       " 'married -> no': -0.2598217456327811,\n",
       " 'married -> yes': 0.2099823790915915,\n",
       " 'govt_job': -0.30060408763439145,\n",
       " 'never_worked': -0.11912445792718697,\n",
       " 'private': 0.2651740363738567,\n",
       " 'self-employed': -0.18408594370066636,\n",
       " 'children': 0.05306192910460023,\n",
       " 'rural': -0.12308338768268372,\n",
       " 'urban': 0.08395841005373805,\n",
       " 'unknown': -0.18654791129545148,\n",
       " 'formerly smoked': 0.02363155183721801,\n",
       " 'never smoked': 0.011706539070970388,\n",
       " 'smokes': 0.12156477670606246,\n",
       " 'age': 2.118014582050572,\n",
       " 'avg_glucose': 0.36471345723491044,\n",
       " 'bmi': -0.004383994216074536}"
      ]
     },
     "execution_count": 98,
     "metadata": {},
     "output_type": "execute_result"
    }
   ],
   "source": [
    "feature_dict = dict(zip(columns, list(model.named_steps['model'].coef_[0])))\n",
    "feature_dict"
   ]
  },
  {
   "cell_type": "code",
   "execution_count": 103,
   "id": "4eb96579",
   "metadata": {},
   "outputs": [
    {
     "data": {
      "text/plain": [
       "array([-0.12941212, -0.03231018, -0.04166774, -0.02491968, -0.0571157 ,\n",
       "       -0.01956249, -0.00741126,  2.11801458,  0.36471346, -0.00438399])"
      ]
     },
     "execution_count": 103,
     "metadata": {},
     "output_type": "execute_result"
    }
   ],
   "source": [
    "# Let me get rid of the encoding by taking the averages of each.\n",
    "\n",
    "coefs_encoded = model.named_steps['model'].coef_[0]\n",
    "\n",
    "coefs_unencoded = []\n",
    "\n",
    "coefs_unencoded.append(np.mean(coefs_encoded[0:3])) # Gender\n",
    "coefs_unencoded.append(np.mean(coefs_encoded[3:5])) # Hypertension\n",
    "coefs_unencoded.append(np.mean(coefs_encoded[5:7])) # Heart-disease\n",
    "coefs_unencoded.append(np.mean(coefs_encoded[7:9])) # Married\n",
    "coefs_unencoded.append(np.mean(coefs_encoded[9:14])) # Employment\n",
    "coefs_unencoded.append(np.mean(coefs_encoded[14:16])) # Living\n",
    "coefs_unencoded.append(np.mean(coefs_encoded[16:20])) # Smoking\n",
    "coefs_unencoded = np.concatenate((coefs_unencoded, coefs_encoded[20:23])) # Age, avg_glucose, bmi\n",
    "\n",
    "coefs_unencoded"
   ]
  },
  {
   "cell_type": "code",
   "execution_count": 105,
   "id": "a4c3ac4b",
   "metadata": {},
   "outputs": [
    {
     "data": {
      "text/plain": [
       "{'gender': -0.12941211735803615,\n",
       " 'hypertension': -0.03231017987739653,\n",
       " 'heart_disease': -0.04166774444168895,\n",
       " 'ever_married': -0.024919683270594795,\n",
       " 'work_type': -0.05711570475675757,\n",
       " 'Residence_type': -0.019562488814472832,\n",
       " 'smoking_status': -0.007411260920300155,\n",
       " 'age': 2.118014582050572,\n",
       " 'avg_glucose_level': 0.36471345723491044,\n",
       " 'bmi': -0.004383994216074536}"
      ]
     },
     "execution_count": 105,
     "metadata": {},
     "output_type": "execute_result"
    }
   ],
   "source": [
    "updated_columns = ['gender', 'hypertension', 'heart_disease', 'ever_married', 'work_type', 'Residence_type', 'smoking_status', 'age', 'avg_glucose_level', 'bmi']\n",
    "\n",
    "un_feature_dict = dict(zip(updated_columns, coefs_unencoded))\n",
    "un_feature_dict"
   ]
  },
  {
   "cell_type": "code",
   "execution_count": 106,
   "id": "5e16269c",
   "metadata": {},
   "outputs": [],
   "source": [
    "# Let's visualize these different feature importances\n",
    "\n",
    "feature_df = pd.DataFrame(feature_dict, index=[0])\n",
    "un_feature_df = pd.DataFrame(un_feature_dict, index=[0])"
   ]
  },
  {
   "cell_type": "code",
   "execution_count": 107,
   "id": "d998d58c",
   "metadata": {},
   "outputs": [
    {
     "data": {
      "image/png": "[encoded data removed]",
      "text/plain": [
       "<Figure size 432x288 with 1 Axes>"
      ]
     },
     "metadata": {},
     "output_type": "display_data"
    }
   ],
   "source": [
    "feature_df.T.plot.bar(title=\"Feature Importance -> Seperated\", legend=False);"
   ]
  },
  {
   "cell_type": "code",
   "execution_count": 108,
   "id": "f0fc2a08",
   "metadata": {},
   "outputs": [
    {
     "data": {
      "image/png": "[encoded data removed]",
      "text/plain": [
       "<Figure size 432x288 with 1 Axes>"
      ]
     },
     "metadata": {},
     "output_type": "display_data"
    }
   ],
   "source": [
    "un_feature_df.T.plot.bar(title=\"Feature Importance -> Original\", legend=False);"
   ]
  },
  {
   "cell_type": "markdown",
   "id": "cbf5f621",
   "metadata": {},
   "source": [
    "The above numbers is how the model itself views each feature and its contribution to the possibility of a stroke."
   ]
  },
  {
   "cell_type": "code",
   "execution_count": 109,
   "id": "b0688456",
   "metadata": {},
   "outputs": [
    {
     "data": {
      "text/html": [
       "<div>\n",
       "<style scoped>\n",
       "    .dataframe tbody tr th:only-of-type {\n",
       "        vertical-align: middle;\n",
       "    }\n",
       "\n",
       "    .dataframe tbody tr th {\n",
       "        vertical-align: top;\n",
       "    }\n",
       "\n",
       "    .dataframe thead th {\n",
       "        text-align: right;\n",
       "    }\n",
       "</style>\n",
       "<table border=\"1\" class=\"dataframe\">\n",
       "  <thead>\n",
       "    <tr style=\"text-align: right;\">\n",
       "      <th>stroke</th>\n",
       "      <th>0</th>\n",
       "      <th>1</th>\n",
       "    </tr>\n",
       "    <tr>\n",
       "      <th>gender</th>\n",
       "      <th></th>\n",
       "      <th></th>\n",
       "    </tr>\n",
       "  </thead>\n",
       "  <tbody>\n",
       "    <tr>\n",
       "      <th>Female</th>\n",
       "      <td>2853</td>\n",
       "      <td>141</td>\n",
       "    </tr>\n",
       "    <tr>\n",
       "      <th>Male</th>\n",
       "      <td>2007</td>\n",
       "      <td>108</td>\n",
       "    </tr>\n",
       "    <tr>\n",
       "      <th>Other</th>\n",
       "      <td>1</td>\n",
       "      <td>0</td>\n",
       "    </tr>\n",
       "  </tbody>\n",
       "</table>\n",
       "</div>"
      ],
      "text/plain": [
       "stroke     0    1\n",
       "gender           \n",
       "Female  2853  141\n",
       "Male    2007  108\n",
       "Other      1    0"
      ]
     },
     "execution_count": 109,
     "metadata": {},
     "output_type": "execute_result"
    }
   ],
   "source": [
    "pd.crosstab(df['gender'], df['stroke'])"
   ]
  },
  {
   "cell_type": "markdown",
   "id": "aace253f",
   "metadata": {},
   "source": [
    "Males are considered (in the model's eyes) to be more likely to have no stroke. Females are the opposite. That's why there's a positive correlation for females, and a negative one for males."
   ]
  },
  {
   "cell_type": "code",
   "execution_count": 111,
   "id": "b954159a",
   "metadata": {},
   "outputs": [
    {
     "data": {
      "image/png": "[encoded data removed]",
      "text/plain": [
       "<Figure size 720x432 with 1 Axes>"
      ]
     },
     "metadata": {},
     "output_type": "display_data"
    }
   ],
   "source": [
    "# Combined graphs\n",
    "\n",
    "plt.figure(figsize=(10,6))\n",
    "\n",
    "# Scatter with Positive Examples\n",
    "\n",
    "\n",
    "\n",
    "plt.scatter(df.age[df.stroke==0],\n",
    "            df.avg_glucose_level[df.stroke==0],\n",
    "            c='lightblue');\n",
    "\n",
    "plt.scatter(df.age[df.stroke==1],\n",
    "            df.avg_glucose_level[df.stroke==1],\n",
    "            c='salmon');\n",
    "\n",
    "# Add some helpful info.\n",
    "\n",
    "plt.title(\"Strokes with respect to age and avg_glucose_level\")\n",
    "plt.xlabel('Age')\n",
    "plt.ylabel('avg_glucose_level')\n",
    "plt.legend(['Stroke', 'No Stroke']);"
   ]
  },
  {
   "cell_type": "markdown",
   "id": "d36ef61f",
   "metadata": {},
   "source": [
    "The model correctly predicts that age has a huge postive correlation with strokes. Also, avg_glucose_level has something to do with it as well."
   ]
  },
  {
   "cell_type": "markdown",
   "id": "845a525e",
   "metadata": {},
   "source": [
    "## Next Steps\n",
    "\n",
    "Evaluation metric still needs to be met, or reworked.\n",
    "\n",
    "* Could you collect more data?\n",
    "* Could try talking to a doctor (or other subject matter expert)?\n",
    "* Could you improve the data?\n",
    "    * Better preprocessing\n",
    "    * Engineering\n",
    "* Could you try a better model?\n",
    "    * Like CatBoost or XGBoost?\n",
    "* Further hyperparameter tuning?\n",
    "\n",
    "The final step: exporting the model. Only should be done after hitting the evaluation metric.\n"
   ]
  },
  {
   "cell_type": "code",
   "execution_count": 112,
   "id": "9c0e9910",
   "metadata": {},
   "outputs": [
    {
     "data": {
      "text/plain": [
       "['modelpipe.joblib']"
      ]
     },
     "execution_count": 112,
     "metadata": {},
     "output_type": "execute_result"
    }
   ],
   "source": [
    "from joblib import dump\n",
    "\n",
    "dump(model, 'modelpipe.joblib')"
   ]
  }
 ],
 "metadata": {
  "kernelspec": {
   "display_name": "Python 3 (ipykernel)",
   "language": "python",
   "name": "python3"
  },
  "language_info": {
   "codemirror_mode": {
    "name": "ipython",
    "version": 3
   },
   "file_extension": ".py",
   "mimetype": "text/x-python",
   "name": "python",
   "nbconvert_exporter": "python",
   "pygments_lexer": "ipython3",
   "version": "3.9.12"
  }
 },
 "nbformat": 4,
 "nbformat_minor": 5
}
