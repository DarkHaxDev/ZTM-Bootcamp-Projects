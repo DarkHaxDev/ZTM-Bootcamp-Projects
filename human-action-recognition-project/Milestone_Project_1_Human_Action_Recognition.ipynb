{
  "nbformat": 4,
  "nbformat_minor": 0,
  "metadata": {
    "colab": {
      "provenance": []
    },
    "kernelspec": {
      "name": "python3",
      "display_name": "Python 3"
    },
    "language_info": {
      "name": "python"
    },
    "gpuClass": "standard",
    "accelerator": "GPU"
  },
  "cells": [
    {
      "cell_type": "markdown",
      "source": [
        "# Human Action Recognition using TensorFlow\n",
        "\n",
        "This project is meant to serve as a diving board to developing real models using real data. \n",
        "\n",
        "Uses the Udemy course `TensorFlow Developer Certificate in 2023: Zero to Mastery` as a guideline. Will also use helper functions provided by that course as well.\n",
        "\n",
        "Goal is to be within the top 10 results of the leaderboard provided at: https://aiplanet.com/challenges/233/data-sprint-76-human-activity-recognition-233/leaderboard/practice"
      ],
      "metadata": {
        "id": "K_uVBjTWtcCH"
      }
    },
    {
      "cell_type": "markdown",
      "source": [
        "## Check GPU\n",
        "\n",
        "To access mixed precision training, we need to use a GPU that has a compute-capability of 7.0 or higher. A Nvidia T4 (7.5) would suffice in this instance.\n",
        "\n",
        "Google Colab offers:\n",
        "* K80 (Not compatible)\n",
        "* P100 (Not compatible)\n",
        "* Tesla T4 (compatible)\n",
        "\n",
        "So, we need either a Tesla T4 (in Google Colab), or, if we're using our own hardware, our GPU needs a compute-score of 7.0+."
      ],
      "metadata": {
        "id": "Ar_h60iauR9b"
      }
    },
    {
      "cell_type": "code",
      "source": [
        "# Essentially a game of chance if you get a Tesla T4 or not. To try again:\n",
        "## Go to Runtime -> Factory Reset Runtime -> Yes. Then, re-run this cell.\n",
        "\n",
        "!nvidia-smi -L"
      ],
      "metadata": {
        "colab": {
          "base_uri": "https://localhost:8080/"
        },
        "id": "SLuwmlQkvTba",
        "outputId": "b0d4fcbe-a78c-4f7b-9b60-1a21925d1e5c"
      },
      "execution_count": null,
      "outputs": [
        {
          "output_type": "stream",
          "name": "stdout",
          "text": [
            "GPU 0: Tesla T4 (UUID: GPU-5294270b-a731-e3d2-be08-bac0b90d02d6)\n"
          ]
        }
      ]
    },
    {
      "cell_type": "markdown",
      "source": [
        "## Get Helper Functions\n",
        "\n",
        "In previous modules in the course, helper functions were created that assisted in small, repetitive tasks. We can import these functions to save on time.\n",
        "\n"
      ],
      "metadata": {
        "id": "SVcSCqWDwoCr"
      }
    },
    {
      "cell_type": "code",
      "source": [
        "# Download helper functions script\n",
        "\n",
        "!wget https://raw.githubusercontent.com/mrdbourke/tensorflow-deep-learning/main/extras/helper_functions.py"
      ],
      "metadata": {
        "colab": {
          "base_uri": "https://localhost:8080/"
        },
        "id": "YHZGxM1Ixvas",
        "outputId": "6f990e05-5638-4664-e07b-e8c17d41cd2c"
      },
      "execution_count": null,
      "outputs": [
        {
          "output_type": "stream",
          "name": "stdout",
          "text": [
            "--2023-05-09 19:07:59--  https://raw.githubusercontent.com/mrdbourke/tensorflow-deep-learning/main/extras/helper_functions.py\n",
            "Resolving raw.githubusercontent.com (raw.githubusercontent.com)... 185.199.108.133, 185.199.109.133, 185.199.110.133, ...\n",
            "Connecting to raw.githubusercontent.com (raw.githubusercontent.com)|185.199.108.133|:443... connected.\n",
            "HTTP request sent, awaiting response... 200 OK\n",
            "Length: 10246 (10K) [text/plain]\n",
            "Saving to: ‘helper_functions.py’\n",
            "\n",
            "\rhelper_functions.py   0%[                    ]       0  --.-KB/s               \rhelper_functions.py 100%[===================>]  10.01K  --.-KB/s    in 0s      \n",
            "\n",
            "2023-05-09 19:07:59 (83.3 MB/s) - ‘helper_functions.py’ saved [10246/10246]\n",
            "\n"
          ]
        }
      ]
    },
    {
      "cell_type": "code",
      "source": [
        "# Let's import some helper functions\n",
        "\n",
        "from helper_functions import create_tensorboard_callback, plot_loss_curves, compare_historys, walk_through_dir\n"
      ],
      "metadata": {
        "id": "SBc3yr1yxy5q"
      },
      "execution_count": null,
      "outputs": []
    },
    {
      "cell_type": "markdown",
      "source": [
        "## Download the data\n",
        "\n",
        "I'll be using a different dataset than the course-provided dataset (from TensorFlow Datasets). I'll be importing the datasets direct from the provided link: https://www.kaggle.com/datasets/meetnagadia/human-action-recognition-har-dataset.\n",
        "\n",
        "\n",
        "\n"
      ],
      "metadata": {
        "id": "M1MvErDGyEsy"
      }
    },
    {
      "cell_type": "code",
      "source": [
        "# Downloading the data\n",
        "import pathlib\n",
        "import tensorflow as tf\n",
        "\n",
        "dataset_url = \"https://dphi-live.s3.eu-west-1.amazonaws.com/dataset/Human+Action+Recognition-20220526T101201Z-001.zip\"\n",
        "archive = tf.keras.utils.get_file(origin=dataset_url, extract=True)\n",
        "data_dir = pathlib.Path(archive).with_suffix('')"
      ],
      "metadata": {
        "id": "9YjT7vJwygbS",
        "colab": {
          "base_uri": "https://localhost:8080/"
        },
        "outputId": "811357ab-14ae-4137-b93d-9bfce2953389"
      },
      "execution_count": null,
      "outputs": [
        {
          "output_type": "stream",
          "name": "stdout",
          "text": [
            "Downloading data from https://dphi-live.s3.eu-west-1.amazonaws.com/dataset/Human+Action+Recognition-20220526T101201Z-001.zip\n",
            "332937529/332937529 [==============================] - 33s 0us/step\n"
          ]
        }
      ]
    },
    {
      "cell_type": "code",
      "source": [
        "print(data_dir)"
      ],
      "metadata": {
        "colab": {
          "base_uri": "https://localhost:8080/"
        },
        "id": "GshXGqYCfyhc",
        "outputId": "bd571bbd-1369-411b-d54f-12786b976b11"
      },
      "execution_count": null,
      "outputs": [
        {
          "output_type": "stream",
          "name": "stdout",
          "text": [
            "/root/.keras/datasets/Human+Action+Recognition-20220526T101201Z-001\n"
          ]
        }
      ]
    },
    {
      "cell_type": "code",
      "source": [
        "walk_through_dir(\"/root/.keras/datasets/Human Action Recognition/\")"
      ],
      "metadata": {
        "colab": {
          "base_uri": "https://localhost:8080/"
        },
        "id": "cMVUlH0qgDyS",
        "outputId": "84f5fb84-0995-4499-da0d-3a00ed17460d"
      },
      "execution_count": null,
      "outputs": [
        {
          "output_type": "stream",
          "name": "stdout",
          "text": [
            "There are 2 directories and 2 images in '/root/.keras/datasets/Human Action Recognition/'.\n",
            "There are 0 directories and 5410 images in '/root/.keras/datasets/Human Action Recognition/test'.\n",
            "There are 0 directories and 12601 images in '/root/.keras/datasets/Human Action Recognition/train'.\n"
          ]
        }
      ]
    },
    {
      "cell_type": "code",
      "source": [
        "# To ease development, I'll be sorted all images in the huge training dataset into their proper classes using some wacky i/o trickery\n",
        "## Training_set.csv has all images and their respective labels, so I'll be using that as a basis\n",
        "\n",
        "# Go through Training_set.csv and sort images into their respective classes\n",
        "\n",
        "import pandas as pd\n",
        "\n",
        "train_set_raw = pd.read_csv(\"/root/.keras/datasets/Human Action Recognition/Training_set.csv\")"
      ],
      "metadata": {
        "id": "eWfYwO-gy_r7"
      },
      "execution_count": null,
      "outputs": []
    },
    {
      "cell_type": "code",
      "source": [
        "train_set_raw.head()"
      ],
      "metadata": {
        "colab": {
          "base_uri": "https://localhost:8080/",
          "height": 206
        },
        "id": "atjtmDB7hSMe",
        "outputId": "ed4e2e2f-8e4c-4c5c-8c61-06fe045b1bd7"
      },
      "execution_count": null,
      "outputs": [
        {
          "output_type": "execute_result",
          "data": {
            "text/plain": [
              "      filename         label\n",
              "0  Image_1.jpg       sitting\n",
              "1  Image_2.jpg  using_laptop\n",
              "2  Image_3.jpg       hugging\n",
              "3  Image_4.jpg      sleeping\n",
              "4  Image_5.jpg  using_laptop"
            ],
            "text/html": [
              "\n",
              "  <div id=\"df-b343be8c-907e-4571-b78f-cc6a99957750\">\n",
              "    <div class=\"colab-df-container\">\n",
              "      <div>\n",
              "<style scoped>\n",
              "    .dataframe tbody tr th:only-of-type {\n",
              "        vertical-align: middle;\n",
              "    }\n",
              "\n",
              "    .dataframe tbody tr th {\n",
              "        vertical-align: top;\n",
              "    }\n",
              "\n",
              "    .dataframe thead th {\n",
              "        text-align: right;\n",
              "    }\n",
              "</style>\n",
              "<table border=\"1\" class=\"dataframe\">\n",
              "  <thead>\n",
              "    <tr style=\"text-align: right;\">\n",
              "      <th></th>\n",
              "      <th>filename</th>\n",
              "      <th>label</th>\n",
              "    </tr>\n",
              "  </thead>\n",
              "  <tbody>\n",
              "    <tr>\n",
              "      <th>0</th>\n",
              "      <td>Image_1.jpg</td>\n",
              "      <td>sitting</td>\n",
              "    </tr>\n",
              "    <tr>\n",
              "      <th>1</th>\n",
              "      <td>Image_2.jpg</td>\n",
              "      <td>using_laptop</td>\n",
              "    </tr>\n",
              "    <tr>\n",
              "      <th>2</th>\n",
              "      <td>Image_3.jpg</td>\n",
              "      <td>hugging</td>\n",
              "    </tr>\n",
              "    <tr>\n",
              "      <th>3</th>\n",
              "      <td>Image_4.jpg</td>\n",
              "      <td>sleeping</td>\n",
              "    </tr>\n",
              "    <tr>\n",
              "      <th>4</th>\n",
              "      <td>Image_5.jpg</td>\n",
              "      <td>using_laptop</td>\n",
              "    </tr>\n",
              "  </tbody>\n",
              "</table>\n",
              "</div>\n",
              "      <button class=\"colab-df-convert\" onclick=\"convertToInteractive('df-b343be8c-907e-4571-b78f-cc6a99957750')\"\n",
              "              title=\"Convert this dataframe to an interactive table.\"\n",
              "              style=\"display:none;\">\n",
              "        \n",
              "  <svg xmlns=\"http://www.w3.org/2000/svg\" height=\"24px\"viewBox=\"0 0 24 24\"\n",
              "       width=\"24px\">\n",
              "    <path d=\"M0 0h24v24H0V0z\" fill=\"none\"/>\n",
              "    <path d=\"M18.56 5.44l.94 2.06.94-2.06 2.06-.94-2.06-.94-.94-2.06-.94 2.06-2.06.94zm-11 1L8.5 8.5l.94-2.06 2.06-.94-2.06-.94L8.5 2.5l-.94 2.06-2.06.94zm10 10l.94 2.06.94-2.06 2.06-.94-2.06-.94-.94-2.06-.94 2.06-2.06.94z\"/><path d=\"M17.41 7.96l-1.37-1.37c-.4-.4-.92-.59-1.43-.59-.52 0-1.04.2-1.43.59L10.3 9.45l-7.72 7.72c-.78.78-.78 2.05 0 2.83L4 21.41c.39.39.9.59 1.41.59.51 0 1.02-.2 1.41-.59l7.78-7.78 2.81-2.81c.8-.78.8-2.07 0-2.86zM5.41 20L4 18.59l7.72-7.72 1.47 1.35L5.41 20z\"/>\n",
              "  </svg>\n",
              "      </button>\n",
              "      \n",
              "  <style>\n",
              "    .colab-df-container {\n",
              "      display:flex;\n",
              "      flex-wrap:wrap;\n",
              "      gap: 12px;\n",
              "    }\n",
              "\n",
              "    .colab-df-convert {\n",
              "      background-color: #E8F0FE;\n",
              "      border: none;\n",
              "      border-radius: 50%;\n",
              "      cursor: pointer;\n",
              "      display: none;\n",
              "      fill: #1967D2;\n",
              "      height: 32px;\n",
              "      padding: 0 0 0 0;\n",
              "      width: 32px;\n",
              "    }\n",
              "\n",
              "    .colab-df-convert:hover {\n",
              "      background-color: #E2EBFA;\n",
              "      box-shadow: 0px 1px 2px rgba(60, 64, 67, 0.3), 0px 1px 3px 1px rgba(60, 64, 67, 0.15);\n",
              "      fill: #174EA6;\n",
              "    }\n",
              "\n",
              "    [theme=dark] .colab-df-convert {\n",
              "      background-color: #3B4455;\n",
              "      fill: #D2E3FC;\n",
              "    }\n",
              "\n",
              "    [theme=dark] .colab-df-convert:hover {\n",
              "      background-color: #434B5C;\n",
              "      box-shadow: 0px 1px 3px 1px rgba(0, 0, 0, 0.15);\n",
              "      filter: drop-shadow(0px 1px 2px rgba(0, 0, 0, 0.3));\n",
              "      fill: #FFFFFF;\n",
              "    }\n",
              "  </style>\n",
              "\n",
              "      <script>\n",
              "        const buttonEl =\n",
              "          document.querySelector('#df-b343be8c-907e-4571-b78f-cc6a99957750 button.colab-df-convert');\n",
              "        buttonEl.style.display =\n",
              "          google.colab.kernel.accessAllowed ? 'block' : 'none';\n",
              "\n",
              "        async function convertToInteractive(key) {\n",
              "          const element = document.querySelector('#df-b343be8c-907e-4571-b78f-cc6a99957750');\n",
              "          const dataTable =\n",
              "            await google.colab.kernel.invokeFunction('convertToInteractive',\n",
              "                                                     [key], {});\n",
              "          if (!dataTable) return;\n",
              "\n",
              "          const docLinkHtml = 'Like what you see? Visit the ' +\n",
              "            '<a target=\"_blank\" href=https://colab.research.google.com/notebooks/data_table.ipynb>data table notebook</a>'\n",
              "            + ' to learn more about interactive tables.';\n",
              "          element.innerHTML = '';\n",
              "          dataTable['output_type'] = 'display_data';\n",
              "          await google.colab.output.renderOutput(dataTable, element);\n",
              "          const docLink = document.createElement('div');\n",
              "          docLink.innerHTML = docLinkHtml;\n",
              "          element.appendChild(docLink);\n",
              "        }\n",
              "      </script>\n",
              "    </div>\n",
              "  </div>\n",
              "  "
            ]
          },
          "metadata": {},
          "execution_count": 8
        }
      ]
    },
    {
      "cell_type": "code",
      "source": [
        "# Get value counts for the classes\n",
        "\n",
        "train_set_raw['label'].value_counts()"
      ],
      "metadata": {
        "colab": {
          "base_uri": "https://localhost:8080/"
        },
        "id": "MvUcdYDLhUjl",
        "outputId": "408909de-248e-4361-f710-7f5deced120f"
      },
      "execution_count": null,
      "outputs": [
        {
          "output_type": "execute_result",
          "data": {
            "text/plain": [
              "sitting               840\n",
              "using_laptop          840\n",
              "hugging               840\n",
              "sleeping              840\n",
              "drinking              840\n",
              "clapping              840\n",
              "dancing               840\n",
              "cycling               840\n",
              "calling               840\n",
              "laughing              840\n",
              "eating                840\n",
              "fighting              840\n",
              "listening_to_music    840\n",
              "running               840\n",
              "texting               840\n",
              "Name: label, dtype: int64"
            ]
          },
          "metadata": {},
          "execution_count": 9
        }
      ]
    },
    {
      "cell_type": "code",
      "source": [
        "# Get class names\n",
        "\n",
        "class_names = train_set_raw['label'].value_counts().index\n",
        "print(class_names)"
      ],
      "metadata": {
        "colab": {
          "base_uri": "https://localhost:8080/"
        },
        "id": "8JuC76SPiKyd",
        "outputId": "48782390-87bb-43dd-ef5e-318d1571437c"
      },
      "execution_count": null,
      "outputs": [
        {
          "output_type": "stream",
          "name": "stdout",
          "text": [
            "Index(['sitting', 'using_laptop', 'hugging', 'sleeping', 'drinking',\n",
            "       'clapping', 'dancing', 'cycling', 'calling', 'laughing', 'eating',\n",
            "       'fighting', 'listening_to_music', 'running', 'texting'],\n",
            "      dtype='object')\n"
          ]
        }
      ]
    },
    {
      "cell_type": "code",
      "source": [
        "## Testing!\n",
        "\n",
        "#train_set_raw.loc[train_set_raw['label'] == 'sitting']['filename'].to_numpy()[0]"
      ],
      "metadata": {
        "id": "2VRmpZj5kRA_"
      },
      "execution_count": null,
      "outputs": []
    },
    {
      "cell_type": "code",
      "source": [
        "# Create the appropriate directories for the training data\n",
        "\n",
        "import os\n",
        "\n",
        "if not os.path.exists('train'):\n",
        "  os.makedirs('train') # Make the big train_set folder\n",
        "if not os.path.exists('test'):\n",
        "  os.makedirs('test')\n",
        "\n",
        "for i in range(len(class_names)):\n",
        "  tr_path = 'train/' + class_names[i]\n",
        "  te_path = 'test/' + class_names[i]\n",
        "  if not os.path.exists(tr_path):\n",
        "    os.makedirs(tr_path)\n",
        "  if not os.path.exists(te_path):\n",
        "    os.makedirs(te_path)"
      ],
      "metadata": {
        "id": "NQ8tTeJnixNE"
      },
      "execution_count": null,
      "outputs": []
    },
    {
      "cell_type": "code",
      "source": [
        "# Move (copy) files to the appropriate places\n",
        "\n",
        "import shutil\n",
        "\n",
        "for i in range(len(class_names)):\n",
        "  current_class = class_names[i]\n",
        "  tr_path = 'train/' + current_class + '/'\n",
        "  te_path = 'test/' + current_class + '/'\n",
        "\n",
        "  # Get all samples that have the current class\n",
        "  current_images = train_set_raw.loc[train_set_raw['label'] == current_class]['filename'].to_numpy()\n",
        "\n",
        "  for x in range(672): # 80% of 840 images allocated to training set\n",
        "    #filepath = path + \"/\" + current_images[x]\n",
        "    root_path = \"/root/.keras/datasets/Human Action Recognition/train/\" + current_images[x]\n",
        "    shutil.copy(root_path, tr_path)\n",
        "  \n",
        "  for t in range(672, len(current_images)): # 20% of 840 images allocated to test set\n",
        "    root_path = \"/root/.keras/datasets/Human Action Recognition/train/\" + current_images[t]\n",
        "    shutil.copy(root_path, te_path)"
      ],
      "metadata": {
        "id": "S7bLoEx_joo9"
      },
      "execution_count": null,
      "outputs": []
    },
    {
      "cell_type": "code",
      "source": [
        "# Check directories\n",
        "walk_through_dir(\"train/\")"
      ],
      "metadata": {
        "colab": {
          "base_uri": "https://localhost:8080/"
        },
        "id": "XQGgJR7hoARn",
        "outputId": "ad26ee77-f206-435f-8c62-334254a8c099"
      },
      "execution_count": null,
      "outputs": [
        {
          "output_type": "stream",
          "name": "stdout",
          "text": [
            "There are 15 directories and 0 images in 'train/'.\n",
            "There are 0 directories and 672 images in 'train/texting'.\n",
            "There are 0 directories and 672 images in 'train/laughing'.\n",
            "There are 0 directories and 672 images in 'train/sleeping'.\n",
            "There are 0 directories and 672 images in 'train/using_laptop'.\n",
            "There are 0 directories and 672 images in 'train/sitting'.\n",
            "There are 0 directories and 672 images in 'train/drinking'.\n",
            "There are 0 directories and 672 images in 'train/dancing'.\n",
            "There are 0 directories and 672 images in 'train/fighting'.\n",
            "There are 0 directories and 672 images in 'train/calling'.\n",
            "There are 0 directories and 672 images in 'train/listening_to_music'.\n",
            "There are 0 directories and 672 images in 'train/eating'.\n",
            "There are 0 directories and 672 images in 'train/hugging'.\n",
            "There are 0 directories and 672 images in 'train/cycling'.\n",
            "There are 0 directories and 672 images in 'train/clapping'.\n",
            "There are 0 directories and 672 images in 'train/running'.\n"
          ]
        }
      ]
    },
    {
      "cell_type": "code",
      "source": [
        "walk_through_dir(\"test/\")"
      ],
      "metadata": {
        "colab": {
          "base_uri": "https://localhost:8080/"
        },
        "id": "a36kb_QCLmuu",
        "outputId": "87a67d98-dbe7-4dd1-8b64-bb0358fd1d1c"
      },
      "execution_count": null,
      "outputs": [
        {
          "output_type": "stream",
          "name": "stdout",
          "text": [
            "There are 15 directories and 0 images in 'test/'.\n",
            "There are 0 directories and 168 images in 'test/texting'.\n",
            "There are 0 directories and 168 images in 'test/laughing'.\n",
            "There are 0 directories and 168 images in 'test/sleeping'.\n",
            "There are 0 directories and 168 images in 'test/using_laptop'.\n",
            "There are 0 directories and 168 images in 'test/sitting'.\n",
            "There are 0 directories and 168 images in 'test/drinking'.\n",
            "There are 0 directories and 168 images in 'test/dancing'.\n",
            "There are 0 directories and 168 images in 'test/fighting'.\n",
            "There are 0 directories and 168 images in 'test/calling'.\n",
            "There are 0 directories and 168 images in 'test/listening_to_music'.\n",
            "There are 0 directories and 168 images in 'test/eating'.\n",
            "There are 0 directories and 168 images in 'test/hugging'.\n",
            "There are 0 directories and 168 images in 'test/cycling'.\n",
            "There are 0 directories and 168 images in 'test/clapping'.\n",
            "There are 0 directories and 168 images in 'test/running'.\n"
          ]
        }
      ]
    },
    {
      "cell_type": "markdown",
      "source": [
        "### Explore Dataset\n",
        "\n",
        "Some light exploration, just to confirm that the dataset's all downloaded good and just to get an idea of what it looks like.\n",
        "\n",
        "We want to know:\n",
        "  * Our class names -> see `class_names`\n",
        "  * Shape of our input data -> will set to (224, 224)\n",
        "  * Datatype of our input data\n",
        "  * What do the labels look like (one-hot vs. label encoded) -> Generated automatically from image_datagen\n",
        "  * Do the labels match with the class names? -> See above"
      ],
      "metadata": {
        "id": "taTUup_NoQG3"
      }
    },
    {
      "cell_type": "code",
      "source": [
        "# Create function that plots random image from the directory\n",
        "\n",
        "from PIL import Image\n",
        "from random import randint\n",
        "import matplotlib.pyplot as plt\n",
        "import numpy as np\n",
        "\n",
        "def plotRandom(classname):\n",
        "  \"\"\"\n",
        "    Given a class and the specified size of the directory, plot a random image from the directory.\n",
        "  \"\"\"\n",
        "  possible_images = train_set_raw.loc[train_set_raw['label'] == classname]['filename'].to_numpy() # Cheating a bit here\n",
        "  choice = randint(0, len(possible_images) - 1)\n",
        "  img_path = 'train/' + classname + '/' + possible_images[choice]\n",
        "  img = np.asarray(Image.open(img_path))\n",
        "\n",
        "  plt.imshow(img)"
      ],
      "metadata": {
        "id": "GnEd7tweode1"
      },
      "execution_count": null,
      "outputs": []
    },
    {
      "cell_type": "code",
      "source": [
        "plotRandom('sitting')"
      ],
      "metadata": {
        "colab": {
          "base_uri": "https://localhost:8080/",
          "height": 343
        },
        "id": "mJ9Iz31bqKX-",
        "outputId": "ee7c5aa5-1ad8-48f9-e108-492db236b7f7"
      },
      "execution_count": null,
      "outputs": [
        {
          "output_type": "display_data",
          "data": {
            "text/plain": [
              "<Figure size 640x480 with 1 Axes>"
            ],
            "image/png": "[encoded data removed]"
          },
          "metadata": {}
        }
      ]
    },
    {
      "cell_type": "code",
      "source": [
        "# Putting our images in a tensorflow database\n",
        "import tensorflow as tf\n",
        "\n",
        "train_data = tf.keras.utils.image_dataset_from_directory('train/',\n",
        "                                                                 label_mode='categorical',\n",
        "                                                                 image_size=(224, 224))\n",
        "\n",
        "test_data = tf.keras.utils.image_dataset_from_directory('test/',\n",
        "                                                                 label_mode='categorical',\n",
        "                                                                 image_size=(224, 224))"
      ],
      "metadata": {
        "id": "eu1ctJK0M97m",
        "colab": {
          "base_uri": "https://localhost:8080/"
        },
        "outputId": "b2ebef61-8b0c-493c-cf1d-b906cc593189"
      },
      "execution_count": null,
      "outputs": [
        {
          "output_type": "stream",
          "name": "stdout",
          "text": [
            "Found 10080 files belonging to 15 classes.\n",
            "Found 2520 files belonging to 15 classes.\n"
          ]
        }
      ]
    },
    {
      "cell_type": "code",
      "source": [
        "# What is the type of our datagen?\n",
        "\n",
        "type(train_data) # Batch dataset"
      ],
      "metadata": {
        "id": "O-1K807DLmoQ",
        "colab": {
          "base_uri": "https://localhost:8080/"
        },
        "outputId": "c61e4157-062d-45ca-9fbe-0c7eab3f725e"
      },
      "execution_count": null,
      "outputs": [
        {
          "output_type": "execute_result",
          "data": {
            "text/plain": [
              "tensorflow.python.data.ops.batch_op._BatchDataset"
            ]
          },
          "metadata": {},
          "execution_count": 20
        }
      ]
    },
    {
      "cell_type": "code",
      "source": [
        "# New class names -> Since our directories are in alphabetical order, so will our images labels\n",
        "\n",
        "class_names = sorted(class_names)\n",
        "class_names"
      ],
      "metadata": {
        "colab": {
          "base_uri": "https://localhost:8080/"
        },
        "id": "fvXEOZXvVBq4",
        "outputId": "ac02cef6-d268-4e10-dfcd-a57ec53fdee8"
      },
      "execution_count": null,
      "outputs": [
        {
          "output_type": "execute_result",
          "data": {
            "text/plain": [
              "['calling',\n",
              " 'clapping',\n",
              " 'cycling',\n",
              " 'dancing',\n",
              " 'drinking',\n",
              " 'eating',\n",
              " 'fighting',\n",
              " 'hugging',\n",
              " 'laughing',\n",
              " 'listening_to_music',\n",
              " 'running',\n",
              " 'sitting',\n",
              " 'sleeping',\n",
              " 'texting',\n",
              " 'using_laptop']"
            ]
          },
          "metadata": {},
          "execution_count": 21
        }
      ]
    },
    {
      "cell_type": "code",
      "source": [
        "# Grab one sample of training data\n",
        "# # It's initially a batch, so we have to convert to one sample\n",
        "\n",
        "sample_one = train_data.take(1).unbatch().take(1) # As a batch, then unbatched, and yoink the first sample"
      ],
      "metadata": {
        "id": "hRO7_T_iMmse"
      },
      "execution_count": null,
      "outputs": []
    },
    {
      "cell_type": "code",
      "source": [
        "sample_one"
      ],
      "metadata": {
        "colab": {
          "base_uri": "https://localhost:8080/"
        },
        "id": "pDtu2VTTM6N-",
        "outputId": "f929f593-88dc-4b24-8a01-c6eeceb514a2"
      },
      "execution_count": null,
      "outputs": [
        {
          "output_type": "execute_result",
          "data": {
            "text/plain": [
              "<_TakeDataset element_spec=(TensorSpec(shape=(224, 224, 3), dtype=tf.float32, name=None), TensorSpec(shape=(15,), dtype=tf.float32, name=None))>"
            ]
          },
          "metadata": {},
          "execution_count": 23
        }
      ]
    },
    {
      "cell_type": "code",
      "source": [],
      "metadata": {
        "id": "Rid15fGINwnw"
      },
      "execution_count": null,
      "outputs": []
    },
    {
      "cell_type": "code",
      "source": [
        "# Output some info about training sample\n",
        "\n",
        "for image, label in sample_one:\n",
        "  # Note, because our labels are one-hot encoded, I'll need to find the arg max of label and use that instead.\n",
        "  #print(label)\n",
        "  easy_label = tf.argmax(label).numpy()\n",
        "  print(f\"\"\"\n",
        "    Image Shape: {image.shape},\n",
        "    Image Datatype: {image.dtype},\n",
        "    Target Class from dataset (in tensor form): {label},\n",
        "    Target Class from dataset (in not one-hot format): {easy_label}\n",
        "    Class name (in string form): {class_names[easy_label]}\n",
        "  \"\"\")"
      ],
      "metadata": {
        "colab": {
          "base_uri": "https://localhost:8080/"
        },
        "id": "Rb0kbU6EM73H",
        "outputId": "ae69992a-1cea-4156-9ad5-f5af9f7f9c6b"
      },
      "execution_count": null,
      "outputs": [
        {
          "output_type": "stream",
          "name": "stdout",
          "text": [
            "\n",
            "    Image Shape: (224, 224, 3),\n",
            "    Image Datatype: <dtype: 'float32'>,\n",
            "    Target Class from dataset (in tensor form): [0. 0. 0. 0. 0. 0. 0. 0. 1. 0. 0. 0. 0. 0. 0.],\n",
            "    Target Class from dataset (in not one-hot format): 8\n",
            "    Class name (in string form): laughing\n",
            "  \n"
          ]
        }
      ]
    },
    {
      "cell_type": "code",
      "source": [
        "image # A bunch of float 32s"
      ],
      "metadata": {
        "colab": {
          "base_uri": "https://localhost:8080/"
        },
        "id": "PlDVOlRTM89H",
        "outputId": "59bdc4b1-cca7-4daa-c705-be15872b1071"
      },
      "execution_count": null,
      "outputs": [
        {
          "output_type": "execute_result",
          "data": {
            "text/plain": [
              "<tf.Tensor: shape=(224, 224, 3), dtype=float32, numpy=\n",
              "array([[[  8.     ,   0.     ,   0.     ],\n",
              "        [  8.     ,   0.     ,   0.     ],\n",
              "        [  8.     ,   0.     ,   0.     ],\n",
              "        ...,\n",
              "        [  9.     ,   0.     ,   1.     ],\n",
              "        [  9.     ,   0.     ,   1.     ],\n",
              "        [  9.     ,   0.     ,   1.     ]],\n",
              "\n",
              "       [[  8.     ,   0.     ,   0.     ],\n",
              "        [  8.     ,   0.     ,   0.     ],\n",
              "        [  8.     ,   0.     ,   0.     ],\n",
              "        ...,\n",
              "        [  9.     ,   0.     ,   1.     ],\n",
              "        [  9.     ,   0.     ,   1.     ],\n",
              "        [  9.     ,   0.     ,   1.     ]],\n",
              "\n",
              "       [[  8.     ,   0.     ,   0.     ],\n",
              "        [  8.     ,   0.     ,   0.     ],\n",
              "        [  8.     ,   0.     ,   0.     ],\n",
              "        ...,\n",
              "        [  9.     ,   0.     ,   1.     ],\n",
              "        [  9.     ,   0.     ,   1.     ],\n",
              "        [  9.     ,   0.     ,   1.     ]],\n",
              "\n",
              "       ...,\n",
              "\n",
              "       [[186.     , 215.     , 247.     ],\n",
              "        [187.4509 , 216.4509 , 248.4509 ],\n",
              "        [189.62723, 218.62723, 250.62723],\n",
              "        ...,\n",
              "        [160.31023, 192.31023, 231.57344],\n",
              "        [169.37854, 200.59903, 239.13527],\n",
              "        [179.83923, 209.     , 247.41962]],\n",
              "\n",
              "       [[186.     , 215.     , 247.     ],\n",
              "        [187.92372, 216.92372, 248.92372],\n",
              "        [190.27899, 219.27899, 251.27899],\n",
              "        ...,\n",
              "        [160.92934, 192.92934, 232.5566 ],\n",
              "        [170.29721, 201.199  , 239.47356],\n",
              "        [181.65176, 209.65176, 248.65176]],\n",
              "\n",
              "       [[186.88391, 215.88391, 247.88391],\n",
              "        [188.41902, 217.41902, 249.41902],\n",
              "        [190.62723, 219.62723, 251.62723],\n",
              "        ...,\n",
              "        [161.52269, 193.52269, 233.14995],\n",
              "        [171.03406, 201.93585, 240.2104 ],\n",
              "        [182.     , 210.     , 249.     ]]], dtype=float32)>"
            ]
          },
          "metadata": {},
          "execution_count": 25
        }
      ]
    },
    {
      "cell_type": "code",
      "source": [
        "# Min and max values -> close 0 and 255 respectively\n",
        "\n",
        "tf.reduce_min(image), tf.reduce_max(image)"
      ],
      "metadata": {
        "id": "32I68U_YQYWr",
        "colab": {
          "base_uri": "https://localhost:8080/"
        },
        "outputId": "9df08faf-1a40-4812-a09b-f58944830b27"
      },
      "execution_count": null,
      "outputs": [
        {
          "output_type": "execute_result",
          "data": {
            "text/plain": [
              "(<tf.Tensor: shape=(), dtype=float32, numpy=0.0>,\n",
              " <tf.Tensor: shape=(), dtype=float32, numpy=255.0>)"
            ]
          },
          "metadata": {},
          "execution_count": 26
        }
      ]
    },
    {
      "cell_type": "code",
      "source": [
        "# Plot an image from the dataset itself\n",
        "\n",
        "def plotRandFromDataset(dataset):\n",
        "  # Grab a random image from a random batch\n",
        "  sample = dataset.take(1).unbatch().take(1)\n",
        "  for image, label in sample:\n",
        "    #print(label)\n",
        "    #print(tf.math.argmax(label).numpy())\n",
        "    #print(class_names)\n",
        "    easy_label = class_names[tf.math.argmax(label).numpy()] # Get the class label of the image\n",
        "    normalized_image = image.numpy() / 255.0 # Normalize values to [0, 1] to prevent any wacky errors\n",
        "    plt.imshow(normalized_image) # plot the image\n",
        "    plt.axis('off') # Turn off axis\n",
        "    plt.title(f\"Image of {easy_label}\")\n",
        "    plt.show()\n",
        "  "
      ],
      "metadata": {
        "id": "xkjy9RQkM-Em"
      },
      "execution_count": null,
      "outputs": []
    },
    {
      "cell_type": "code",
      "source": [
        "# Dew it\n",
        "\n",
        "plotRandFromDataset(train_data)"
      ],
      "metadata": {
        "colab": {
          "base_uri": "https://localhost:8080/",
          "height": 428
        },
        "id": "T0M9Ew8LUKpb",
        "outputId": "74a71f30-334e-4afc-8b66-b156e18ee77b"
      },
      "execution_count": null,
      "outputs": [
        {
          "output_type": "display_data",
          "data": {
            "text/plain": [
              "<Figure size 640x480 with 1 Axes>"
            ],
            "image/png": "[encoded data removed]"
          },
          "metadata": {}
        }
      ]
    },
    {
      "cell_type": "markdown",
      "source": [
        "## Preparing Dataset\n",
        "\n",
        "Our data's very ugly. Time to fix it up. Let's create a bunch of preprocessing functions to make it easy on us.\n",
        "\n",
        "What we know about our data:\n",
        "  * In dtype `float32`, which is fine\n",
        "  * Contains 32 images per batch\n",
        "  * All images are pushed into the (224, 224) image size because our datagen\n",
        "  * Image values aren't normalized (between 0 and 255, not 0 and 1)\n",
        "\n",
        "Models Like:\n",
        "* Data in `float32` dtype\n",
        "  * For mixed precision, `float16` and `float32`\n",
        "* For batches, TensorFlow likes all tensors within a batch to be of the same size\n",
        "* Likes normalized tensors (between 0 and 1)\n",
        "\n",
        "With these points in mind, all we really need to do is scale our images (for both `ResNet50` and our CCT model below).\n",
        "\n",
        "Additionally, if we want to throw some data augmentation into the mix, we'll need to do it here too. To that end, I propose that a data augmentation be created, with all the preprocessing layers we want.\n"
      ],
      "metadata": {
        "id": "NZzsKeYhqaFe"
      }
    },
    {
      "cell_type": "code",
      "source": [
        "# cast our data to float32 if it hasn't already been done\n",
        "\n",
        "def preprocess_img(image, label, img_shape=224):\n",
        "  \"\"\"\n",
        "    Converts our image datatype to float32, and reshapes our image to [img_shape, img_shape, colour_channels]\n",
        "  \"\"\"\n",
        "  image = tf.image.resize(image, [img_shape, img_shape])\n",
        "  return tf.cast(image, tf.float32), label"
      ],
      "metadata": {
        "id": "1KHKoOZ0CQKJ"
      },
      "execution_count": null,
      "outputs": []
    },
    {
      "cell_type": "code",
      "source": [
        "# Test out the above function\n",
        "\n",
        "processed_img = preprocess_img(image, label)[0]\n",
        "print(f\"Before preprocessing: {image[:2]}\\n Shape: {image.shape}\\n Datatype:{image.dtype}\")\n",
        "print(f\"After preprocessing: {processed_img[:2]}\\n Shape: {processed_img.shape}\\n Datatype:{processed_img.dtype}\") # The exact same because it was already in the correct shape -> useful for new images!"
      ],
      "metadata": {
        "colab": {
          "base_uri": "https://localhost:8080/"
        },
        "id": "_spvFLfeCrW6",
        "outputId": "89a7a3f9-f5b4-43c6-b140-0a620b0ad576"
      },
      "execution_count": null,
      "outputs": [
        {
          "output_type": "stream",
          "name": "stdout",
          "text": [
            "Before preprocessing: [[[8. 0. 0.]\n",
            "  [8. 0. 0.]\n",
            "  [8. 0. 0.]\n",
            "  ...\n",
            "  [9. 0. 1.]\n",
            "  [9. 0. 1.]\n",
            "  [9. 0. 1.]]\n",
            "\n",
            " [[8. 0. 0.]\n",
            "  [8. 0. 0.]\n",
            "  [8. 0. 0.]\n",
            "  ...\n",
            "  [9. 0. 1.]\n",
            "  [9. 0. 1.]\n",
            "  [9. 0. 1.]]]\n",
            " Shape: (224, 224, 3)\n",
            " Datatype:<dtype: 'float32'>\n",
            "After preprocessing: [[[8. 0. 0.]\n",
            "  [8. 0. 0.]\n",
            "  [8. 0. 0.]\n",
            "  ...\n",
            "  [9. 0. 1.]\n",
            "  [9. 0. 1.]\n",
            "  [9. 0. 1.]]\n",
            "\n",
            " [[8. 0. 0.]\n",
            "  [8. 0. 0.]\n",
            "  [8. 0. 0.]\n",
            "  ...\n",
            "  [9. 0. 1.]\n",
            "  [9. 0. 1.]\n",
            "  [9. 0. 1.]]]\n",
            " Shape: (224, 224, 3)\n",
            " Datatype:<dtype: 'float32'>\n"
          ]
        }
      ]
    },
    {
      "cell_type": "code",
      "source": [
        "# Creating our model\n",
        "from tensorflow.keras import layers\n",
        "\n",
        "data_aug = tf.keras.Sequential([\n",
        "    layers.RandomFlip('horizontal'),\n",
        "    layers.RandomRotation(0.2),\n",
        "    layers.RandomZoom(0.2),\n",
        "    layers.RandomHeight(0.2),\n",
        "    layers.RandomWidth(0.2),\n",
        "    layers.Rescaling(1.0/255.0) # Rescales images to 0 to 1\n",
        "], name='data_augmentation')\n"
      ],
      "metadata": {
        "id": "8HPHFHncL0YW"
      },
      "execution_count": null,
      "outputs": []
    },
    {
      "cell_type": "markdown",
      "source": [
        "### Optimize our pipeline\n",
        "\n",
        "See: https://www.tensorflow.org/guide/data_performance"
      ],
      "metadata": {
        "id": "36SCvRDuEmYh"
      }
    },
    {
      "cell_type": "code",
      "source": [
        "# Map preprocessing function to training (and parallelize)\n",
        "\n",
        "#test_data = train_data.map(map_func=preprocess_img, num_parallel_calls=tf.data.AUTOTUNE)"
      ],
      "metadata": {
        "id": "ncHZo4eFElvC"
      },
      "execution_count": null,
      "outputs": []
    },
    {
      "cell_type": "markdown",
      "source": [
        "### Create Modelling Callbacks\n",
        "\n",
        "We're going to create a couple of callbacks for our model:\n",
        "\n",
        "* TensorBoard callback to log training results (to visualize our results)\n",
        "* ModelCheckpoint callback to savour model's progress after feature extraction\n",
        "\n",
        "Early stopping will be used for fine tuning"
      ],
      "metadata": {
        "id": "FiJhZw0Aa5WF"
      }
    },
    {
      "cell_type": "code",
      "source": [
        "# Create model callbacks!\n",
        "## TensorBoard (have a function for this already), Model Checkpointing\n",
        "checkpoint_path = 'model_checkpoints/cp.ckpt'\n",
        "\n",
        "callback_ckpt = tf.keras.callbacks.ModelCheckpoint(checkpoint_path,\n",
        "                                                   save_best_only=True,\n",
        "                                                   save_weights_only=True,\n",
        "                                                   monitor='val_acc',\n",
        "                                                   verbose=0)\n"
      ],
      "metadata": {
        "id": "-rS3i19_aYOm"
      },
      "execution_count": null,
      "outputs": []
    },
    {
      "cell_type": "markdown",
      "source": [
        "### Setup Mixed Precision Training\n",
        "\n",
        "First, here's the [official documentation](https://www.tensorflow.org/guide/mixed_precision).\n",
        "\n",
        "Mixed precision utilizes a combination of float32 and float16 dtypes to speed up model performance."
      ],
      "metadata": {
        "id": "JQHeROqycFhl"
      }
    },
    {
      "cell_type": "code",
      "source": [
        "# turn on mixed precision training\n",
        "\n",
        "from tensorflow.keras import mixed_precision\n",
        "mixed_precision.set_global_policy('mixed_float16')"
      ],
      "metadata": {
        "id": "1I6SDW2RcIY2"
      },
      "execution_count": null,
      "outputs": []
    },
    {
      "cell_type": "code",
      "source": [
        "mixed_precision.global_policy()"
      ],
      "metadata": {
        "colab": {
          "base_uri": "https://localhost:8080/"
        },
        "id": "O1zuHpLlc5DE",
        "outputId": "14812d45-43ac-4cbd-de49-3f70c5156b4d"
      },
      "execution_count": null,
      "outputs": [
        {
          "output_type": "execute_result",
          "data": {
            "text/plain": [
              "<Policy \"mixed_float16\">"
            ]
          },
          "metadata": {},
          "execution_count": 35
        }
      ]
    },
    {
      "cell_type": "markdown",
      "source": [
        "## Creating Models\n",
        "\n",
        "Because `EfficientNetB0` isn't really all that useful at the moment (as the tensorflow implementation can't really be saved easily) due to a bug, I'll be using two other models.\n",
        "\n",
        "Why two models? Because I love to experiment and all that jazz.\n",
        "\n",
        "I'll be using two models:\n",
        "* ResNet50\n",
        "* A Compact Convolutional Transformer (CCT)\n",
        "  * Taken from the very smart people [here](https://keras.io/examples/vision/cct/). Big ups to Sayak Paul!\n",
        "\n",
        "ResNet should do well regardless, but the CCT might complain about the low amount of images offered (relatively speaking). It'll be an interesting experiement anyway."
      ],
      "metadata": {
        "id": "CQvw4U_A7h5M"
      }
    },
    {
      "cell_type": "code",
      "source": [
        "!pip install keras-cv tensorflow --upgrade"
      ],
      "metadata": {
        "colab": {
          "base_uri": "https://localhost:8080/"
        },
        "id": "fwipgKEI80B0",
        "outputId": "4fbd0796-f1f9-4d42-e84d-9e1229ad293f"
      },
      "execution_count": null,
      "outputs": [
        {
          "output_type": "stream",
          "name": "stdout",
          "text": [
            "Looking in indexes: https://pypi.org/simple, https://us-python.pkg.dev/colab-wheels/public/simple/\n",
            "Collecting keras-cv\n",
            "  Downloading keras_cv-0.4.2-py3-none-any.whl (634 kB)\n",
            "\u001b[2K     \u001b[90m━━━━━━━━━━━━━━━━━━━━━━━━━━━━━━━━━━━━━━\u001b[0m \u001b[32m634.9/634.9 kB\u001b[0m \u001b[31m27.8 MB/s\u001b[0m eta \u001b[36m0:00:00\u001b[0m\n",
            "\u001b[?25hRequirement already satisfied: tensorflow in /usr/local/lib/python3.10/dist-packages (2.12.0)\n",
            "Requirement already satisfied: packaging in /usr/local/lib/python3.10/dist-packages (from keras-cv) (23.1)\n",
            "Requirement already satisfied: absl-py in /usr/local/lib/python3.10/dist-packages (from keras-cv) (1.4.0)\n",
            "Requirement already satisfied: regex in /usr/local/lib/python3.10/dist-packages (from keras-cv) (2022.10.31)\n",
            "Requirement already satisfied: tensorflow-datasets in /usr/local/lib/python3.10/dist-packages (from keras-cv) (4.9.2)\n",
            "Requirement already satisfied: astunparse>=1.6.0 in /usr/local/lib/python3.10/dist-packages (from tensorflow) (1.6.3)\n",
            "Requirement already satisfied: flatbuffers>=2.0 in /usr/local/lib/python3.10/dist-packages (from tensorflow) (23.3.3)\n",
            "Requirement already satisfied: gast<=0.4.0,>=0.2.1 in /usr/local/lib/python3.10/dist-packages (from tensorflow) (0.4.0)\n",
            "Requirement already satisfied: google-pasta>=0.1.1 in /usr/local/lib/python3.10/dist-packages (from tensorflow) (0.2.0)\n",
            "Requirement already satisfied: grpcio<2.0,>=1.24.3 in /usr/local/lib/python3.10/dist-packages (from tensorflow) (1.54.0)\n",
            "Requirement already satisfied: h5py>=2.9.0 in /usr/local/lib/python3.10/dist-packages (from tensorflow) (3.8.0)\n",
            "Requirement already satisfied: jax>=0.3.15 in /usr/local/lib/python3.10/dist-packages (from tensorflow) (0.4.8)\n",
            "Requirement already satisfied: keras<2.13,>=2.12.0 in /usr/local/lib/python3.10/dist-packages (from tensorflow) (2.12.0)\n",
            "Requirement already satisfied: libclang>=13.0.0 in /usr/local/lib/python3.10/dist-packages (from tensorflow) (16.0.0)\n",
            "Requirement already satisfied: numpy<1.24,>=1.22 in /usr/local/lib/python3.10/dist-packages (from tensorflow) (1.22.4)\n",
            "Requirement already satisfied: opt-einsum>=2.3.2 in /usr/local/lib/python3.10/dist-packages (from tensorflow) (3.3.0)\n",
            "Requirement already satisfied: protobuf!=4.21.0,!=4.21.1,!=4.21.2,!=4.21.3,!=4.21.4,!=4.21.5,<5.0.0dev,>=3.20.3 in /usr/local/lib/python3.10/dist-packages (from tensorflow) (3.20.3)\n",
            "Requirement already satisfied: setuptools in /usr/local/lib/python3.10/dist-packages (from tensorflow) (67.7.2)\n",
            "Requirement already satisfied: six>=1.12.0 in /usr/local/lib/python3.10/dist-packages (from tensorflow) (1.16.0)\n",
            "Requirement already satisfied: tensorboard<2.13,>=2.12 in /usr/local/lib/python3.10/dist-packages (from tensorflow) (2.12.2)\n",
            "Requirement already satisfied: tensorflow-estimator<2.13,>=2.12.0 in /usr/local/lib/python3.10/dist-packages (from tensorflow) (2.12.0)\n",
            "Requirement already satisfied: termcolor>=1.1.0 in /usr/local/lib/python3.10/dist-packages (from tensorflow) (2.3.0)\n",
            "Requirement already satisfied: typing-extensions>=3.6.6 in /usr/local/lib/python3.10/dist-packages (from tensorflow) (4.5.0)\n",
            "Requirement already satisfied: wrapt<1.15,>=1.11.0 in /usr/local/lib/python3.10/dist-packages (from tensorflow) (1.14.1)\n",
            "Requirement already satisfied: tensorflow-io-gcs-filesystem>=0.23.1 in /usr/local/lib/python3.10/dist-packages (from tensorflow) (0.32.0)\n",
            "Requirement already satisfied: wheel<1.0,>=0.23.0 in /usr/local/lib/python3.10/dist-packages (from astunparse>=1.6.0->tensorflow) (0.40.0)\n",
            "Requirement already satisfied: ml-dtypes>=0.0.3 in /usr/local/lib/python3.10/dist-packages (from jax>=0.3.15->tensorflow) (0.1.0)\n",
            "Requirement already satisfied: scipy>=1.7 in /usr/local/lib/python3.10/dist-packages (from jax>=0.3.15->tensorflow) (1.10.1)\n",
            "Requirement already satisfied: google-auth<3,>=1.6.3 in /usr/local/lib/python3.10/dist-packages (from tensorboard<2.13,>=2.12->tensorflow) (2.17.3)\n",
            "Requirement already satisfied: google-auth-oauthlib<1.1,>=0.5 in /usr/local/lib/python3.10/dist-packages (from tensorboard<2.13,>=2.12->tensorflow) (1.0.0)\n",
            "Requirement already satisfied: markdown>=2.6.8 in /usr/local/lib/python3.10/dist-packages (from tensorboard<2.13,>=2.12->tensorflow) (3.4.3)\n",
            "Requirement already satisfied: requests<3,>=2.21.0 in /usr/local/lib/python3.10/dist-packages (from tensorboard<2.13,>=2.12->tensorflow) (2.27.1)\n",
            "Requirement already satisfied: tensorboard-data-server<0.8.0,>=0.7.0 in /usr/local/lib/python3.10/dist-packages (from tensorboard<2.13,>=2.12->tensorflow) (0.7.0)\n",
            "Requirement already satisfied: tensorboard-plugin-wit>=1.6.0 in /usr/local/lib/python3.10/dist-packages (from tensorboard<2.13,>=2.12->tensorflow) (1.8.1)\n",
            "Requirement already satisfied: werkzeug>=1.0.1 in /usr/local/lib/python3.10/dist-packages (from tensorboard<2.13,>=2.12->tensorflow) (2.3.0)\n",
            "Requirement already satisfied: array-record in /usr/local/lib/python3.10/dist-packages (from tensorflow-datasets->keras-cv) (0.2.0)\n",
            "Requirement already satisfied: click in /usr/local/lib/python3.10/dist-packages (from tensorflow-datasets->keras-cv) (8.1.3)\n",
            "Requirement already satisfied: dm-tree in /usr/local/lib/python3.10/dist-packages (from tensorflow-datasets->keras-cv) (0.1.8)\n",
            "Requirement already satisfied: etils[enp,epath]>=0.9.0 in /usr/local/lib/python3.10/dist-packages (from tensorflow-datasets->keras-cv) (1.2.0)\n",
            "Requirement already satisfied: promise in /usr/local/lib/python3.10/dist-packages (from tensorflow-datasets->keras-cv) (2.3)\n",
            "Requirement already satisfied: psutil in /usr/local/lib/python3.10/dist-packages (from tensorflow-datasets->keras-cv) (5.9.5)\n",
            "Requirement already satisfied: tensorflow-metadata in /usr/local/lib/python3.10/dist-packages (from tensorflow-datasets->keras-cv) (1.13.1)\n",
            "Requirement already satisfied: toml in /usr/local/lib/python3.10/dist-packages (from tensorflow-datasets->keras-cv) (0.10.2)\n",
            "Requirement already satisfied: tqdm in /usr/local/lib/python3.10/dist-packages (from tensorflow-datasets->keras-cv) (4.65.0)\n",
            "Requirement already satisfied: importlib_resources in /usr/local/lib/python3.10/dist-packages (from etils[enp,epath]>=0.9.0->tensorflow-datasets->keras-cv) (5.12.0)\n",
            "Requirement already satisfied: zipp in /usr/local/lib/python3.10/dist-packages (from etils[enp,epath]>=0.9.0->tensorflow-datasets->keras-cv) (3.15.0)\n",
            "Requirement already satisfied: cachetools<6.0,>=2.0.0 in /usr/local/lib/python3.10/dist-packages (from google-auth<3,>=1.6.3->tensorboard<2.13,>=2.12->tensorflow) (5.3.0)\n",
            "Requirement already satisfied: pyasn1-modules>=0.2.1 in /usr/local/lib/python3.10/dist-packages (from google-auth<3,>=1.6.3->tensorboard<2.13,>=2.12->tensorflow) (0.3.0)\n",
            "Requirement already satisfied: rsa<5,>=3.1.4 in /usr/local/lib/python3.10/dist-packages (from google-auth<3,>=1.6.3->tensorboard<2.13,>=2.12->tensorflow) (4.9)\n",
            "Requirement already satisfied: requests-oauthlib>=0.7.0 in /usr/local/lib/python3.10/dist-packages (from google-auth-oauthlib<1.1,>=0.5->tensorboard<2.13,>=2.12->tensorflow) (1.3.1)\n",
            "Requirement already satisfied: urllib3<1.27,>=1.21.1 in /usr/local/lib/python3.10/dist-packages (from requests<3,>=2.21.0->tensorboard<2.13,>=2.12->tensorflow) (1.26.15)\n",
            "Requirement already satisfied: certifi>=2017.4.17 in /usr/local/lib/python3.10/dist-packages (from requests<3,>=2.21.0->tensorboard<2.13,>=2.12->tensorflow) (2022.12.7)\n",
            "Requirement already satisfied: charset-normalizer~=2.0.0 in /usr/local/lib/python3.10/dist-packages (from requests<3,>=2.21.0->tensorboard<2.13,>=2.12->tensorflow) (2.0.12)\n",
            "Requirement already satisfied: idna<4,>=2.5 in /usr/local/lib/python3.10/dist-packages (from requests<3,>=2.21.0->tensorboard<2.13,>=2.12->tensorflow) (3.4)\n",
            "Requirement already satisfied: MarkupSafe>=2.1.1 in /usr/local/lib/python3.10/dist-packages (from werkzeug>=1.0.1->tensorboard<2.13,>=2.12->tensorflow) (2.1.2)\n",
            "Requirement already satisfied: googleapis-common-protos<2,>=1.52.0 in /usr/local/lib/python3.10/dist-packages (from tensorflow-metadata->tensorflow-datasets->keras-cv) (1.59.0)\n",
            "Requirement already satisfied: pyasn1<0.6.0,>=0.4.6 in /usr/local/lib/python3.10/dist-packages (from pyasn1-modules>=0.2.1->google-auth<3,>=1.6.3->tensorboard<2.13,>=2.12->tensorflow) (0.5.0)\n",
            "Requirement already satisfied: oauthlib>=3.0.0 in /usr/local/lib/python3.10/dist-packages (from requests-oauthlib>=0.7.0->google-auth-oauthlib<1.1,>=0.5->tensorboard<2.13,>=2.12->tensorflow) (3.2.2)\n",
            "Installing collected packages: keras-cv\n",
            "Successfully installed keras-cv-0.4.2\n"
          ]
        }
      ]
    },
    {
      "cell_type": "code",
      "source": [
        "!pip install keras-nlp --upgrade -q"
      ],
      "metadata": {
        "colab": {
          "base_uri": "https://localhost:8080/"
        },
        "id": "aL1pSzJB9m9v",
        "outputId": "d7010502-831a-41b7-f128-061a1f7d63cd"
      },
      "execution_count": null,
      "outputs": [
        {
          "output_type": "stream",
          "name": "stdout",
          "text": [
            "\u001b[2K     \u001b[90m━━━━━━━━━━━━━━━━━━━━━━━━━━━━━━━━━━━━━━\u001b[0m \u001b[32m527.1/527.1 kB\u001b[0m \u001b[31m39.1 MB/s\u001b[0m eta \u001b[36m0:00:00\u001b[0m\n",
            "\u001b[2K     \u001b[90m━━━━━━━━━━━━━━━━━━━━━━━━━━━━━━━━━━━━━━━━\u001b[0m \u001b[32m6.0/6.0 MB\u001b[0m \u001b[31m99.0 MB/s\u001b[0m eta \u001b[36m0:00:00\u001b[0m\n",
            "\u001b[?25h"
          ]
        }
      ]
    },
    {
      "cell_type": "code",
      "source": [
        "# import all the stuff\n",
        "\n",
        "from tensorflow.keras import layers\n",
        "from tensorflow import keras\n",
        "\n",
        "import keras_cv as kcv\n",
        "import keras_nlp as knlp"
      ],
      "metadata": {
        "colab": {
          "base_uri": "https://localhost:8080/"
        },
        "id": "QDEeqOFd8jZj",
        "outputId": "93c8a5b6-b3dd-4180-d46b-2ed78cf09d12"
      },
      "execution_count": null,
      "outputs": [
        {
          "output_type": "stream",
          "name": "stdout",
          "text": [
            "You do not have Waymo Open Dataset installed, so KerasCV Waymo metrics are not available.\n"
          ]
        }
      ]
    },
    {
      "cell_type": "code",
      "source": [
        "# Creating the ResNet50 Model first -> Feature Extractor\n",
        "\n",
        "tf.random.set_seed(2232)\n",
        "\n",
        "# Download model and freeze layers\n",
        "\n",
        "base_model = tf.keras.applications.ResNet50(include_top=False)\n",
        "base_model.trainable = False\n",
        "\n",
        "# Create the functional model\n",
        "\n",
        "input_shape = (224, 224, 3)\n",
        "\n",
        "inputs = layers.Input(shape=input_shape)\n",
        "x = data_aug(inputs)\n",
        "x = base_model(x, training=False)\n",
        "x = layers.GlobalAveragePooling2D()(x)\n",
        "x = layers.Dense(len(class_names))(x)\n",
        "outputs = layers.Activation('softmax', dtype=tf.float32)(x) # Need a float32 output layer for mixed precision to work properly\n",
        "model = tf.keras.Model(inputs, outputs)\n",
        "\n",
        "# Compile the model\n",
        "\n",
        "model.compile(loss='categorical_crossentropy',\n",
        "              optimizer=tf.keras.optimizers.Adam(),\n",
        "              metrics=['accuracy'])"
      ],
      "metadata": {
        "id": "00rltN8G8yB8",
        "colab": {
          "base_uri": "https://localhost:8080/"
        },
        "outputId": "6fb02a19-3535-41f1-c6ef-14cfc14458ab"
      },
      "execution_count": null,
      "outputs": [
        {
          "output_type": "stream",
          "name": "stdout",
          "text": [
            "Downloading data from https://storage.googleapis.com/tensorflow/keras-applications/resnet/resnet50_weights_tf_dim_ordering_tf_kernels_notop.h5\n",
            "94765736/94765736 [==============================] - 1s 0us/step\n"
          ]
        }
      ]
    },
    {
      "cell_type": "code",
      "source": [
        "model.summary()"
      ],
      "metadata": {
        "colab": {
          "base_uri": "https://localhost:8080/"
        },
        "id": "-S9FJcd5plkK",
        "outputId": "df38ad58-8ec9-4ab2-a2b6-715d7c596f5e"
      },
      "execution_count": null,
      "outputs": [
        {
          "output_type": "stream",
          "name": "stdout",
          "text": [
            "Model: \"model\"\n",
            "_________________________________________________________________\n",
            " Layer (type)                Output Shape              Param #   \n",
            "=================================================================\n",
            " input_2 (InputLayer)        [(None, 224, 224, 3)]     0         \n",
            "                                                                 \n",
            " data_augmentation (Sequenti  (None, None, None, 3)    0         \n",
            " al)                                                             \n",
            "                                                                 \n",
            " resnet50 (Functional)       (None, None, None, 2048)  23587712  \n",
            "                                                                 \n",
            " global_average_pooling2d (G  (None, 2048)             0         \n",
            " lobalAveragePooling2D)                                          \n",
            "                                                                 \n",
            " dense (Dense)               (None, 15)                30735     \n",
            "                                                                 \n",
            " activation (Activation)     (None, 15)                0         \n",
            "                                                                 \n",
            "=================================================================\n",
            "Total params: 23,618,447\n",
            "Trainable params: 30,735\n",
            "Non-trainable params: 23,587,712\n",
            "_________________________________________________________________\n"
          ]
        }
      ]
    },
    {
      "cell_type": "code",
      "source": [
        "# Checking policies in model to ensure mixed precision use\n",
        "\n",
        "for layer in model.layers:\n",
        "  print(layer.name, layer.trainable, layer.dtype, layer.dtype_policy)"
      ],
      "metadata": {
        "colab": {
          "base_uri": "https://localhost:8080/"
        },
        "id": "8UX6AnyupnVT",
        "outputId": "68cc2406-81d4-4f47-b600-261f2273ce7f"
      },
      "execution_count": null,
      "outputs": [
        {
          "output_type": "stream",
          "name": "stdout",
          "text": [
            "input_2 True float32 <Policy \"float32\">\n",
            "data_augmentation True float32 <Policy \"float32\">\n",
            "resnet50 False float32 <Policy \"mixed_float16\">\n",
            "global_average_pooling2d True float32 <Policy \"mixed_float16\">\n",
            "dense True float32 <Policy \"mixed_float16\">\n",
            "activation True float32 <Policy \"float32\">\n"
          ]
        }
      ]
    },
    {
      "cell_type": "markdown",
      "source": [
        "* `layer.name`\n",
        "  * The human readable name of a particular layer\n",
        "* `layer.trainable`\n",
        "  * Is the layer trainable or not?\n",
        "  * If `False`, the weights are frozen\n",
        "* `layer.dtype`\n",
        "  * The data type a layer stores its variables in\n",
        "* `layer.dtype_policy`\n",
        "  * The data type policy a layer computes its variables on"
      ],
      "metadata": {
        "id": "mt4M3yQaqDGa"
      }
    },
    {
      "cell_type": "markdown",
      "source": [
        "Data aug, input layer, and the activation layer are all regular float32 policies.\n",
        "\n",
        "However, the rest of the layers have a mixed float16 policy"
      ],
      "metadata": {
        "id": "N0obJnBap3E7"
      }
    },
    {
      "cell_type": "code",
      "source": [
        "# What about the base model?\n",
        "\n",
        "for layer in model.layers[2].layers:\n",
        "  print(layer.name, layer.trainable, layer.dtype, layer.dtype_policy)"
      ],
      "metadata": {
        "colab": {
          "base_uri": "https://localhost:8080/"
        },
        "id": "AwUtn_Siqbos",
        "outputId": "32e7d8c9-9ed0-4d4f-99f7-6a71d0a3591f"
      },
      "execution_count": null,
      "outputs": [
        {
          "output_type": "stream",
          "name": "stdout",
          "text": [
            "input_1 False float32 <Policy \"float32\">\n",
            "conv1_pad False float32 <Policy \"mixed_float16\">\n",
            "conv1_conv False float32 <Policy \"mixed_float16\">\n",
            "conv1_bn False float32 <Policy \"mixed_float16\">\n",
            "conv1_relu False float32 <Policy \"mixed_float16\">\n",
            "pool1_pad False float32 <Policy \"mixed_float16\">\n",
            "pool1_pool False float32 <Policy \"mixed_float16\">\n",
            "conv2_block1_1_conv False float32 <Policy \"mixed_float16\">\n",
            "conv2_block1_1_bn False float32 <Policy \"mixed_float16\">\n",
            "conv2_block1_1_relu False float32 <Policy \"mixed_float16\">\n",
            "conv2_block1_2_conv False float32 <Policy \"mixed_float16\">\n",
            "conv2_block1_2_bn False float32 <Policy \"mixed_float16\">\n",
            "conv2_block1_2_relu False float32 <Policy \"mixed_float16\">\n",
            "conv2_block1_0_conv False float32 <Policy \"mixed_float16\">\n",
            "conv2_block1_3_conv False float32 <Policy \"mixed_float16\">\n",
            "conv2_block1_0_bn False float32 <Policy \"mixed_float16\">\n",
            "conv2_block1_3_bn False float32 <Policy \"mixed_float16\">\n",
            "conv2_block1_add False float32 <Policy \"mixed_float16\">\n",
            "conv2_block1_out False float32 <Policy \"mixed_float16\">\n",
            "conv2_block2_1_conv False float32 <Policy \"mixed_float16\">\n",
            "conv2_block2_1_bn False float32 <Policy \"mixed_float16\">\n",
            "conv2_block2_1_relu False float32 <Policy \"mixed_float16\">\n",
            "conv2_block2_2_conv False float32 <Policy \"mixed_float16\">\n",
            "conv2_block2_2_bn False float32 <Policy \"mixed_float16\">\n",
            "conv2_block2_2_relu False float32 <Policy \"mixed_float16\">\n",
            "conv2_block2_3_conv False float32 <Policy \"mixed_float16\">\n",
            "conv2_block2_3_bn False float32 <Policy \"mixed_float16\">\n",
            "conv2_block2_add False float32 <Policy \"mixed_float16\">\n",
            "conv2_block2_out False float32 <Policy \"mixed_float16\">\n",
            "conv2_block3_1_conv False float32 <Policy \"mixed_float16\">\n",
            "conv2_block3_1_bn False float32 <Policy \"mixed_float16\">\n",
            "conv2_block3_1_relu False float32 <Policy \"mixed_float16\">\n",
            "conv2_block3_2_conv False float32 <Policy \"mixed_float16\">\n",
            "conv2_block3_2_bn False float32 <Policy \"mixed_float16\">\n",
            "conv2_block3_2_relu False float32 <Policy \"mixed_float16\">\n",
            "conv2_block3_3_conv False float32 <Policy \"mixed_float16\">\n",
            "conv2_block3_3_bn False float32 <Policy \"mixed_float16\">\n",
            "conv2_block3_add False float32 <Policy \"mixed_float16\">\n",
            "conv2_block3_out False float32 <Policy \"mixed_float16\">\n",
            "conv3_block1_1_conv False float32 <Policy \"mixed_float16\">\n",
            "conv3_block1_1_bn False float32 <Policy \"mixed_float16\">\n",
            "conv3_block1_1_relu False float32 <Policy \"mixed_float16\">\n",
            "conv3_block1_2_conv False float32 <Policy \"mixed_float16\">\n",
            "conv3_block1_2_bn False float32 <Policy \"mixed_float16\">\n",
            "conv3_block1_2_relu False float32 <Policy \"mixed_float16\">\n",
            "conv3_block1_0_conv False float32 <Policy \"mixed_float16\">\n",
            "conv3_block1_3_conv False float32 <Policy \"mixed_float16\">\n",
            "conv3_block1_0_bn False float32 <Policy \"mixed_float16\">\n",
            "conv3_block1_3_bn False float32 <Policy \"mixed_float16\">\n",
            "conv3_block1_add False float32 <Policy \"mixed_float16\">\n",
            "conv3_block1_out False float32 <Policy \"mixed_float16\">\n",
            "conv3_block2_1_conv False float32 <Policy \"mixed_float16\">\n",
            "conv3_block2_1_bn False float32 <Policy \"mixed_float16\">\n",
            "conv3_block2_1_relu False float32 <Policy \"mixed_float16\">\n",
            "conv3_block2_2_conv False float32 <Policy \"mixed_float16\">\n",
            "conv3_block2_2_bn False float32 <Policy \"mixed_float16\">\n",
            "conv3_block2_2_relu False float32 <Policy \"mixed_float16\">\n",
            "conv3_block2_3_conv False float32 <Policy \"mixed_float16\">\n",
            "conv3_block2_3_bn False float32 <Policy \"mixed_float16\">\n",
            "conv3_block2_add False float32 <Policy \"mixed_float16\">\n",
            "conv3_block2_out False float32 <Policy \"mixed_float16\">\n",
            "conv3_block3_1_conv False float32 <Policy \"mixed_float16\">\n",
            "conv3_block3_1_bn False float32 <Policy \"mixed_float16\">\n",
            "conv3_block3_1_relu False float32 <Policy \"mixed_float16\">\n",
            "conv3_block3_2_conv False float32 <Policy \"mixed_float16\">\n",
            "conv3_block3_2_bn False float32 <Policy \"mixed_float16\">\n",
            "conv3_block3_2_relu False float32 <Policy \"mixed_float16\">\n",
            "conv3_block3_3_conv False float32 <Policy \"mixed_float16\">\n",
            "conv3_block3_3_bn False float32 <Policy \"mixed_float16\">\n",
            "conv3_block3_add False float32 <Policy \"mixed_float16\">\n",
            "conv3_block3_out False float32 <Policy \"mixed_float16\">\n",
            "conv3_block4_1_conv False float32 <Policy \"mixed_float16\">\n",
            "conv3_block4_1_bn False float32 <Policy \"mixed_float16\">\n",
            "conv3_block4_1_relu False float32 <Policy \"mixed_float16\">\n",
            "conv3_block4_2_conv False float32 <Policy \"mixed_float16\">\n",
            "conv3_block4_2_bn False float32 <Policy \"mixed_float16\">\n",
            "conv3_block4_2_relu False float32 <Policy \"mixed_float16\">\n",
            "conv3_block4_3_conv False float32 <Policy \"mixed_float16\">\n",
            "conv3_block4_3_bn False float32 <Policy \"mixed_float16\">\n",
            "conv3_block4_add False float32 <Policy \"mixed_float16\">\n",
            "conv3_block4_out False float32 <Policy \"mixed_float16\">\n",
            "conv4_block1_1_conv False float32 <Policy \"mixed_float16\">\n",
            "conv4_block1_1_bn False float32 <Policy \"mixed_float16\">\n",
            "conv4_block1_1_relu False float32 <Policy \"mixed_float16\">\n",
            "conv4_block1_2_conv False float32 <Policy \"mixed_float16\">\n",
            "conv4_block1_2_bn False float32 <Policy \"mixed_float16\">\n",
            "conv4_block1_2_relu False float32 <Policy \"mixed_float16\">\n",
            "conv4_block1_0_conv False float32 <Policy \"mixed_float16\">\n",
            "conv4_block1_3_conv False float32 <Policy \"mixed_float16\">\n",
            "conv4_block1_0_bn False float32 <Policy \"mixed_float16\">\n",
            "conv4_block1_3_bn False float32 <Policy \"mixed_float16\">\n",
            "conv4_block1_add False float32 <Policy \"mixed_float16\">\n",
            "conv4_block1_out False float32 <Policy \"mixed_float16\">\n",
            "conv4_block2_1_conv False float32 <Policy \"mixed_float16\">\n",
            "conv4_block2_1_bn False float32 <Policy \"mixed_float16\">\n",
            "conv4_block2_1_relu False float32 <Policy \"mixed_float16\">\n",
            "conv4_block2_2_conv False float32 <Policy \"mixed_float16\">\n",
            "conv4_block2_2_bn False float32 <Policy \"mixed_float16\">\n",
            "conv4_block2_2_relu False float32 <Policy \"mixed_float16\">\n",
            "conv4_block2_3_conv False float32 <Policy \"mixed_float16\">\n",
            "conv4_block2_3_bn False float32 <Policy \"mixed_float16\">\n",
            "conv4_block2_add False float32 <Policy \"mixed_float16\">\n",
            "conv4_block2_out False float32 <Policy \"mixed_float16\">\n",
            "conv4_block3_1_conv False float32 <Policy \"mixed_float16\">\n",
            "conv4_block3_1_bn False float32 <Policy \"mixed_float16\">\n",
            "conv4_block3_1_relu False float32 <Policy \"mixed_float16\">\n",
            "conv4_block3_2_conv False float32 <Policy \"mixed_float16\">\n",
            "conv4_block3_2_bn False float32 <Policy \"mixed_float16\">\n",
            "conv4_block3_2_relu False float32 <Policy \"mixed_float16\">\n",
            "conv4_block3_3_conv False float32 <Policy \"mixed_float16\">\n",
            "conv4_block3_3_bn False float32 <Policy \"mixed_float16\">\n",
            "conv4_block3_add False float32 <Policy \"mixed_float16\">\n",
            "conv4_block3_out False float32 <Policy \"mixed_float16\">\n",
            "conv4_block4_1_conv False float32 <Policy \"mixed_float16\">\n",
            "conv4_block4_1_bn False float32 <Policy \"mixed_float16\">\n",
            "conv4_block4_1_relu False float32 <Policy \"mixed_float16\">\n",
            "conv4_block4_2_conv False float32 <Policy \"mixed_float16\">\n",
            "conv4_block4_2_bn False float32 <Policy \"mixed_float16\">\n",
            "conv4_block4_2_relu False float32 <Policy \"mixed_float16\">\n",
            "conv4_block4_3_conv False float32 <Policy \"mixed_float16\">\n",
            "conv4_block4_3_bn False float32 <Policy \"mixed_float16\">\n",
            "conv4_block4_add False float32 <Policy \"mixed_float16\">\n",
            "conv4_block4_out False float32 <Policy \"mixed_float16\">\n",
            "conv4_block5_1_conv False float32 <Policy \"mixed_float16\">\n",
            "conv4_block5_1_bn False float32 <Policy \"mixed_float16\">\n",
            "conv4_block5_1_relu False float32 <Policy \"mixed_float16\">\n",
            "conv4_block5_2_conv False float32 <Policy \"mixed_float16\">\n",
            "conv4_block5_2_bn False float32 <Policy \"mixed_float16\">\n",
            "conv4_block5_2_relu False float32 <Policy \"mixed_float16\">\n",
            "conv4_block5_3_conv False float32 <Policy \"mixed_float16\">\n",
            "conv4_block5_3_bn False float32 <Policy \"mixed_float16\">\n",
            "conv4_block5_add False float32 <Policy \"mixed_float16\">\n",
            "conv4_block5_out False float32 <Policy \"mixed_float16\">\n",
            "conv4_block6_1_conv False float32 <Policy \"mixed_float16\">\n",
            "conv4_block6_1_bn False float32 <Policy \"mixed_float16\">\n",
            "conv4_block6_1_relu False float32 <Policy \"mixed_float16\">\n",
            "conv4_block6_2_conv False float32 <Policy \"mixed_float16\">\n",
            "conv4_block6_2_bn False float32 <Policy \"mixed_float16\">\n",
            "conv4_block6_2_relu False float32 <Policy \"mixed_float16\">\n",
            "conv4_block6_3_conv False float32 <Policy \"mixed_float16\">\n",
            "conv4_block6_3_bn False float32 <Policy \"mixed_float16\">\n",
            "conv4_block6_add False float32 <Policy \"mixed_float16\">\n",
            "conv4_block6_out False float32 <Policy \"mixed_float16\">\n",
            "conv5_block1_1_conv False float32 <Policy \"mixed_float16\">\n",
            "conv5_block1_1_bn False float32 <Policy \"mixed_float16\">\n",
            "conv5_block1_1_relu False float32 <Policy \"mixed_float16\">\n",
            "conv5_block1_2_conv False float32 <Policy \"mixed_float16\">\n",
            "conv5_block1_2_bn False float32 <Policy \"mixed_float16\">\n",
            "conv5_block1_2_relu False float32 <Policy \"mixed_float16\">\n",
            "conv5_block1_0_conv False float32 <Policy \"mixed_float16\">\n",
            "conv5_block1_3_conv False float32 <Policy \"mixed_float16\">\n",
            "conv5_block1_0_bn False float32 <Policy \"mixed_float16\">\n",
            "conv5_block1_3_bn False float32 <Policy \"mixed_float16\">\n",
            "conv5_block1_add False float32 <Policy \"mixed_float16\">\n",
            "conv5_block1_out False float32 <Policy \"mixed_float16\">\n",
            "conv5_block2_1_conv False float32 <Policy \"mixed_float16\">\n",
            "conv5_block2_1_bn False float32 <Policy \"mixed_float16\">\n",
            "conv5_block2_1_relu False float32 <Policy \"mixed_float16\">\n",
            "conv5_block2_2_conv False float32 <Policy \"mixed_float16\">\n",
            "conv5_block2_2_bn False float32 <Policy \"mixed_float16\">\n",
            "conv5_block2_2_relu False float32 <Policy \"mixed_float16\">\n",
            "conv5_block2_3_conv False float32 <Policy \"mixed_float16\">\n",
            "conv5_block2_3_bn False float32 <Policy \"mixed_float16\">\n",
            "conv5_block2_add False float32 <Policy \"mixed_float16\">\n",
            "conv5_block2_out False float32 <Policy \"mixed_float16\">\n",
            "conv5_block3_1_conv False float32 <Policy \"mixed_float16\">\n",
            "conv5_block3_1_bn False float32 <Policy \"mixed_float16\">\n",
            "conv5_block3_1_relu False float32 <Policy \"mixed_float16\">\n",
            "conv5_block3_2_conv False float32 <Policy \"mixed_float16\">\n",
            "conv5_block3_2_bn False float32 <Policy \"mixed_float16\">\n",
            "conv5_block3_2_relu False float32 <Policy \"mixed_float16\">\n",
            "conv5_block3_3_conv False float32 <Policy \"mixed_float16\">\n",
            "conv5_block3_3_bn False float32 <Policy \"mixed_float16\">\n",
            "conv5_block3_add False float32 <Policy \"mixed_float16\">\n",
            "conv5_block3_out False float32 <Policy \"mixed_float16\">\n"
          ]
        }
      ]
    },
    {
      "cell_type": "markdown",
      "source": [
        "## Fit the Feature Extraction Model\n",
        "\n",
        "* Fit our feature extraction model\n",
        "* Later, we'll fine tune this model"
      ],
      "metadata": {
        "id": "AY-2Zml-512D"
      }
    },
    {
      "cell_type": "code",
      "source": [
        "# Fit our model\n",
        "\n",
        "tf.random.set_seed(2232)\n",
        "\n",
        "fe_history = model.fit(train_data,\n",
        "                       epochs=3,\n",
        "                       steps_per_epoch=len(train_data),\n",
        "                       validation_data=test_data,\n",
        "                       validation_steps=0.1 * len(test_data),\n",
        "                       callbacks=[callback_ckpt, create_tensorboard_callback(dir_name='training_logs', experiment_name='resnetFE')])"
      ],
      "metadata": {
        "colab": {
          "base_uri": "https://localhost:8080/"
        },
        "id": "4DWpJhE76Ksb",
        "outputId": "9affa039-a56d-4c53-a77e-c820081b3a47"
      },
      "execution_count": null,
      "outputs": [
        {
          "output_type": "stream",
          "name": "stdout",
          "text": [
            "Saving TensorBoard log files to: training_logs/resnetFE/20230504-191248\n",
            "Epoch 1/3\n",
            "315/315 [==============================] - ETA: 0s - loss: 2.7716 - accuracy: 0.0764"
          ]
        },
        {
          "output_type": "stream",
          "name": "stderr",
          "text": [
            "WARNING:tensorflow:Can save best model only with val_acc available, skipping.\n"
          ]
        },
        {
          "output_type": "stream",
          "name": "stdout",
          "text": [
            "\b\b\b\b\b\b\b\b\b\b\b\b\b\b\b\b\b\b\b\b\b\b\b\b\b\b\b\b\b\b\b\b\b\b\b\b\b\b\b\b\b\b\b\b\b\b\b\b\b\b\b\b\b\b\b\b\b\b\b\b\b\b\b\b\b\b\b\b\b\b\b\b\b\b\b\b\b\b\b\b\b\b\b\b\r315/315 [==============================] - 195s 556ms/step - loss: 2.7716 - accuracy: 0.0764 - val_loss: 2.7498 - val_accuracy: 0.0391\n",
            "Epoch 2/3\n",
            "315/315 [==============================] - ETA: 0s - loss: 2.7502 - accuracy: 0.0817"
          ]
        },
        {
          "output_type": "stream",
          "name": "stderr",
          "text": [
            "WARNING:tensorflow:Can save best model only with val_acc available, skipping.\n"
          ]
        },
        {
          "output_type": "stream",
          "name": "stdout",
          "text": [
            "\b\b\b\b\b\b\b\b\b\b\b\b\b\b\b\b\b\b\b\b\b\b\b\b\b\b\b\b\b\b\b\b\b\b\b\b\b\b\b\b\b\b\b\b\b\b\b\b\b\b\b\b\b\b\b\b\b\b\b\b\b\b\b\b\b\b\b\b\b\b\b\b\b\b\b\b\b\b\b\b\b\b\b\b\r315/315 [==============================] - 94s 296ms/step - loss: 2.7502 - accuracy: 0.0817 - val_loss: 2.7324 - val_accuracy: 0.0742\n",
            "Epoch 3/3\n",
            "315/315 [==============================] - ETA: 0s - loss: 2.7289 - accuracy: 0.0890"
          ]
        },
        {
          "output_type": "stream",
          "name": "stderr",
          "text": [
            "WARNING:tensorflow:Can save best model only with val_acc available, skipping.\n"
          ]
        },
        {
          "output_type": "stream",
          "name": "stdout",
          "text": [
            "\b\b\b\b\b\b\b\b\b\b\b\b\b\b\b\b\b\b\b\b\b\b\b\b\b\b\b\b\b\b\b\b\b\b\b\b\b\b\b\b\b\b\b\b\b\b\b\b\b\b\b\b\b\b\b\b\b\b\b\b\b\b\b\b\b\b\b\b\b\b\b\b\b\b\b\b\b\b\b\b\b\b\b\b\r315/315 [==============================] - 77s 245ms/step - loss: 2.7289 - accuracy: 0.0890 - val_loss: 2.7502 - val_accuracy: 0.0859\n"
          ]
        }
      ]
    },
    {
      "cell_type": "markdown",
      "source": [
        "WoohooO!\n",
        "\n",
        "The above model has a validation accuracy of about 7.03% (the first time this cell was run). This score is above random guessing, which is \\**checks notes*\\* 6.66%.\n",
        "\n",
        "Now, I just gotta figure out why my model's acting like a bunch of baloney.\n",
        "\n",
        "A first step would be upping the learning rate and epochs and seeing if my model's being bottlenecked in some capacity."
      ],
      "metadata": {
        "id": "wDfCBghXC6e6"
      }
    },
    {
      "cell_type": "code",
      "source": [
        "# Setting random seed\n",
        "\n",
        "tf.random.set_seed(2232)\n",
        "\n",
        "# Recompiling model\n",
        "\n",
        "model.compile(loss=tf.keras.losses.CategoricalCrossentropy(),\n",
        "              optimizer=tf.keras.optimizers.Adam(learning_rate=0.01),\n",
        "              metrics=['accuracy'])\n",
        "\n",
        "# Refitting the model with 5 epochs\n",
        "\n",
        "fe_upped_history = model.fit(train_data,\n",
        "                       epochs=5,\n",
        "                       steps_per_epoch=len(train_data),\n",
        "                       validation_data=test_data,\n",
        "                       validation_steps=0.1 * len(test_data),\n",
        "                       callbacks=[callback_ckpt, create_tensorboard_callback(dir_name='training_logs', experiment_name='resnetFEUpped')])"
      ],
      "metadata": {
        "colab": {
          "base_uri": "https://localhost:8080/"
        },
        "id": "I4IL9GREC9aw",
        "outputId": "bc8215f6-78dc-40b8-e79d-cb93d2f53338"
      },
      "execution_count": null,
      "outputs": [
        {
          "output_type": "stream",
          "name": "stdout",
          "text": [
            "Saving TensorBoard log files to: training_logs/resnetFEUpped/20230504-193530\n",
            "Epoch 1/5\n",
            "315/315 [==============================] - ETA: 0s - loss: 5.1308 - accuracy: 0.0704"
          ]
        },
        {
          "output_type": "stream",
          "name": "stderr",
          "text": [
            "WARNING:tensorflow:Can save best model only with val_acc available, skipping.\n"
          ]
        },
        {
          "output_type": "stream",
          "name": "stdout",
          "text": [
            "\b\b\b\b\b\b\b\b\b\b\b\b\b\b\b\b\b\b\b\b\b\b\b\b\b\b\b\b\b\b\b\b\b\b\b\b\b\b\b\b\b\b\b\b\b\b\b\b\b\b\b\b\b\b\b\b\b\b\b\b\b\b\b\b\b\b\b\b\b\b\b\b\b\b\b\b\b\b\b\b\b\b\b\b\r315/315 [==============================] - 179s 444ms/step - loss: 5.1308 - accuracy: 0.0704 - val_loss: 5.0206 - val_accuracy: 0.0781\n",
            "Epoch 2/5\n",
            "315/315 [==============================] - ETA: 0s - loss: 5.3735 - accuracy: 0.0721"
          ]
        },
        {
          "output_type": "stream",
          "name": "stderr",
          "text": [
            "WARNING:tensorflow:Can save best model only with val_acc available, skipping.\n"
          ]
        },
        {
          "output_type": "stream",
          "name": "stdout",
          "text": [
            "\b\b\b\b\b\b\b\b\b\b\b\b\b\b\b\b\b\b\b\b\b\b\b\b\b\b\b\b\b\b\b\b\b\b\b\b\b\b\b\b\b\b\b\b\b\b\b\b\b\b\b\b\b\b\b\b\b\b\b\b\b\b\b\b\b\b\b\b\b\b\b\b\b\b\b\b\b\b\b\b\b\b\b\b\r315/315 [==============================] - 91s 287ms/step - loss: 5.3735 - accuracy: 0.0721 - val_loss: 4.7149 - val_accuracy: 0.0820\n",
            "Epoch 3/5\n",
            "315/315 [==============================] - ETA: 0s - loss: 6.0607 - accuracy: 0.0835"
          ]
        },
        {
          "output_type": "stream",
          "name": "stderr",
          "text": [
            "WARNING:tensorflow:Can save best model only with val_acc available, skipping.\n"
          ]
        },
        {
          "output_type": "stream",
          "name": "stdout",
          "text": [
            "\b\b\b\b\b\b\b\b\b\b\b\b\b\b\b\b\b\b\b\b\b\b\b\b\b\b\b\b\b\b\b\b\b\b\b\b\b\b\b\b\b\b\b\b\b\b\b\b\b\b\b\b\b\b\b\b\b\b\b\b\b\b\b\b\b\b\b\b\b\b\b\b\b\b\b\b\b\b\b\b\b\b\b\b\r315/315 [==============================] - 74s 234ms/step - loss: 6.0607 - accuracy: 0.0835 - val_loss: 4.0352 - val_accuracy: 0.0938\n",
            "Epoch 4/5\n",
            "315/315 [==============================] - ETA: 0s - loss: 5.2382 - accuracy: 0.0848"
          ]
        },
        {
          "output_type": "stream",
          "name": "stderr",
          "text": [
            "WARNING:tensorflow:Can save best model only with val_acc available, skipping.\n"
          ]
        },
        {
          "output_type": "stream",
          "name": "stdout",
          "text": [
            "\b\b\b\b\b\b\b\b\b\b\b\b\b\b\b\b\b\b\b\b\b\b\b\b\b\b\b\b\b\b\b\b\b\b\b\b\b\b\b\b\b\b\b\b\b\b\b\b\b\b\b\b\b\b\b\b\b\b\b\b\b\b\b\b\b\b\b\b\b\b\b\b\b\b\b\b\b\b\b\b\b\b\b\b\r315/315 [==============================] - 70s 222ms/step - loss: 5.2382 - accuracy: 0.0848 - val_loss: 3.6361 - val_accuracy: 0.0820\n",
            "Epoch 5/5\n",
            "315/315 [==============================] - ETA: 0s - loss: 5.8341 - accuracy: 0.0808"
          ]
        },
        {
          "output_type": "stream",
          "name": "stderr",
          "text": [
            "WARNING:tensorflow:Can save best model only with val_acc available, skipping.\n"
          ]
        },
        {
          "output_type": "stream",
          "name": "stdout",
          "text": [
            "\b\b\b\b\b\b\b\b\b\b\b\b\b\b\b\b\b\b\b\b\b\b\b\b\b\b\b\b\b\b\b\b\b\b\b\b\b\b\b\b\b\b\b\b\b\b\b\b\b\b\b\b\b\b\b\b\b\b\b\b\b\b\b\b\b\b\b\b\b\b\b\b\b\b\b\b\b\b\b\b\b\b\b\b\r315/315 [==============================] - 66s 207ms/step - loss: 5.8341 - accuracy: 0.0808 - val_loss: 3.7767 - val_accuracy: 0.0898\n"
          ]
        }
      ]
    },
    {
      "cell_type": "markdown",
      "source": [
        "Started off promising, with 10% accuracy, but quickly dipped back down to 8%. Although it's better than before, it's still very, very, very suboptimal.\n",
        "\n",
        "I could run this for another billion epochs or so to see if it really does improve over time or not, but that would take millenia. So, I'm going to try something different: fine-tuning."
      ],
      "metadata": {
        "id": "PwszuRMyC9Ru"
      }
    },
    {
      "cell_type": "code",
      "source": [
        "# Unfreeze 30 layers for fine-tuning\n",
        "\n",
        "tf.random.set_seed(2232)\n",
        "\n",
        "base_model.trainable = True\n",
        "\n",
        "for layer in base_model.layers[:-30]:\n",
        "  layer.trainable = False"
      ],
      "metadata": {
        "id": "BBfCn5nhP0wS"
      },
      "execution_count": null,
      "outputs": []
    },
    {
      "cell_type": "code",
      "source": [
        "# Recompile the model\n",
        "\n",
        "tf.random.set_seed(2232)\n",
        "\n",
        "model.compile(loss='categorical_crossentropy',\n",
        "              optimizer=tf.keras.optimizers.Adam(),\n",
        "              metrics=['accuracy'])"
      ],
      "metadata": {
        "id": "-RCKZfc3C9Hn"
      },
      "execution_count": null,
      "outputs": []
    },
    {
      "cell_type": "code",
      "source": [
        "# Fine tune for another 5 epochs -> See if it improves\n",
        "\n",
        "ft_history = model.fit(train_data,\n",
        "                       epochs=10,\n",
        "                       steps_per_epoch=len(train_data),\n",
        "                       initial_epoch=fe_upped_history.epoch[-1],\n",
        "                       validation_data=test_data,\n",
        "                       validation_steps=0.1 * len(test_data),\n",
        "                       callbacks=[callback_ckpt, create_tensorboard_callback(dir_name='training_logs', experiment_name='resnetFT')])"
      ],
      "metadata": {
        "colab": {
          "base_uri": "https://localhost:8080/"
        },
        "id": "5RpL02YPC8_f",
        "outputId": "2f9a095f-d15c-4245-dca5-4a4c587129a4"
      },
      "execution_count": null,
      "outputs": [
        {
          "output_type": "stream",
          "name": "stdout",
          "text": [
            "Saving TensorBoard log files to: training_logs/resnetFT/20230504-194431\n",
            "Epoch 5/10\n",
            "315/315 [==============================] - ETA: 0s - loss: 4.7377 - accuracy: 0.0715"
          ]
        },
        {
          "output_type": "stream",
          "name": "stderr",
          "text": [
            "WARNING:tensorflow:Can save best model only with val_acc available, skipping.\n"
          ]
        },
        {
          "output_type": "stream",
          "name": "stdout",
          "text": [
            "\b\b\b\b\b\b\b\b\b\b\b\b\b\b\b\b\b\b\b\b\b\b\b\b\b\b\b\b\b\b\b\b\b\b\b\b\b\b\b\b\b\b\b\b\b\b\b\b\b\b\b\b\b\b\b\b\b\b\b\b\b\b\b\b\b\b\b\b\b\b\b\b\b\b\b\b\b\b\b\b\b\b\b\b\r315/315 [==============================] - 85s 241ms/step - loss: 4.7377 - accuracy: 0.0715 - val_loss: 2.7029 - val_accuracy: 0.0820\n",
            "Epoch 6/10\n",
            "315/315 [==============================] - ETA: 0s - loss: 2.7160 - accuracy: 0.0813"
          ]
        },
        {
          "output_type": "stream",
          "name": "stderr",
          "text": [
            "WARNING:tensorflow:Can save best model only with val_acc available, skipping.\n"
          ]
        },
        {
          "output_type": "stream",
          "name": "stdout",
          "text": [
            "\b\b\b\b\b\b\b\b\b\b\b\b\b\b\b\b\b\b\b\b\b\b\b\b\b\b\b\b\b\b\b\b\b\b\b\b\b\b\b\b\b\b\b\b\b\b\b\b\b\b\b\b\b\b\b\b\b\b\b\b\b\b\b\b\b\b\b\b\b\b\b\b\b\b\b\b\b\b\b\b\b\b\b\b\r315/315 [==============================] - 63s 200ms/step - loss: 2.7160 - accuracy: 0.0813 - val_loss: 2.7350 - val_accuracy: 0.0898\n",
            "Epoch 7/10\n",
            "315/315 [==============================] - ETA: 0s - loss: 2.6820 - accuracy: 0.0877"
          ]
        },
        {
          "output_type": "stream",
          "name": "stderr",
          "text": [
            "WARNING:tensorflow:Can save best model only with val_acc available, skipping.\n"
          ]
        },
        {
          "output_type": "stream",
          "name": "stdout",
          "text": [
            "\b\b\b\b\b\b\b\b\b\b\b\b\b\b\b\b\b\b\b\b\b\b\b\b\b\b\b\b\b\b\b\b\b\b\b\b\b\b\b\b\b\b\b\b\b\b\b\b\b\b\b\b\b\b\b\b\b\b\b\b\b\b\b\b\b\b\b\b\b\b\b\b\b\b\b\b\b\b\b\b\b\b\b\b\r315/315 [==============================] - 64s 201ms/step - loss: 2.6820 - accuracy: 0.0877 - val_loss: 2.6376 - val_accuracy: 0.1211\n",
            "Epoch 8/10\n",
            "315/315 [==============================] - ETA: 0s - loss: 2.6466 - accuracy: 0.1011"
          ]
        },
        {
          "output_type": "stream",
          "name": "stderr",
          "text": [
            "WARNING:tensorflow:Can save best model only with val_acc available, skipping.\n"
          ]
        },
        {
          "output_type": "stream",
          "name": "stdout",
          "text": [
            "\b\b\b\b\b\b\b\b\b\b\b\b\b\b\b\b\b\b\b\b\b\b\b\b\b\b\b\b\b\b\b\b\b\b\b\b\b\b\b\b\b\b\b\b\b\b\b\b\b\b\b\b\b\b\b\b\b\b\b\b\b\b\b\b\b\b\b\b\b\b\b\b\b\b\b\b\b\b\b\b\b\b\b\b\r315/315 [==============================] - 61s 194ms/step - loss: 2.6466 - accuracy: 0.1011 - val_loss: 2.6203 - val_accuracy: 0.1055\n",
            "Epoch 9/10\n",
            "315/315 [==============================] - ETA: 0s - loss: 2.6338 - accuracy: 0.1055"
          ]
        },
        {
          "output_type": "stream",
          "name": "stderr",
          "text": [
            "WARNING:tensorflow:Can save best model only with val_acc available, skipping.\n"
          ]
        },
        {
          "output_type": "stream",
          "name": "stdout",
          "text": [
            "\b\b\b\b\b\b\b\b\b\b\b\b\b\b\b\b\b\b\b\b\b\b\b\b\b\b\b\b\b\b\b\b\b\b\b\b\b\b\b\b\b\b\b\b\b\b\b\b\b\b\b\b\b\b\b\b\b\b\b\b\b\b\b\b\b\b\b\b\b\b\b\b\b\b\b\b\b\b\b\b\b\b\b\b\r315/315 [==============================] - 59s 186ms/step - loss: 2.6338 - accuracy: 0.1055 - val_loss: 2.6097 - val_accuracy: 0.1250\n",
            "Epoch 10/10\n",
            "315/315 [==============================] - ETA: 0s - loss: 2.6271 - accuracy: 0.1096"
          ]
        },
        {
          "output_type": "stream",
          "name": "stderr",
          "text": [
            "WARNING:tensorflow:Can save best model only with val_acc available, skipping.\n"
          ]
        },
        {
          "output_type": "stream",
          "name": "stdout",
          "text": [
            "\b\b\b\b\b\b\b\b\b\b\b\b\b\b\b\b\b\b\b\b\b\b\b\b\b\b\b\b\b\b\b\b\b\b\b\b\b\b\b\b\b\b\b\b\b\b\b\b\b\b\b\b\b\b\b\b\b\b\b\b\b\b\b\b\b\b\b\b\b\b\b\b\b\b\b\b\b\b\b\b\b\b\b\b\r315/315 [==============================] - 57s 178ms/step - loss: 2.6271 - accuracy: 0.1096 - val_loss: 2.6931 - val_accuracy: 0.1133\n"
          ]
        }
      ]
    },
    {
      "cell_type": "markdown",
      "source": [
        "So, it's better. After ten epochs of long and ardous training, it's better... by only four percent (11.33% val-acc let's goo babbbyyyy!)\n",
        "\n",
        "There has to be a better way than this, so I'm going to go under for a while and sniff around for better methods."
      ],
      "metadata": {
        "id": "fZrnxJKDC82v"
      }
    },
    {
      "cell_type": "code",
      "source": [],
      "metadata": {
        "id": "ZPBCsFKQC8s2"
      },
      "execution_count": null,
      "outputs": []
    },
    {
      "cell_type": "code",
      "source": [],
      "metadata": {
        "id": "W-Xb_S7_C8hO"
      },
      "execution_count": null,
      "outputs": []
    },
    {
      "cell_type": "code",
      "source": [],
      "metadata": {
        "id": "hcTVFqkTC8Tg"
      },
      "execution_count": null,
      "outputs": []
    },
    {
      "cell_type": "markdown",
      "source": [
        "### Creating and Training CCT\n",
        "\n",
        "I'm pretty much going to be straight up copying for now, just so I get a good idea of what this is actually all about."
      ],
      "metadata": {
        "id": "mii9cRqBC4Jh"
      }
    },
    {
      "cell_type": "code",
      "source": [
        "# Now, I'm going to construct the CCT based on the article given in the link above\n",
        "## Hyperparameters and consts\n",
        "\n",
        "positional_emb = True\n",
        "conv_layers = 2\n",
        "projection_dim = 128\n",
        "\n",
        "num_heads = 2\n",
        "transformer_units = [\n",
        "    projection_dim,\n",
        "    projection_dim\n",
        "]\n",
        "\n",
        "transformer_layers = 2\n",
        "stochastic_depth_rate = 0.1\n",
        "\n",
        "learning_rate = 0.001\n",
        "weight_decay = 0.0001\n",
        "batch_size = 32 # Because that's what my batches already are :)\n",
        "num_epochs = 5 # For now\n",
        "img_size = 224\n",
        "\n",
        "num_classes = 15\n",
        "input_shape = (224, 224, 3)\n"
      ],
      "metadata": {
        "id": "TU1tRgTcof66"
      },
      "execution_count": null,
      "outputs": []
    },
    {
      "cell_type": "code",
      "source": [
        "# The tokenizer\n",
        "\n",
        "class CCTTokenizer(layers.Layer):\n",
        "    def __init__(\n",
        "        self,\n",
        "        kernel_size=3,\n",
        "        stride=1,\n",
        "        padding=1,\n",
        "        pooling_kernel_size=3,\n",
        "        pooling_stride=2,\n",
        "        num_conv_layers=conv_layers,\n",
        "        num_output_channels=[64, 128],\n",
        "        positional_emb=positional_emb,\n",
        "        **kwargs,\n",
        "    ):\n",
        "        super().__init__(**kwargs)\n",
        "\n",
        "        # This is our tokenizer.\n",
        "        self.conv_model = keras.Sequential()\n",
        "        for i in range(num_conv_layers):\n",
        "            self.conv_model.add(\n",
        "                layers.Conv2D(\n",
        "                    num_output_channels[i],\n",
        "                    kernel_size,\n",
        "                    stride,\n",
        "                    padding=\"valid\",\n",
        "                    use_bias=False,\n",
        "                    activation=\"relu\",\n",
        "                    kernel_initializer=\"he_normal\",\n",
        "                )\n",
        "            )\n",
        "            self.conv_model.add(layers.ZeroPadding2D(padding))\n",
        "            self.conv_model.add(\n",
        "                layers.MaxPool2D(pooling_kernel_size, pooling_stride, \"same\")\n",
        "            )\n",
        "\n",
        "        self.positional_emb = positional_emb\n",
        "\n",
        "    def call(self, images):\n",
        "        outputs = self.conv_model(images)\n",
        "        # After passing the images through our mini-network the spatial dimensions\n",
        "        # are flattened to form sequences.\n",
        "        reshaped = tf.reshape(\n",
        "            outputs,\n",
        "            (-1, tf.shape(outputs)[1] * tf.shape(outputs)[2], tf.shape(outputs)[-1]),\n",
        "        )\n",
        "        return reshaped\n",
        "\n",
        "    def positional_embedding(self, image_size):\n",
        "        # Positional embeddings are optional in CCT. Here, we calculate\n",
        "        # the number of sequences and initialize an `Embedding` layer to\n",
        "        # compute the positional embeddings later.\n",
        "        if self.positional_emb:\n",
        "            dummy_inputs = tf.ones((1, image_size, image_size, 3))\n",
        "            dummy_outputs = self.call(dummy_inputs)\n",
        "            sequence_length = tf.shape(dummy_outputs)[1]\n",
        "            projection_dim = tf.shape(dummy_outputs)[-1]\n",
        "\n",
        "            embed_layer = layers.Embedding(\n",
        "                input_dim=sequence_length, output_dim=projection_dim\n",
        "            )\n",
        "            return embed_layer, sequence_length\n",
        "        else:\n",
        "            return None"
      ],
      "metadata": {
        "id": "o7MDrtl1XeA8"
      },
      "execution_count": null,
      "outputs": []
    },
    {
      "cell_type": "code",
      "source": [
        "class StochasticDepth(layers.Layer):\n",
        "    def __init__(self, drop_prop, **kwargs):\n",
        "        super().__init__(**kwargs)\n",
        "        self.drop_prob = drop_prop\n",
        "\n",
        "    def call(self, x, training=None):\n",
        "        if training:\n",
        "            keep_prob = 1 - self.drop_prob\n",
        "            shape = (tf.shape(x)[0],) + (1,) * (tf.shape(x).shape[0] - 1)\n",
        "            random_tensor = keep_prob + tf.random.uniform(shape, 0, 1)\n",
        "            random_tensor = tf.floor(random_tensor)\n",
        "            return (x / keep_prob) * tf.cast(random_tensor, tf.float16)\n",
        "        return x"
      ],
      "metadata": {
        "id": "iGsPTj__1DM2"
      },
      "execution_count": null,
      "outputs": []
    },
    {
      "cell_type": "code",
      "source": [
        "def mlp(x, hidden_units, dropout_rate):\n",
        "    for units in hidden_units:\n",
        "        x = layers.Dense(units, activation=tf.nn.gelu)(x)\n",
        "        x = layers.Dropout(dropout_rate)(x)\n",
        "    return x"
      ],
      "metadata": {
        "id": "czoMmuxh1GI9"
      },
      "execution_count": null,
      "outputs": []
    },
    {
      "cell_type": "code",
      "source": [
        "# Note the rescaling layer. These layers have pre-defined inference behavior.\n",
        "data_augmentation = keras.Sequential(\n",
        "    [\n",
        "        layers.Rescaling(scale=1.0 / 255),\n",
        "        layers.RandomCrop(img_size, img_size),\n",
        "        layers.RandomFlip(\"horizontal\"),\n",
        "    ],\n",
        "    name=\"data_augmentation\",\n",
        ")"
      ],
      "metadata": {
        "id": "M0JUWEJL1PRG"
      },
      "execution_count": null,
      "outputs": []
    },
    {
      "cell_type": "code",
      "source": [
        "def create_cct_model(\n",
        "    image_size=img_size,\n",
        "    input_shape=input_shape,\n",
        "    num_heads=num_heads,\n",
        "    projection_dim=projection_dim,\n",
        "    transformer_units=transformer_units,\n",
        "):\n",
        "\n",
        "    inputs = layers.Input(input_shape)\n",
        "\n",
        "    # Augment data.\n",
        "    augmented = data_augmentation(inputs)\n",
        "\n",
        "    # Encode patches.\n",
        "    cct_tokenizer = CCTTokenizer()\n",
        "    encoded_patches = cct_tokenizer(augmented)\n",
        "\n",
        "    # Apply positional embedding.\n",
        "    if positional_emb:\n",
        "        pos_embed, seq_length = cct_tokenizer.positional_embedding(img_size)\n",
        "        positions = tf.range(start=0, limit=seq_length, delta=1)\n",
        "        position_embeddings = pos_embed(positions)\n",
        "        encoded_patches += position_embeddings\n",
        "\n",
        "    # Calculate Stochastic Depth probabilities.\n",
        "    dpr = [x for x in np.linspace(0, stochastic_depth_rate, transformer_layers)]\n",
        "\n",
        "    # Create multiple layers of the Transformer block.\n",
        "    for i in range(transformer_layers):\n",
        "        # Layer normalization 1.\n",
        "        x1 = layers.LayerNormalization(epsilon=1e-5)(encoded_patches)\n",
        "\n",
        "        # Create a multi-head attention layer.\n",
        "        attention_output = layers.MultiHeadAttention(\n",
        "            num_heads=num_heads, key_dim=projection_dim, dropout=0.1\n",
        "        )(x1, x1)\n",
        "\n",
        "        # Skip connection 1.\n",
        "        attention_output = StochasticDepth(dpr[i])(attention_output)\n",
        "        x2 = layers.Add()([attention_output, encoded_patches])\n",
        "\n",
        "        # Layer normalization 2.\n",
        "        x3 = layers.LayerNormalization(epsilon=1e-5)(x2)\n",
        "\n",
        "        # MLP.\n",
        "        x3 = mlp(x3, hidden_units=transformer_units, dropout_rate=0.1)\n",
        "\n",
        "        # Skip connection 2.\n",
        "        x3 = StochasticDepth(dpr[i])(x3)\n",
        "        encoded_patches = layers.Add()([x3, x2])\n",
        "\n",
        "    # Apply sequence pooling.\n",
        "    representation = layers.LayerNormalization(epsilon=1e-5)(encoded_patches)\n",
        "    attention_weights = tf.nn.softmax(layers.Dense(1)(representation), axis=1)\n",
        "    weighted_representation = tf.matmul(\n",
        "        attention_weights, representation, transpose_a=True\n",
        "    )\n",
        "    weighted_representation = tf.squeeze(weighted_representation, -2)\n",
        "\n",
        "    # Classify outputs.\n",
        "    logits = layers.Dense(num_classes)(weighted_representation)\n",
        "    # Create the Keras model.\n",
        "    model = keras.Model(inputs=inputs, outputs=logits)\n",
        "    return model"
      ],
      "metadata": {
        "id": "Uq50bYOz1Hgd"
      },
      "execution_count": null,
      "outputs": []
    },
    {
      "cell_type": "code",
      "source": [
        "def run_experiment(model):\n",
        "    optimizer = tf.keras.optimizers.AdamW(learning_rate=0.001, weight_decay=0.0001)\n",
        "\n",
        "    model.compile(\n",
        "        optimizer=optimizer,\n",
        "        loss=keras.losses.CategoricalCrossentropy(\n",
        "            from_logits=True, label_smoothing=0.1\n",
        "        ),\n",
        "        metrics=[\n",
        "            keras.metrics.CategoricalAccuracy(name=\"accuracy\"),\n",
        "            keras.metrics.TopKCategoricalAccuracy(5, name=\"top-5-accuracy\"),\n",
        "        ],\n",
        "    )\n",
        "\n",
        "    checkpoint_filepath = \"/tmp/checkpoint\"\n",
        "    checkpoint_callback = keras.callbacks.ModelCheckpoint(\n",
        "        checkpoint_filepath,\n",
        "        monitor=\"val_accuracy\",\n",
        "        save_best_only=True,\n",
        "        save_weights_only=True,\n",
        "    )\n",
        "\n",
        "    history = model.fit(\n",
        "        train_data,\n",
        "        batch_size=batch_size,\n",
        "        epochs=num_epochs,\n",
        "        validation_data=test_data,\n",
        "        validation_steps=0.1 * len(test_data),\n",
        "        callbacks=[checkpoint_callback],\n",
        "    )\n",
        "\n",
        "    model.load_weights(checkpoint_filepath)\n",
        "    _, accuracy, top_5_accuracy = model.evaluate(test_data)\n",
        "    print(f\"Test accuracy: {round(accuracy * 100, 2)}%\")\n",
        "    print(f\"Test top 5 accuracy: {round(top_5_accuracy * 100, 2)}%\")\n",
        "\n",
        "    return history\n",
        "\n",
        "\n"
      ],
      "metadata": {
        "id": "6ASYaWT11Kc1"
      },
      "execution_count": null,
      "outputs": []
    },
    {
      "cell_type": "code",
      "source": [
        "cct_model = create_cct_model()\n",
        "history = run_experiment(cct_model)"
      ],
      "metadata": {
        "id": "wrv5cfa17Cf4"
      },
      "execution_count": null,
      "outputs": []
    },
    {
      "cell_type": "markdown",
      "source": [
        "At 27.74% accuracy, that's about the best results yet. Let's goooooo!"
      ],
      "metadata": {
        "id": "-G4ypCZp2gwV"
      }
    },
    {
      "cell_type": "markdown",
      "source": [
        "I'm going to do the same thing as above, but just set the epochs to 15 & increase the number of layers and stuff by 1."
      ],
      "metadata": {
        "id": "wi6o_0tpHyQn"
      }
    },
    {
      "cell_type": "code",
      "source": [
        "\n",
        "conv_layers = 3\n",
        "num_heads = 3\n",
        "transformer_layers = 3\n",
        "num_epochs = 15 # For now\n",
        "\n",
        "\n",
        "\n",
        "cct_model = create_cct_model()\n",
        "history = run_experiment(cct_model)"
      ],
      "metadata": {
        "colab": {
          "base_uri": "https://localhost:8080/"
        },
        "id": "lSr2fPI769OA",
        "outputId": "c8d9dc2c-e483-4c4f-fad7-2661f6dfcae1"
      },
      "execution_count": null,
      "outputs": [
        {
          "output_type": "stream",
          "name": "stdout",
          "text": [
            "Epoch 1/15\n",
            "315/315 [==============================] - 333s 985ms/step - loss: 2.6994 - accuracy: 0.1143 - top-5-accuracy: 0.4356 - val_loss: 2.5903 - val_accuracy: 0.1914 - val_top-5-accuracy: 0.5312\n",
            "Epoch 2/15\n",
            "315/315 [==============================] - 313s 992ms/step - loss: 2.5191 - accuracy: 0.1813 - top-5-accuracy: 0.5715 - val_loss: 2.4634 - val_accuracy: 0.2305 - val_top-5-accuracy: 0.5742\n",
            "Epoch 3/15\n",
            "315/315 [==============================] - 313s 993ms/step - loss: 2.4358 - accuracy: 0.2216 - top-5-accuracy: 0.6294 - val_loss: 2.4551 - val_accuracy: 0.2266 - val_top-5-accuracy: 0.6289\n",
            "Epoch 4/15\n",
            "315/315 [==============================] - 311s 987ms/step - loss: 2.3745 - accuracy: 0.2401 - top-5-accuracy: 0.6725 - val_loss: 2.3992 - val_accuracy: 0.2070 - val_top-5-accuracy: 0.6680\n",
            "Epoch 5/15\n",
            "315/315 [==============================] - 314s 997ms/step - loss: 2.3357 - accuracy: 0.2644 - top-5-accuracy: 0.6912 - val_loss: 2.3408 - val_accuracy: 0.3242 - val_top-5-accuracy: 0.6875\n",
            "Epoch 6/15\n",
            "315/315 [==============================] - 314s 996ms/step - loss: 2.2895 - accuracy: 0.2787 - top-5-accuracy: 0.7068 - val_loss: 2.2388 - val_accuracy: 0.3281 - val_top-5-accuracy: 0.7422\n",
            "Epoch 7/15\n",
            "315/315 [==============================] - 313s 991ms/step - loss: 2.2573 - accuracy: 0.3004 - top-5-accuracy: 0.7242 - val_loss: 2.2175 - val_accuracy: 0.2969 - val_top-5-accuracy: 0.7227\n",
            "Epoch 8/15\n",
            "315/315 [==============================] - 315s 997ms/step - loss: 2.2278 - accuracy: 0.3100 - top-5-accuracy: 0.7368 - val_loss: 2.2324 - val_accuracy: 0.3320 - val_top-5-accuracy: 0.6914\n",
            "Epoch 9/15\n",
            "315/315 [==============================] - 313s 993ms/step - loss: 2.1793 - accuracy: 0.3338 - top-5-accuracy: 0.7543 - val_loss: 2.2048 - val_accuracy: 0.3086 - val_top-5-accuracy: 0.7422\n",
            "Epoch 10/15\n",
            "315/315 [==============================] - 316s 1s/step - loss: 2.1608 - accuracy: 0.3328 - top-5-accuracy: 0.7646 - val_loss: 2.1584 - val_accuracy: 0.3203 - val_top-5-accuracy: 0.7422\n",
            "Epoch 11/15\n",
            "315/315 [==============================] - 315s 998ms/step - loss: 2.1407 - accuracy: 0.3455 - top-5-accuracy: 0.7707 - val_loss: 2.1227 - val_accuracy: 0.3516 - val_top-5-accuracy: 0.7734\n",
            "Epoch 12/15\n",
            "315/315 [==============================] - 315s 1s/step - loss: 2.1117 - accuracy: 0.3565 - top-5-accuracy: 0.7808 - val_loss: 2.1460 - val_accuracy: 0.3594 - val_top-5-accuracy: 0.7852\n",
            "Epoch 13/15\n",
            "315/315 [==============================] - 313s 994ms/step - loss: 2.0820 - accuracy: 0.3639 - top-5-accuracy: 0.7950 - val_loss: 2.0762 - val_accuracy: 0.3750 - val_top-5-accuracy: 0.7734\n",
            "Epoch 14/15\n",
            "315/315 [==============================] - 313s 993ms/step - loss: 2.0719 - accuracy: 0.3729 - top-5-accuracy: 0.7937 - val_loss: 2.0338 - val_accuracy: 0.3945 - val_top-5-accuracy: 0.7930\n",
            "Epoch 15/15\n",
            "315/315 [==============================] - 315s 1s/step - loss: 2.0495 - accuracy: 0.3831 - top-5-accuracy: 0.8023 - val_loss: 2.0543 - val_accuracy: 0.3867 - val_top-5-accuracy: 0.8008\n",
            "79/79 [==============================] - 26s 332ms/step - loss: 2.1041 - accuracy: 0.3587 - top-5-accuracy: 0.7766\n",
            "Test accuracy: 35.87%\n",
            "Test top 5 accuracy: 77.66%\n"
          ]
        }
      ]
    },
    {
      "cell_type": "markdown",
      "source": [
        "An hour and twenty minutes of training has yield a 35.87% test accuracy. This is slow progress, but progress all the same! I'll see if I'm able to speed it up somehow. For now, I'm going to manually download the model weights for later usage."
      ],
      "metadata": {
        "id": "r6xiEUyB7V_x"
      }
    },
    {
      "cell_type": "code",
      "source": [
        "cct_model.save_weights('cct')"
      ],
      "metadata": {
        "id": "MD8X7gs5OA-J"
      },
      "execution_count": null,
      "outputs": []
    },
    {
      "cell_type": "code",
      "source": [
        "# h5 format\n",
        "\n",
        "cct_model.save_weights('cct_weights.h5')"
      ],
      "metadata": {
        "id": "axvAdQUeO0oJ"
      },
      "execution_count": null,
      "outputs": []
    },
    {
      "cell_type": "code",
      "source": [],
      "metadata": {
        "id": "ilQnwEx0O4Pv"
      },
      "execution_count": null,
      "outputs": []
    }
  ]
}